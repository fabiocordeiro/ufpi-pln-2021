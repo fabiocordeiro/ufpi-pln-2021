{
  "nbformat": 4,
  "nbformat_minor": 0,
  "metadata": {
    "colab": {
      "name": "WordEmbeddings_irregularidades.ipynb",
      "provenance": [],
      "collapsed_sections": []
    },
    "kernelspec": {
      "display_name": "Python 3",
      "name": "python3"
    },
    "language_info": {
      "name": "python"
    },
    "accelerator": "GPU"
  },
  "cells": [
    {
      "cell_type": "code",
      "metadata": {
        "colab": {
          "base_uri": "https://localhost:8080/"
        },
        "id": "d77npd9JCgJF",
        "outputId": "0efa3d82-7ff8-4fa0-ff6c-4e133c8a34ac"
      },
      "source": [
        "from google.colab import drive\n",
        "from gensim.models import KeyedVectors\n",
        "from gensim.models import Word2Vec\n",
        "from gensim.models import Doc2Vec\n",
        "from gensim.models.word2vec import LineSentence\n",
        "from gensim.test.utils import datapath\n",
        "from gensim import utils\n",
        "import matplotlib.pyplot as plt\n",
        "import pandas as pd\n",
        "import numpy as np\n",
        "import gensim\n",
        "from sklearn.manifold import TSNE\n",
        "from sklearn.feature_extraction.text import CountVectorizer, TfidfVectorizer\n",
        "from sklearn.model_selection import train_test_split\n",
        "from sklearn.neural_network import MLPClassifier\n",
        "from sklearn.linear_model import SGDClassifier\n",
        "from sklearn.metrics import classification_report\n",
        "import nltk\n",
        "from nltk.corpus import stopwords\n",
        "from nltk import word_tokenize\n",
        "import re\n",
        "\n",
        "nltk.download('stopwords')\n",
        "nltk.download('punkt')"
      ],
      "execution_count": 1,
      "outputs": [
        {
          "output_type": "stream",
          "name": "stdout",
          "text": [
            "[nltk_data] Downloading package stopwords to /root/nltk_data...\n",
            "[nltk_data]   Unzipping corpora/stopwords.zip.\n",
            "[nltk_data] Downloading package punkt to /root/nltk_data...\n",
            "[nltk_data]   Unzipping tokenizers/punkt.zip.\n"
          ]
        },
        {
          "output_type": "execute_result",
          "data": {
            "text/plain": [
              "True"
            ]
          },
          "metadata": {},
          "execution_count": 1
        }
      ]
    },
    {
      "cell_type": "code",
      "metadata": {
        "colab": {
          "base_uri": "https://localhost:8080/"
        },
        "id": "GJcyMZaHC-8w",
        "outputId": "6949cdf1-b3a7-48ea-8e4d-fae4e2b15b0f"
      },
      "source": [
        "drive.mount('/content/drive')\n",
        "path = \"drive/MyDrive/Colab Notebooks/Topicos/dados\""
      ],
      "execution_count": 3,
      "outputs": [
        {
          "output_type": "stream",
          "name": "stdout",
          "text": [
            "Drive already mounted at /content/drive; to attempt to forcibly remount, call drive.mount(\"/content/drive\", force_remount=True).\n"
          ]
        }
      ]
    },
    {
      "cell_type": "markdown",
      "metadata": {
        "id": "lILA1ZPphD-t"
      },
      "source": [
        "# Bag of Words"
      ]
    },
    {
      "cell_type": "code",
      "metadata": {
        "id": "XJSOwyDveHbO"
      },
      "source": [
        "def to_lowercase(data):\n",
        "    return [line.replace(line, line.lower()) for line in data]\n",
        "\n",
        "def remove_stopwords(data):\n",
        "    stop_words = stopwords.words('portuguese')\n",
        "    splited_tokens = [word_tokenize(line, language='portuguese') for line in data]\n",
        "    filtered_tokens = splited_tokens\n",
        "\n",
        "    for line in filtered_tokens:\n",
        "      for word in line:\n",
        "        if word in stop_words:\n",
        "          line.remove(word)\n",
        "\n",
        "    return filtered_tokens\n",
        "\n",
        "def remove_punct(data):\n",
        "    #regex para tudo que não for [A-Za-Z0-9] e espaçamento \n",
        "    return [re.sub(r'[^\\w\\s]', '', str(line)) for line in data]\n",
        "\n",
        "def preprocess_text(data):\n",
        "    \n",
        "    #data = remove_punct(data)\n",
        "    #data = to_lowercase(data)\n",
        "    data = remove_stopwords(data)\n",
        "\n",
        "    return data        "
      ],
      "execution_count": 9,
      "outputs": []
    },
    {
      "cell_type": "markdown",
      "metadata": {
        "id": "CcGYPCu4ch2B"
      },
      "source": [
        "# Word2Vec"
      ]
    },
    {
      "cell_type": "code",
      "metadata": {
        "id": "AvYE1YzxCpHD"
      },
      "source": [
        "def get_data_for_embbedings():\n",
        "    \n",
        "    denuncias = pd.read_csv(path+'/irregularidades.csv', sep=',')\n",
        "    data = []\n",
        "    data.extend(denuncias['text'].values)\n",
        "\n",
        "    return data\n",
        "\n",
        "def train_and_save(vec_size, method):\n",
        "\n",
        "    embedding_data = get_data_for_embbedings() \n",
        "    sents = preprocess_text(embedding_data)\n",
        "    model = Word2Vec(sentences = sents, sg = method, window=4, min_count=1, sample=1e-4, workers=5)\n",
        "    if method == 0:\n",
        "      file_name = 'cbow_' + str(vec_size)+ '_word2vec.model'\n",
        "    else:\n",
        "      file_name = 'skip_' + str(vec_size)+ '_word2vec.model'\n",
        "\n",
        "    model.save(path+'/'+ file_name)\n",
        "\n",
        "from sklearn.manifold import TSNE\n",
        "\n",
        "def display_closestwords_tsnescatterplot(model, word, size):\n",
        "    \n",
        "    arr = np.empty((0,size), dtype='f')\n",
        "    word_labels = [word]\n",
        "    close_words = model.wv.similar_by_word(word)\n",
        "    arr = np.append(arr, np.array([model.wv[word]]), axis=0)\n",
        "    for wrd_score in close_words:\n",
        "        wrd_vector = model.wv[wrd_score[0]]\n",
        "        word_labels.append(wrd_score[0])\n",
        "        arr = np.append(arr, np.array([wrd_vector]), axis=0)\n",
        "        \n",
        "    tsne = TSNE(n_components=2, random_state=0)\n",
        "    np.set_printoptions(suppress=True)\n",
        "    Y = tsne.fit_transform(arr)\n",
        "    x_coords = Y[:, 0]\n",
        "    y_coords = Y[:, 1]\n",
        "    plt.scatter(x_coords, y_coords)\n",
        "    \n",
        "    for label, x, y in zip(word_labels, x_coords, y_coords):\n",
        "        plt.annotate(label, xy=(x, y), xytext=(0, 0), textcoords='offset points')\n",
        "        plt.xlim(x_coords.min()+0.00005, x_coords.max()+0.00005)\n",
        "        plt.ylim(y_coords.min()+0.00005, y_coords.max()+0.00005)\n",
        "    plt.show()"
      ],
      "execution_count": 10,
      "outputs": []
    },
    {
      "cell_type": "markdown",
      "metadata": {
        "id": "vPBQBDhPX0go"
      },
      "source": [
        "## Criação das embeddings Word2Vec"
      ]
    },
    {
      "cell_type": "code",
      "metadata": {
        "colab": {
          "base_uri": "https://localhost:8080/"
        },
        "id": "poUxYBr5b8em",
        "outputId": "655526c7-1955-4ec4-ef91-ebcc38a0a37f"
      },
      "source": [
        "###Treino da Embedding###\n",
        "vec_size = 100\n",
        "# value 0 for CBOW(default), and 1 for skip gram\n",
        "algorithm = 0\n",
        "train_and_save(vec_size, algorithm)\n",
        "print('Vector size ' + str(vec_size) + ' done!')\n",
        "algorithm = 1\n",
        "train_and_save(vec_size, algorithm)\n",
        "print('Vector size ' + str(vec_size) + ' done!')\n"
      ],
      "execution_count": 11,
      "outputs": [
        {
          "output_type": "stream",
          "name": "stdout",
          "text": [
            "Vector size 100 done!\n",
            "Vector size 100 done!\n"
          ]
        }
      ]
    },
    {
      "cell_type": "markdown",
      "metadata": {
        "id": "rdPTfrb1YDQj"
      },
      "source": [
        "## Carregar as embbedings treinadas para uso"
      ]
    },
    {
      "cell_type": "code",
      "metadata": {
        "id": "9nLNUSr4YhBe"
      },
      "source": [
        "model_cbow_fp = path+'/cbow_100_word2vec.model'\n",
        "model_skip_fp = path+'/skip_100_word2vec.model'"
      ],
      "execution_count": 12,
      "outputs": []
    },
    {
      "cell_type": "markdown",
      "metadata": {
        "id": "qKQuQnSXHDMF"
      },
      "source": [
        "## CBOW"
      ]
    },
    {
      "cell_type": "code",
      "metadata": {
        "colab": {
          "base_uri": "https://localhost:8080/"
        },
        "id": "6Oy3t9IoH1gJ",
        "outputId": "138dbee0-f6c3-47dc-d84b-eaee69be6720"
      },
      "source": [
        "w2v_model = Word2Vec.load(model_cbow_fp)\n",
        "words = list(w2v_model.wv.vocab)\n",
        "print(words)"
      ],
      "execution_count": 13,
      "outputs": [
        {
          "output_type": "stream",
          "name": "stdout",
          "text": [
            "['licitacao', 'publicada', 'prazo', 'tce', 'dia', 'abertura', 'dados', 'orgao', 'publico', 'p', 'm', 'miguel', 'alves', 'processo', 'lw', 'procedimento', 'administrativo', 'tipo', 'objeto', 'obras', 'servicos', 'engenharia', 'contratacao', 'empresa', 'execucao', 'reformas', 'ubs', 'sao', 'municipio', 'dt', 'cadastro', 'ult', 'alteracao', 'venho', 'informar', 'atraves', 'deste', 'divergencia', 'valores', 'edital', 'planilha', 'orcamentaria', 'anexados', 'tribunal', 'contas', 'referente', 'tomada', 'precos', 'ndeg', 'secretaria', 'agronegocio', 'empreendedorismo', 'rural', 'constitui', 'presente', 'pavimentacao', 'paralelepipedo', 'vias', 'publicas', 'riacho', 'friopi', 'conforme', 'discriminadas', 'projeto', 'basico', 'mediante', 'regime', 'empreitada', 'preco', 'unitario', 'lagoa', 'sitio', 'compra', 'material', 'permanente', 'ramo', 'forma', 'parcelada', 'objetivando', 'fornecimento', 'equipamentos', 'informatica', 'suprir', 'necessidades', 'atividades', 'diarias', 'municipal', 'saude', 'exercicio', 'pedir', 'atestados', 'capacidade', 'tecnica', 'sendo', 'assim', 'empresas', 'novas', 'nao', 'poderao', 'participar', 'licitatorio', 'boa', 'tarde', 'exprefeito', 'massape', 'piaui', 'tomou', 'nenhuma', 'atitude', 'relacao', 'servidor', 'danilo', 'araujo', 'beserra', 'so', 'edcarlos', 'martins', 'ramos', 'atual', 'prefeito', 'rivaldo', 'carvalho', 'costa', 'nomeou', 'assessor', 'comunicacao', 'cuncunhado', 'situacao', 'decisoes', 'plenario', 'acatadas', 'desde', 'pessoal', 'peco', 'nome', 'mantido', 'sigilo', 'prezado', 'relator', 'jaylson', 'meio', 'denunciar', 'grave', 'joan', 'albuquerque', 'rocha', 'canavieira', 'gestor', 'receber', 'oficio', 'tc', 'ordenou', 'notificasse', 'funcionarios', 'cujo', 'tabela', 'desse', 'direito', 'ampla', 'defesa', 'contraditorio', 'servidores', 'ultimo', 'concurso', 'vista', 'necessidade', 'regularizacao', 'admissoes', 'ja', 'conhecimento', 'fato', 'inves', 'notificar', 'apresentar', 'simplismente', 'demitiu', 'solicito', 'senhor', 'tome', 'providencias', 'adote', 'medidas', 'frear', 'respeita', 'lei', 'desta', 'solicitar', 'diligencia', 'nesse', 'pois', 'mesma', 'pedindo', 'documentos', 'conta', 'tirando', 'outras', 'participarem', 'mostra', 'anexo', 'enviado', 'bocaina', 'aquisicao', 'bens', 'consumo', 'testes', 'covid', 'pi', 'semana', 'acontecendo', 'minimo', 'estranho', 'site', 'diario', 'oficial', 'municipios', 'conseguindo', 'acessar', 'publicacoes', 'exemplo', 'prefeitura', 'dias', 'anteriores', 'meses', 'janeiro', 'fevereiro', 'pedido', 'esclarecimentos', 'posso', 'acompanhar', 'vai', 'licitacoes', 'ver', 'deveria', 'servir', 'maximo', 'transparencia', 'acontece', 'dessa', 'natureza', 'francisco', 'sousa', 'coutinho', 'portal', 'gm', 'tomadas', 'lamentavel', 'camara', 'ilha', 'grande', 'consta', 'quadros', 'especial', 'controlador', 'interno', 'rebeca', 'andrade', 'pereira', 'cpf', 'servidora', 'efetiva', 'constituicao', 'estado', 'estabelecido', 'emenda', 'constitucional', 'acrescentou', 'artigo', 'estadual', 'ssss', 'prescrevem', 'seguinte', 'sso', 'titulares', 'orgaos', 'controle', 'poderes', 'serao', 'nomeados', 'dentre', 'integrantes', 'quadro', 'efetivo', 'cada', 'poder', 'instituicao', 'ambitos', 'mandato', 'tres', 'anos', 'observa', 'acima', 'alem', 'impor', 'nomeacao', 'cargo', 'determinou', 'regulamentacao', 'local', 'sistema', 'portanto', 'tratase', 'flagrante', 'desrespeito', 'bom', 'tempo', 'gostaria', 'comunicar', 'ministerio', 'tcepi', 'exoneracao', 'previa', 'jose', 'peixepi', 'ocorrido', 'atenciosamente', 'rodrigo', 'prezados', 'fazendo', 'pesquisa', 'sobre', 'publicacao', 'relatorios', 'gestao', 'estados', 'verifiquei', 'sefaz', 'controladoria', 'publicaram', 'todos', 'demonstrativos', 'alguns', 'arquivos', 'abrem', 'estao', 'incompletos', 'precisava', 'fiscal', 'publicados', 'ate', 'publicado', 'quadrimestre', 'exercicios', 'lrf', 'rgf', 'definido', 'preciso', 'informacoes', 'despesa', 'ativo', 'inativo', 'receita', 'corrente', 'liquida', 'solicitacao', 'tendo', 'obrigatoriedade', 'desses', 'entes', 'encaminharem', 'generos', 'alimenticios', 'pereciveis', 'destinados', 'educacao', 'excelencia', 'resultou', 'odon', 'veloso', 'sogro', 'vereador', 'tambem', 'pai', 'esposa', 'lucileide', 'epoca', 'ordenadora', 'despesas', 've', 'contratado', 'autorizou', 'ganhou', 'imoralidade', 'possivel', 'abuso', 'economico', 'inclusive', 'campanha', 'denuncio', 'ha', 'sete', 'consegui', 'fazer', 'geral', 'prestadores', 'devido', 'ponto', 'facultativo', 'segundo', 'funcionario', 'atendeu', 'h', 'recusou', 'adiamento', 'deg', 'antes', 'entao', 'menos', 'comissao', 'funcione', 'funcionaria', 'melhor', 'justo', 'tps', 'online', 'obrigado', 'piripiri', 'instrumento', 'deunciar', 'exigencia', 'exorbitante', 'havendo', 'qualificacao', 'relativo', 'quantitativos', 'exigindo', 'editais', 'nunca', 'ter', 'tais', 'exigencias', 'tudo', 'leva', 'crer', 'direcionamnto', 'favorecimento', 'chamada', 'dd', 'edificacoes', 'locacoes', 'servico', 'eirelime', 'cnpj', 'ser', 'favorecida', 'vencedora', 'porque', 'montada', 'atendo', 'documentacao', 'citada', 'cima', 'execulto', 'obra', 'todas', 'quantitativo', 'peso', 'vc', 'devidas', 'retirada', 'parte', 'obs', 'inrregularidade', 'pagina', 'restringindo', 'competitividade', 'favorecendo', 'apenas', 'especializada', 'construcao', 'praca', 'publica', 'irregularidade', 'pregao', 'presencial', 'realizacao', 'exames', 'laboratoriais', 'curraispi', 'julho', 'iniciou', 'procedimentos', 'relativos', 'sessao', 'sequencia', 'procedeu', 'identificacao', 'credenciamento', 'licitantes', 'respectivos', 'representantes', 'legais', 'ato', 'continuo', 'apos', 'envelopes', 'contendo', 'propostas', 'interrompida', 'sob', 'argumento', 'realizado', 'classificacao', 'bem', 'divulgado', 'imprensa', 'logo', 'email', 'convocacao', 'reabertura', 'ocorre', 'informada', 'hmin', 'anterior', 'aviso', 'disponibilizada', 'horario', 'posterior', 'eis', 'ofensa', 'principios', 'publicidade', 'razoabilidade', 'momento', 'suspensao', 'pregoeiro', 'deve', 'nova', 'data', 'continuidade', 'participantes', 'saindo', 'intimados', 'continuacao', 'trabalhos', 'ademais', 'determina', 'uniao', 'sempre', 'justificada', 'ainda', 'breve', 'entretanto', 'consignou', 'justificativa', 'tal', 'conduta', 'pautada', 'irregularidades', 'condutas', 'praticadas', 'cpl', 'currais', 'eivadas', 'vicios', 'requer', 'cancelamento', 'lancada', 'neste', 'canal', 'acontecimento', 'certame', 'ficando', 'muitos', 'impossibilitados', 'acesso', 'planilhas', 'par', 'participacao', 'hora', 'prestacao', 'pequenos', 'reparos', 'predios', 'publicos', 'horapiaui', 'ola', 'qualidade', 'cidadao', 'competente', 'cabiveis', 'campo', 'largo', 'homenagiando', 'expressos', 'administracao', 'quais', 'legalidade', 'impessoalidade', 'moralidade', 'eficiencia', 'referido', 'passivel', 'suspeitas', 'confiabilidade', 'lisura', 'inicialmente', 'acordo', 'cronograma', 'intem', 'resultado', 'final', 'definitivo', 'homologacao', 'entanto', 'hoje', 'disponibilizado', 'banca', 'responsavel', 'divulgacao', 'gabarito', 'pra', 'item', 'vale', 'ressaltar', 'entrei', 'contato', 'fale', 'conosco', 'infelizmente', 'nenhum', 'retorno', 'prezando', 'norteiam', 'pedese', 'padre', 'marcos', 'rapido', 'igg', 'igm', 'atender', 'marcospi', 'convite', 'repasses', 'atesta', 'aba', 'recursos', 'orcamentarios', 'afronta', 'sociedade', 'primeiro', 'viola', 'disposto', 'decreto', 'sequer', 'recomendado', 'fontetcu', 'visto', 'privilegia', 'competicao', 'facilita', 'conluio', 'desanima', 'acontecer', 'poe', 'xeque', 'seguranca', 'juridica', 'reclamacao', 'respeito', 'senhora', 'remedios', 'cidade', 'passou', 'realizar', 'fez', 'justica', 'inicio', 'vem', 'agindo', 'ma', 'fe', 'demonstrando', 'vontade', 'realizalo', 'lancamento', 'suspendeu', 'editando', 'pediu', 'continuasse', 'resolvesse', 'apontados', 'corrigiu', 'permitiu', 'andamento', 'onde', 'chegou', 'proximo', 'terminar', 'fim', 'lancado', 'livre', 'espontanea', 'numero', 'gigantesco', 'contratos', 'pedimos', 'esclareca', 'pontos', 'precisarem', 'disposicao', 'ajudar', 'inumeras', 'provas', 'funcoes', 'confianca', 'ricardo', 'viana', 'mazulo', 'denise', 'rego', 'chaves', 'jessica', 'alencar', 'filha', 'regina', 'parente', 'humberto', 'machado', 'genro', 'esposo', 'nomeacoes', 'parnaibapi', 'junte', 'portaria', 'elizabeth', 'goncalves', 'guimaraes', 'tia', 'gedison', 'rodrigues', 'trata', 'parentes', 'assis', 'pagou', 'decimo', 'terceiro', 'salario', 'professores', 'gostariamos', 'alguma', 'providencia', 'fiscalizacao', 'apresenta', 'varias', 'partes', 'inelegiveis', 'tornando', 'impossivel', 'proposta', 'correta', 'corrigir', 'erros', 'monsenhor', 'hipolito', 'bairro', 'dantas', 'hipolitopi', 'convenio', 's', 'genildo', 'soares', 'caxias', 'marinete', 'recebem', 'todo', 'mes', 'balancetes', 'porem', 'faz', 'seis', 'dar', 'aulas', 'professora', 'folha', 'pagamento', 'domingos', 'pedro', 'ii', 'lembrar', 'mourao', 'professor', 'batalha', 'efetivos', 'ano', 'vistos', 'sala', 'aula', 'colegios', 'daqui', 'intrigante', 'diarios', 'classe', 'aparecem', 'assinados', 'sabe', 'outros', 'realmente', 'dao', 'remuneracao', 'comenta', 'devolvem', 'dinheiro', 'julio', 'cesar', 'barbosa', 'franco', 'importante', 'investigar', 'caminho', 'saber', 'transferem', 'alguem', 'sacam', 'investigacao', 'punicao', 'responsaveis', 'supostos', 'crimes', 'cometidos', 'nomes', 'constam', 'fundeb', 'supramencionado', 'desnorteiam', 'preconiza', 'meramente', 'caprichosas', 'burocraticas', 'habilitacao', 'traz', 'b', 'ora', 'partir', 'art', 'trazem', 'necessarios', 'contidas', 'abusivas', 'senao', 'bastasse', 'entrega', 'apresentacao', 'autorizacao', 'emitida', 'setor', 'ambulancia', 'pequeno', 'devendo', 'alegre', 'zero', 'km', 'alegrepi', 'airton', 'dezembro', 'binha', 'diz', 'pagar', 'nesses', 'termos', 'exijo', 'cumprimento', 'bloqueio', 'pague', 'carater', 'urgencia', 'tratar', 'extrema', 'sustento', 'familia', 'vimos', 'temporarios', 'aparecam', 'httpportaltransparenciafacesindexxhtml', 'p=pau_darco_do_piaui', 'vez', 'recebido', 'valor', 'prestado', 'maioria', 'aparece', 'termo', 'impossibilita', 'averiguar', 'pessoas', 'trabalham', 'prestam', 'resumindo', 'pagas', 'omissao', 'salarios', 'anexamos', 'somente', 'confirmar', 'orcamento', 'desoneracao', 'utilizado', 'menor', 'faltando', 'rua', 'magno', 'pires', 'cidades', 'divinopi', 'relata', 'sra', 'vandelice', 'maria', 'lima', 'verde', 'lopes', 'vilarinho', 'exerce', 'gerente', 'enfermagem', 'hospital', 'norberto', 'moura', 'funcao', 'chefe', 'samu', 'elesbao', 'atua', 'enfermeira', 'plantonista', 'unidade', 'basica', 'picarra', 'substituicao', 'sr', 'getulio', 'portela', 'novembro', 'denuncia', 'controladora', 'internada', 'agua', 'brancapiaui', 'interna', 'nomeada', 'presidente', 'raimundo', 'almeida', 'santos', 'formacao', 'superior', 'analfabeta', 'ainterna', 'branca', 'totalmente', 'ilegal', 'imoral', 'total', 'coisa', 'desrespeitando', 'orientacoes', 'normas', 'propria', 'area', 'atitudes', 'elevo', 'votos', 'estima', 'consideracao', 'grato', 'atencao', 'mensagem', 'informardenunciar', 'laissa', 'morais', 'acumulando', 'cargos', 'irregular', 'ocupando', 'tecnico', 'legislativo', 'administrativa', 'alepi', 'empossada', 'recentemente', 'tecnologa', 'radiologia', 'teresina', 'fundacao', 'seletivo', 'legislacao', 'podem', 'acumulados', 'profissionais', 'pode', 'acumular', 'liguei', 'fms', 'informaram', 'denunciei', 'ouvidoria', 'apurem', 'demais', 'aprovados', 'aguardando', 'serem', 'convocados', 'vencer', 'agosto', 'lista', 'aprovadas', 'proxima', 'sentindo', 'injusticada', 'permitindo', 'irregularilegal', 'impedindo', 'proximas', 'convocacoes', 'caso', 'verifiquem', 'saido', 'favor', 'desconsiderar', 'fmsprefeitura', 'atuando', 'outro', 'permitido', 'obrigada', 'chamo', 'luis', 'entrando', 'sofrendo', 'transtornos', 'relacionada', 'piripiripi', 'vigia', 'concursado', 'questoes', 'oportunidades', 'resolve', 'exonerar', 'fiz', 'garantiram', 'vinculo', 'agora', 'trabalhando', 'privada', 'assinei', 'medida', 'provisoria', 'corona', 'virus', 'governo', 'beneficio', 'concedido', 'descobrir', 'referida', 'temo', 'usando', 'fantasma', 'disso', 'prejudicado', 'sobrevivendo', 'paga', 'queria', 'devo', 'proceder', 'vou', 'deixar', 'algumas', 'coletas', 'anexadas', 'lotes', 'pintura', 'iluminacao', 'eletrico', 'pertence', 'tio', 'trabalha', 'ana', 'barros', 'construcoes', 'simplicio', 'mendes', 'pp', 'hidraulico', 'mendespi', 'secretarias', 'bela', 'vinculos', 'parentesco', 'comissionados', 'desempenhada', 'marciano', 'tolentino', 'motorista', 'gabinete', 'nomeado', 'abril', 'primo', 'legitimo', 'neto', 'eliane', 'vice', 'gilvan', 'pessoa', 'intima', 'pertencente', 'configurado', 'nepotismo', 'possuir', 'espera', 'classificados', 'vigencia', 'valido', 'candidatos', 'selecionados', 'vagas', 'categorias', 'ofertadas', 'categoria', 'ocupada', 'dessas', 'assumirem', 'recebe', 'referentes', 'viagens', 'bastante', 'curioso', 'existe', 'empenho', 'entra', 'efetuar', 'implantacao', 'alto', 'longa', 'detectamos', 'seguintes', 'abusos', 'exigidos', 'exige', 'participante', 'apresente', 'certidao', 'positiva', 'efeito', 'negativa', 'deva', 'parcelamento', 'debitos', 'respectivo', 'garantias', 'dizem', 'aterse', 'validade', 'veracidade', 'respectivas', 'certidoes', 'negativas', 'positivas', 'subitem', 'solicita', 'apresentado', 'aberturas', 'comprovante', 'caucao', 'garantia', 'permite', 'contratual', 'encontrados', 'solicitamos', 'analisado', 'notificado', 'correcoes', 'sanar', 'pendencias', 'encontradas', 'novo', 'encaminhado', 'analise', 'quanto', 'aceitacao', 'destas', 'indicadas', 'att', 'tp', 'utilizacao', 'utilizando', 'federais', 'aceitar', 'meras', 'justificativas', 'eletrotecnico', 'utiliza', 'financeira', 'detentora', 'sistemas', 'internet', 'pagamentos', 'fornecedores', 'suficiente', 'adequar', 'modalidade', 'licitacaopregao', 'eletronico', 'ocorrencia', 'restricao', 'caridade', 'transporte', 'escolar', 'estimativa', 'global', 'lote', 'manutencao', 'campinas', 'denota', 'segue', 'ordem', 'cronologica', 'etapas', 'itens', 'burocratizam', 'regularidade', 'conjunta', 'infracoes', 'trabalhistas', 'possivelmente', 'mte', 'fica', 'claro', 'apresentada', 'dificulta', 'preparacao', 'exigir', 'entendimento', 'torna', 'inviavel', 'desnecessario', 'deixarem', 'declaracoes', 'exigidas', 'assinatura', 'socio', 'administrador', 'ambos', 'firma', 'reconhecida', 'deixara', 'automaticamente', 'inabilitada', 'anexos', 'modelos', 'declaracao', 'explicito', 'configurando', 'pegadinhas', 'requerer', 'assinadas', 'reconhecidas', 'poderiam', 'supridas', 'procurador', 'possua', 'nobre', 'julgador', 'recorrente', 'acerca', 'refere', 'mesmas', 'condicoes', 'estabelecidas', 'implicam', 'licitante', 'conhecida', 'desburocratizacao', 'claramente', 'entidades', 'distrito', 'federal', 'dispensada', 'i', 'reconhecimento', 'agente', 'confrontando', 'constante', 'documento', 'identidade', 'signatario', 'estando', 'assinando', 'diante', 'lavrar', 'autenticidade', 'proprio', 'tratando', 'modernizacao', 'simplificacao', 'refletir', 'tentativa', 'burocracia', 'praticada', 'reparticoes', 'autarquias', 'objetivo', 'eliminar', 'excesso', 'visando', 'racionaliza', 'atos', 'administrativos', 'readequacao', 'sanados', 'sindserm', 'correia', 'recebemos', 'denuncias', 'comunidade', 'principalmente', 'interiores', 'merenda', 'alunos', 'rede', 'ensino', 'averiguacao', 'verba', 'vinda', 'empregada', 'adequada', 'compreensao', 'apreco', 'darlan', 'cardoso', 'landri', 'sales', 'alimentando', 'web', 'tramite', 'hablitacao', 'ata', 'parecer', 'juridico', 'extrato', 'contrato', 'exposto', 'notifique', 'obrigar', 'alimentacao', 'informacao', 'completa', 'possa', 'fiscalizar', 'cw', 'multieventos', 'sede', 'pratica', 'ogilvan', 'silva', 'oliveira', 'jaicos', 'mantem', 'irmaos', 'osmilvan', 'r', 'osmildo', 'secretario', 'oziana', 'bispo', 'diretora', 'florisa', 'duvidando', 'protocolo', 'acrescentar', 'tl', 'lopesepp', 'oe', 'empenhos', 'voces', 'consigo', 'baixar', 'pdf', 'verificar', 'novamente', 'recebeu', 'sim', 'desculpem', 'ficar', 'insistindo', 'cajueiro', 'praia', 'executar', 'reforma', 'duas', 'lavanderias', 'povoado', 'imforma', 'convida', 'terceira', 'vizinha', 'primeira', 'convidadas', 'chama', 'vcs', 'autoridades', 'senhores', 'guaribas', 'abusando', 'troca', 'apoio', 'eleitoral', 'vedada', 'periodo', 'suspendam', 'irregulares', 'expedida', 'outra', 'demostra', 'rastro', 'terceirizado', 'contratada', 'terceirizada', 'auxiliar', 'aguardo', 'auxilio', 'beneditinospi', 'desatualizado', 'descumprindo', 'solicitase', 'provido', 'expedindose', 'notificacao', 'fixando', 'disponibilizacao', 'contratados', 'receitas', 'exercer', 'cidadania', 'acompanhando', 'faca', 'cumprir', 'direitos', 'alagoinha', 'terco', 'ferias', 'agradeco', 'comprometimento', 'desem', 'olhada', 'tira', 'idepi', 'instituto', 'desenvolvimento', 'recuperacao', 'estrada', 'vicinal', 'esperantinapi', 'extensao', 'construtorres', 'gerais', 'ltda', 'julgamento', 'decisao', 'doepi', 'anexa', 'denunciante', 'instalacao', 'canteiro', 'constando', 'licitados', 'coaduna', 'verdade', 'volume', 'precisamente', 'numeracao', 'convocatorio', 'comprovar', 'fazse', 'juntada', 'copia', 'integral', 'd', 'apurar', 'consequentemente', 'anular', 'nestes', 'pede', 'deferimento', 'usado', 'limitando', 'concorrencia', 'indo', 'encontro', 'prestou', 'particular', 'publicar', 'atestado', 'cat', 'acervo', 'supera', 'expedido', 'perante', 'creacau', 'considero', 'formalismo', 'devera', 'arem', 'acompanhado', 'arts', 'agricolandia', 'zona', 'urbana', 'bandeira', 'souza', 'oferecer', 'fulcro', 'abusiva', 'sebastiao', 'barrospi', 'seguir', 'expostas', 'registro', 'futura', 'grafico', 'municipalidade', 'fatos', 'subscrevente', 'interesse', 'representante', 'atividade', 'pertinente', 'eventual', 'agendada', 'preve', 'requisitos', 'ilegais', 'frustram', 'competitivo', 'infringir', 'regem', 'sera', 'demonstrada', 'ilegalidade', 'economicofinanceira', 'presenca', 'atestante', 'emitido', 'privado', 'legal', 'fornecido', 'alvara', 'funcionamento', 'dentro', 'f', 'certificado', 'cadastral', 'crc', 'junto', 'sabido', 'principais', 'motrizes', 'garante', 'vantajosa', 'limitar', 'interessada', 'desproporcionais', 'vamos', 'observar', 'absurdo', 'chega', 'finalidade', 'destaquei', 'apesar', 'clara', 'caracteristicas', 'necessario', 'coerentes', 'formulacao', 'atendendo', 'licitatorios', 'dispoe', 'dependem', 'determinada', 'expressamente', 'ss', 'salvo', 'imposicao', 'exigido', 'duvida', 'codigo', 'civil', 'constantes', 'escrito', 'assinado', 'presumemse', 'verdadeiras', 'manifestou', 'ressalvada', 'jurisprudencia', 'tcu', 'ed', 'rev', 'ampl', 'brasilia', 'pag', 'autorizado', 'solicitado', 'opcao', 'faculdade', 'escolha', 'questao', 'toda', 'absurdos', 'entende', 'vezes', 'vejamos', 'podera', 'substituida', 'entidade', 'previsto', 'sido', 'feito', 'obediencia', 'nesta', 'versou', 'dispositivo', 'expressao', 'indica', 'conferida', 'daquela', 'formalidade', 'corresponde', 'permitidas', 'estar', 'consonancia', 'destinase', 'garantir', 'observancia', 'principio', 'isonomia', 'selecao', 'promocao', 'nacional', 'sustentavel', 'processada', 'julgada', 'estrita', 'conformidade', 'basicos', 'igualdade', 'probidade', 'vinculacao', 'correlatos', 'vedado', 'agentes', 'admitir', 'prever', 'incluir', 'tolerar', 'clausulas', 'comprometam', 'restrinjam', 'frustrem', 'casos', 'sociedades', 'cooperativas', 'estabelecam', 'preferencias', 'distincoes', 'razao', 'naturalidade', 'domicilio', 'qualquer', 'circunstancia', 'impertinente', 'irrelevante', 'especifico', 'ressalvado', 'outubro', 'dever', 'tomar', 'ilegalidades', 'referenciadas', 'tentamos', 'paulo', 'roberto', 'pinheiro', 'telefone', 'informado', 'aparelho', 'desligado', 'tentativas', 'sucesso', 'passei', 'cplsebastiaobarrospi', 'gmailcom', 'resposta', 'prontamente', 'atendido', 'identifiquei', 'tratado', 'arrogante', 'falei', 'percebeu', 'causa', 'saiu', 'tangente', 'informando', 'iria', 'falar', 'solicitei', 'respondesse', 'havia', 'passado', 'seguida', 'vi', 'pmsebastiaobarrospi', 'aproveitei', 'conteudo', 'pedidos', 'contempladas', 'face', 'aguardamos', 'sentido', 'aqui', 'mencionadas', 'republicacao', 'inserindo', 'pleiteada', 'reabrindose', 'encharcando', 'dois', 'contracheque', 'devidos', 'descontos', 'mil', 'reais', 'desconto', 'deuselina', 'luciano', 'jerry', 'lucia', 'leonara', 'olhando', 'metade', 'caixa', 'ante', 'marcelo', 'miranda', 'falta', 'medicamentos', 'farmacia', 'hipertensao', 'diabetes', 'investigado', 'afastada', 'almoxarifado', 'negou', 'assinar', 'nota', 'dizendo', 'entender', 'tratava', 'fria', 'respectiva', 'referencia', 'impossibilitando', 'real', 'celeridade', 'tamboril', 'protecao', 'individual', 'epis', 'especificacoes', 'anexou', 'codigos', 'composicoes', 'unitarias', 'proprias', 'apresentem', 'investigue', 'exercido', 'leal', 'inscrito', 'cpfmf', 'comissionado', 'servido', 'imediatas', 'recomende', 'imediatamente', 'quero', 'promovido', 'geminianopi', 'padece', 'possiveis', 'embora', 'tempestivamente', 'ferindo', 'imperativos', 'estabelecidos', 'notoria', 'util', 'dificultando', 'previstas', 'narrados', 'comprovados', 'geminiano', 'sanitizacao', 'dedetizacao', 'cota', 'reservada', 'epp', 'fundespi', 'esportes', 'esportivo', 'eventuais', 'aquisicoes', 'desistema', 'ugorgao', 'pio', 'ix', 'realizadora', 'v', 'moreira', 'deixam', 'identificado', 'previsao', 'ppa', 'citacao', 'cujos', 'maiores', 'encontrase', 'limite', 'prudencial', 'gastos', 'iii', 'ofertados', 'algum', 'justificadas', 'disponibilizadas', 'enfermeiro', 'destes', 'nora', 'prefeita', 'enfermeiros', 'similares', 'comuns', 'definicao', 'apresentaram', 'planejamento', 'pudesse', 'nortear', 'segura', 'iv', 'abaixo', 'media', 'piso', 'salarial', 'cirurgiao', 'dentista', 'demite', 'massa', 'meados', 'alegando', 'atingimento', 'possui', 'longo', 'historico', 'atrasos', 'salariais', 'concursados', 'atingindo', 'frontalmente', 'aumentar', 'unico', 'vii', 'custeadas', 'inscricoes', 'proibida', 'brasileira', 'publicadas', 'contratacoes', 'aconteceu', 'asg', 'destacar', 'gestora', 'recontrata', 'marco', 'diversos', 'lotacao', 'estara', 'criterio', 'relacionado', 'q', 'pragas', 'urbanas', 'limpeza', 'fossas', 'licenca', 'sanitaria', 'ambiental', 'conselhos', 'paes', 'landim', 'descupinizacao', 'desratizacao', 'combate', 'disseminacao', 'pandemia', 'ocasionada', 'septicas', 'municipais', 'landimpi', 'doze', 'n', 'mural', 'alega', 'pagando', 'gratificacao', 'contratando', 'realizei', 'itainopolis', 'regido', 'fisioterapeuta', 'classificado', 'posicao', 'contudo', 'candidato', 'denilson', 'ficara', 'aprovado', 'colocacao', 'temporario', 'rege', 'processos', 'seletivos', 'fundamento', 'decorridos', 'vinte', 'quatro', 'encerramento', 'base', 'nisso', 'entreguei', 'extrajudicial', 'esclarecendo', 'desclassificacao', 'aprovacao', 'jorge', 'ocasiao', 'recebedor', 'expedito', 'ribeiro', 'campos', 'orientou', 'aguardar', 'podese', 'analisar', 'constata', 'poderei', 'esperar', 'ocorreram', 'mudancas', 'estipulando', 'prazos', 'contase', 'continua', 'exercendo', 'maneira', 'ininterrupta', 'agravos', 'transferiu', 'titulo', 'eleitor', 'relatorio', 'tre', 'exatamente', 'complementase', 'candidata', 'vanessa', 'ibiapino', 'assistente', 'social', 'aprovada', 'convocada', 'sigo', 'envio', 'comprovando', 'apresentadas', 'conselheira', 'observando', 'fornecendo', 'relacionadas', 'verificase', 'computo', 'gasto', 'observado', 'labor', 'desvio', 'george', 'luiz', 'lotado', 'infraestrutura', 'jacinto', 'roque', 'endemias', 'wilson', 'custodio', 'recebendo', 'katia', 'castro', 'assessora', 'laborando', 'biblioteca', 'engano', 'vereadora', 'debochando', 'respeitar', 'deboche', 'populacao', 'fiscalizadores', 'murici', 'portelas', 'poliedrica', 'tijolinhos', 'localidade', 'chamurro', 'portelaspi', 'sobrinho', 'juventude', 'cultura', 'sejuce', 'euler', 'nogueira', 'eugenio', 'leite', 'monteiro', 'segov', 'todavia', 'inacumulavel', 'cumular', 'possuem', 'exclusivo', 'coordenador', 'iaspiinst', 'ass', 'sau', 'mensal', 'facilmente', 'consultado', 'assembleia', 'legislativa', 'plclcon', 'reside', 'deu', 'expediente', 'recebidos', 'encontramse', 'referidos', 'improbidade', 'contra', 'adminstracao', 'autuada', 'sofrerem', 'sancoes', 'style=\\\\textalign', 'justify', 'narra', 'manifestante', 'lyana', 'floro', 'acumula', 'irregularmente', 'strong', 'conselheiro', 'sec', 'dir', 'humanos', 'penitenciario', 'maranhao', 'regular', 'advogada', 'oabpi', 'descumprimento', 'xvi', 'crfb', 'acumulacao', 'remunerada', 'exceto', 'compatibilidade', 'horarios', 'inciso', 'xi', 'cientifico', 'c', 'empregos', 'privativos', 'profissoes', 'regulamentadas', 'citadas', 'anteriormente', 'marcada', 'amanha', 'horas', 'anexado', 'feita', 'anisio', 'abreu', 'microempreendedor', 'mei', 'locacao', 'veiculos', 'automotores', 'pleitear', 'fraude', 'vencedor', 'nulo', 'pregoeira', 'corrigido', 'prorrogado', 'adequacao', 'mercado', 'proprietario', 'extrapolou', 'limites', 'meepp', 'pretende', 'entrar', 'fraudou', 'inidoneofalso', 'cliente', 'fornceeu', 'fornecedor', 'nf', 'atestando', 'forneceu', 'contrario', 'balanco', 'dre', 'suprimidas', 'porte', 'tentando', 'fraudar', 'veiculo', 'disponivel', 'tecpi', 'wwwtcepigovbr', 'link', 'jurema', 'hospitalar', 'odontologico', 'saudefms', 'referencias', 'acumulo', 'luzilandia', 'esperantina', 'joca', 'marques', 'madeiro', 'joaquim', 'adail', 'junior', 'rg', 'ssp', 'muncipio', 'magalhaes', 'matriculas', 'matricula', 'antonia', 'gardenia', 'hs', 'bernardo', 'ferreira', 'aurinete', 'tec', 'comunitaria', 'liane', 'comunitario', 'antonio', 'carlos', 'nascimento', 'valdemir', 'brito', 'aldenir', 'concursad', 'conrado', 'fenelon', 'parnaiba', 'ermelinda', 'cardoso-', 'elaine', 'fabio', 'estdo', 'paiui', 'francisca', 'mata', 'santa', 'quiteria', 'floriza', 'idelane', 'izael', 'aguiar', 'jucelia', 'kaly', 'maurideia', 'mirian', 'nonato', 'nunes', 'sonia', 'suzana', 'garcia', 'gomes', 'ssppi', 'extensionista', 'emater', 'paula', 'fabricia', 'mendonca', 'concursada', 'indisponibilidade', 'editavel', 'divergente', 'formato', 'excel', 'custoso', 'demorado', 'elaboracao', 'equidade', 'outrossim', 'detectado', 'vide', 'transcricao', 'praticado', 'estimamse', 'seiscentos', 'quarenta', 'oito', 'setenta', 'trinta', 'centavos', 'oriente', 'capina', 'varricao', 'poda', 'arvore', 'conservacao', 'ruas', 'logradouros', 'sarjetas', 'canais', 'urbano', 'coleta', 'lixo', 'domiciliar', 'residuos', 'solidos', 'indicios', 'gervasio', 'localizada', 'barras', 'gerencia', 'regional', 'gre', 'comum', 'regiao', 'lages', 'diretor', 'estaria', 'pessoais', 'informa', 'comprando', 'bebidas', 'alcoolicas', 'comercios', 'sobretudo', 'quot', 'mercadinho', 'ze', 'neto\\\\', 'escola', 'dirige', 'repetidas', 'comunicou', 'tomado', 'buscou', 'praticados', 'joao', 'informamos', 'encontravase', 'ar', 'atualizacoes', 'impraticaveis', 'solicitados', 'consultas', 'sus', 'raio', 'x', 'ecocardiograma', 'distorcidos', 'realidade', 'medicos', 'especializadas', 'consulta', 'realizada', 'conlicitacao', 'httpsconlicitacaocombr', 'verificamos', 'destinado', 'picospi', 'retelhamento', 'reservatorios', 'medio', 'manutencaoreparos', 'centrais', 'condicionado', 'ventilacao', 'refrigeracao', 'desinsetizacao', 'ambientes', 'caixas', 'gorduras', 'poco', 'tubular', 'demandas', 'buriti', 'lopespi', 'encontram', 'divulgados', 'plataforma', 'eletronica', 'compras', 'preste', 'urgentes', 'agradecemos', 'fizeram', 'teste', 'deram', 'turno', 'experiencia', 'fazerem', 'indicacao', 'direta', 'caro', 'ouvidor', 'claudio', 'galvao', 'franciscopi', 'mui', 'respeitosamente', 'corte', 'realizara', 'jornal', 'deixou', 'duvidas', 'sigiloso', 'reparar', 'danos', 'indevida', 'santiago', 'feitoza', 'acaua', 'afranio', 'pe', 'comprobatoria', 'afraniope', 'links', 'httpportalafraniopegovbrtransparencia', 'httptransparenciapigovbrapexf', 'p=servidores', 'httpwwwdiariooficialpigovbrdiariophp', 'dia=', 'recebimento', 'assunto', 'pm', 'cristino', 'nbsp', 'manoel', 'contratou', 'vaz', 'irmao', 'senhorita', 'angela', 'referidas', 'constatados', 'mensais', 'folhas', 'assistencia', 'facilitar', 'verifique', 'notas', 'especificando', 'div', 'dir=\\\\auto\\\\', 'ildenes', 'leandro', 'medico', 'gabriela', 'avulsas', 'manobra', 'contratar', 'inss', 'convocado', 'levar', 'relativa', 'posse', 'esclarecimento', 'nada', 'sites', 'jornais', 'circulacao', 'entro', 'varios', 'unica', 'tememos', 'empossados', 'diariamente', 'vemos', 'portarias', 'titulos', 'precarios', 'obtiveram', 'sedo', 'convoca', 'independentemente', 'convocou', 'restando', 'pecolhes', 'ajuda', 'dezenas', 'correndo', 'risco', 'expirado', 'perder', 'age', 'prestes', 'dom', 'elizeu', 'perifericos', 'suprimentos', 'eliseu', 'martinspi', 'restritivas', 'minimos', 'urucui', 'ampliacao', 'escolas', 'urucuipi', 'restritiva', 'composicao', 'custos', 'rota', 'rotas', 'existem', \"'s\", 'fisicas', 'dificuldades', 'elaborar', 'poderia', 'caber', 'vencedores', 'evitando', 'exaustiva', 'simplificada', 'especifica', 'acarreta', 'pouco', 'utilizar', 'adiado', 'fisica', 'piauipi', 'cumpre', 'cordenadoreia', 'alisson', 'barcelar', 'srde', 'siqueira', 'coelho', 'certo', 'existir', 'senador', 'elmano', 'ferrer', 'acessor', 'parlamentar', 'vantagens', 'naturezas', 'erario', 'cometendo', 'crieme', 'usurpacao', 'investiguem', 'punam', 'pauta', 'envolvidos', 'via', 'telefonico', 'emissao', 'paulistana', 'negada', 'possibilidade', 'arquivo', 'digital', 'motivo', 'alegado', 'mauro', 'afirmou', 'cadastros', 'efetivado', 'presencialmente', 'caiacao', 'recolhimento', 'entulhos', 'atendimento', 'paulistanapi', 'funciona', 'hrs', 'viagem', 'chegar', 'tomei', 'informou', 'publicou', 'localizei', 'noite', 'colocado', 'sei', 'transparente', 'restamos', 'prejudicados', 'investimento', 'fizemos', 'pecas', 'materiais', 'maquinas', 'pesadas', 'frota', 'abreupi', 'acumulos', 'extraidas', 'endereco', 'httpswwwtcepigovbrportaldacidadaniamunicipiosservidores', 'cargo=professor', 'substituto', 'extendidos', 'discussao', 'competencia', 'fiscalizador', 'apreciacao', 'mesmos', 'executivo', 'graus', 'nivel', 'cursado', 'apontam', 'importancia', 'apuracao', 'discutido', 'tamanha', 'magnitude', 'bases', 'preza', 'fala', 'impugnado', 'correcao', 'limpe', 'za', 'compreendendo', 'li', 'xo', 'destino', 'altos', 'pa', 'altospi', 'tesoureira', 'irma', 'eleito', 'filho', 'papel', 'eou', 'trabalho', 'respeitando', 'vossa', 'in', 'loco', 'medicoprefeito', 'cf', 'violacao', 'organica', 'afastar', 'liminarmente', 'estabelecimentos', 'cnes', 'eletivo', 'estatutario', 'dirceu', 'arcoverde', 'carga', 'horaria', 'prova', 'solicitou', 'desligamento', 'imagem', 'incisos', 'autarquica', 'fundacional', 'aplicamse', 'disposicoes', 'tratandose', 'distrital', 'afastado', 'emprego', 'investido', 'sendolhe', 'facultado', 'optar', 'percebera', 'prejuizo', 'aplicada', 'norma', 'exija', 'afastamento', 'contado', 'efeitos', 'merecimento', 'viceprefeito', 'pena', 'perda', 'firmar', 'manter', 'autarquia', 'economia', 'mista', 'concessionaria', 'obedecer', 'uniformes', 'remunerado', 'demissiveis', 'ad', 'nutum', 'alinea', 'observase', 'afastou', 'proibicao', 'caput', 'encaminhe', 'mppi', 'mpf', 'fiscais', 'ajuizamento', 'acao', 'ressalvando', 'diferente', 'daquele', 'lembrando', 'citado', 'lembro', 'ilegalmente', 'reiterada', 'ajuizou', 'dano', 'pje', 'determine', 'liminar', 'realize', 'respeite', 'afaste', 'opte', 'obedecendo', 'impedir', 'continue', 'cofres', 'solicite', 'ressarcimento', 'indevidamente', 'comunicados', 'condenacao', 'politicos', 'instaurem', 'criminal', 'pic', 'crime', 'peculatodesvio', 'falsidade', 'ideologica', 'httpsblogscorreiobraziliensecombrservidormpfdfdenunciaexservidoradosenadoporpeculatoefalsidadeideologica', 'envie', 'vereadores', 'apurada', 'juntado', 'multado', 'acompanhamento', 'exdiretora', 'perpetuo', 'socorro', 'lourdes', 'mousinho', 'maio', 'exonerada', 'ocupava', 'outrora', 'kallyne', 'neiva', 'assumiu', 'direcao', 'cabe', 'esclarecervos', 'prefeituta', 'plantoes', 'resta', 'averiguem', 'descritos', 'veridicos', 'fonseca', 'exclusivamente', 'unitarios', 'injustificadamente', 'superiores', 'superfaturado', 'auditoria', 'juntamente', 'busca', 'minunciosa', 'atrasados', 'faltam', 'merendas', 'posto', 'urgente', 'tornem', 'necessarias', 'atualizar', 'atualizado', 'podemos', 'errado', 'esconder', 'cumprida', 'comunicando', 'omissoes', 'chico', 'durante', 'respeitam', 'espero', 'notase', 'casa', 'recupere', 'admistracao', 'lancou', 'divididos', 'regioes', 'localidades', 'matematica', 'colocaram', 'vaga', 'serrinha', 'melancias', 'ficaram', 'realizando', 'contempla', 'salinas', 'disponibilizaram', 'soube', 'amizade', 'disseram', 'naquela', 'lotando', 'areas', 'disciplina', 'estranha', 'pontuacao', 'convocar', 'sabendo', 'existia', 'colegio', 'funcionando', 'membro', 'seccional', 'oeiras', 'necessaria', 'vantagem', 'eleitoreira', 'ajeitar', 'amigos', 'friso', 'la', 'razoes', 'supra', 'comprovado', 'especa', 'recomendacao', 'atente', 'convocando', 'maior', 'regionalizado', 'necessitavam', 'lotarem', 'ofertada', 'intuito', 'burlar', 'vejo', 'historia', 'demonstrar', 'beneficiar', 'terceiros', 'trago', 'demonstra', 'destinada', 'provimentos', 'alheia', 'preenchida', 'obtiver', 'disponibilizar', 'jurisprudencias', 'assentadas', 'httpststjusbrasilcombrjurisprudenciaagravodeinstrumentoemrecursoderevistaairrinteiroteor', 'ref=juristabs', 'tst', 'agravo', 'recurso', 'revista', 'airr', 'inteiro', 'teor', 'restringe', 'descreve', 'linha', 'canabrava', 'epi', 'fins', 'enfrentamento', 'emergencia', 'internacional', 'decorrente', 'coronavirus', 'causador', 'islane', 'portadora', 'assessoramento', 'intermediario', 'daj', 'subordinada', 'prima', 'legitima', 'mulher', 'mdb', 'manifestar', 'trasparencia', 'vigente', 'inexigibilidade', 'assessoria', 'consultoria', 'acompanhamentos', 'especiais', 'orientacao', 'inspecoes', 'feitas', 'externo', 'formalizacao', 'defesas', 'reconsideracao', 'revisao', 'inexibilidade', 'descrita', 'forte', 'suspeita', 'ivilla', 'advocacia', 'diversas', 'aije', 'aluisio', 'emidio', 'adapi', 'projovem', 'disponiveis', 'pju', 'programa', 'bancada', 'rumores', 'havera', 'perguntase', 'liberados', 'solictamos', 'oempenhodo', 'apauracao', 'conselho', 'direcionar', 'sitiacao', 'pf', 'kamila', 'coelhode', 'liquido', 'enquanto', 'maislane', 'ganhava', 'moral', 'alterou', 'resolucao', 'autorizasse', 'aumento', 'noticia', 'punicoes', 'descaso', 'adai', 'escolaridades', 'idaelson', 'matias', 'raelson', 'monica', 'angelica', 'admin', 'infrigindo', 'levando', 'interessados', 'seguem', 'pedem', 'escrevo', 'cajazeiras', 'acessivel', 'usuarios', 'responsabilidade', 'colocando', 'muitas', 'trabalhar', 'prestar', 'concursos', 'batista', 'vieira', 'passos', 'atualmente', 'santo', 'pau', 'darco', 'contatado', 'devolva', 'enriquecimento', 'ilicito', 'compactacao', 'mecanica', 'calcamento', 'compactador', 'sapo', 'mostrando', 'inconformidade', 'relevante', 'funcionou', 'nessa', 'incluindo', 'sabemos', 'dispensas', 'aluguem', 'livros', 'planillha', 'incluso', 'encargos', 'sociais', 'mao', 'auxiliares', 'executados', 'rurais', 'pracas', 'parques', 'solicitam', 'adiplencia', 'declacao', 'passaram', 'escritorio', 'advogacia', 'solicital', 'entemos', 'direciamento', 'certa', 'entendemos', 'localiza', 'heli', 'percebese', 'dado', 'evidente', 'discordancia', 'ordenamento', 'recebam', 'dotado', 'autonomia', 'quer', 'precedido', 'temporarias', 'atendam', 'excepcional', 'investigados', 'fronteiras', 'utilizouse', 'licitado', 'requerendo', 'fronteiraspi', 'zelina', 'varzea', 'detinha', 'comissionada', 'surpresa', 'passouse', 'compreender', 'relatarmos', 'criadas', 'leiresolucao', 'ivania', 'cunha', 'assumindo', 'destacarmos', 'vacancia', 'ausencia', 'aposentadoria', 'falecimento', 'permanece', 'desempenhando', 'normalmente', 'tomouse', 'prorrogou', 'correspondente', 'homologado', 'passando', 'valer', 'destacase', 'prorrogacao', 'ocorreu', 'encerrarse', 'desempenhou', 'tesoureiro', 'permanecendo', 'inexiste', 'criando', 'perceber', 'primeiramente', 'posteriormente', 'ocorrer', 'requerse', 'egregio', 'serio', 'criancas', 'gestores', 'finge', 'diogo', 'milton', 'brandao', 'cedo', 'pior', 'trazendo', 'arroz', 'macarrao', 'merendeiras', 'vivemos', 'ganhor', 'divulgada', 'participei', 'delimitou', 'quantidade', 'lances', 'coivaras', 'urnas', 'funebres', 'postumos', 'desobedece', 'descumpre', 'acordao', 'contrata', 'precampanha', 'reeleicao', 'leis', 'vigentes', 'sindicato', 'alvespi', 'avenida', 'desembargador', 'centro', 'cep', 'infraassinado', 'senhoria', 'ex', 'borges', 'praticou', 'ferem', 'arbitraria', 'amparo', 'contrariando', 'efetuou', 'reconhecer', 'curso', 'empenhada', 'reconhecido', 'debito', 'consideradas', 'jesus', 'reis', 'cunhado', 'dr', 'itamar', 'ambiente', 'encontra', 'fechada', 'cometida', 'silas', 'noronha', 'douto', 'procedida', 'instagram', 'exmo', 'postou', 'fotos', 'videos', 'entregas', 'dona', 'mota', 'caminhoes', 'urbanos', 'plotagens', 'iniciativas', 'procedidas', 'terem', 'formalizados', 'dispensa', 'ratificacao', 'instrumentos', 'contratuais', 'pasmem', 'devidamente', 'registros', 'print', 'denunciado', 'deixo', 'apelo', 'apure', 'cumpra', 'constatadas', 'httpswwwinstagramcomtvcjlnfmyhal', 'utm_source=ig_web_copy_link', 'httpswwwinstagramcompcjoayfmhqwu', 'importantes', 'wilkinson', 'divisao', 'programas', 'educacionais', 'jonas', 'departamento', 'transportes', 'nomeando', 'vertunes', 'tenta', 'ressaltase', 'idade', 'desempenhar', 'evanildes', 'solteira', 'carteira', 'encontrada', 'intimacoes', 'notificacoes', 'paz', 'exa', 'motivos', 'expostos', 'revogacao', 'concessao', 'aproximadamente', 'gozo', 'revogadas', 'criterios', 'objetivos', 'renovacao', 'novos', 'compor', 'fixado', 'excedido', 'ultimos', 'aumentou', 'significativamente', 'contando', 'eleicoes', 'aproximarem', 'tac', 'descumprida', 'maquina', 'batalhapi', 'notorio', 'efetivou', 'pisan', 'integralidade', 'reajuste', 'previstos', 'fl', 'magisterio', 'ficam', 'alterados', 'vencimentos', 'gradativa', 'determinacoes', 'disponibilidade', 'integralizando', 'percentual', 'decorrer', 'alegou', 'defasagem', 'aplicar', 'concedeu', 'gratificacoes', 'acreditase', 'conjuntural', 'comprova', 'extratos', 'assiste', 'cuja', 'posteriores', 'complementar', 'ressalvadas', 'reposicoes', 'chefia', 'acarretem', 'decorrentes', 'vacancias', 'vitalicios', 'militar', 'militares', 'anunciado', 'pronto', 'verificacao', 'durabilidade', 'anexar', 'concomitantemente', 'abnt', 'nbr', 'certificador', 'produtos', 'ocp', 'acreditado', 'inmetro', 'rotulo', 'ecologico', 'iso', 'ergonomico', 'produto', 'ptep', 'baseado', 'regulamentadora', 'nr', 'previdencia', 'apontando', 'usabilidade', 'foto', 'ofertado', 'profissional', 'habilitado', 'engenheiro', 'ergonomista', 'laudos', 'metalicos', 'ensaios', 'corrosao', 'exposicao', 'nevoa', 'salina', 'grau', 'empolamento', 'igual', 'enferrujamento', 'atmosfera', 'umida', 'dioxido', 'enxofre', 'tintas', 'determinacao', 'aderencia', 'gr', 'x=', 'y=', 'espessura', 'pelicula', 'considerando', 'fator', 'reducao', 'certificacao', 'madeira', 'certificados', 'cadeia', 'custodia', 'cerflor', 'fsc', 'forest', 'stewardship', 'council', 'organismo', 'credenciador', 'internacionalmente', 'ibama', 'subprodutos', 'compoem', 'mobiliario', 'deverao', 'obrigatoriamente', 'oriundos', 'florestas', 'nativas', 'plantadas', 'procedencia', 'certificada', 'manejo', 'florestal', 'selos', 'proprios', 'vinculados', 'fabrica', 'amostragem', 'comprovacao', 'componentes', 'utilizados', 'fabricacao', 'contenham', 'origem', 'nativa', 'plantada', 'procedentes', 'bordas', 'pvc', 'resistencia', 'luz', 'uv', 'graduacao', 'escala', 'cinza', 'munsell', 'observados', 'descoloracao', 'mudanca', 'brilho', 'cor', 'bolhas', 'defeitos', 'comparativo', 'ensaiada', 'superficie', 'usada', '-item', 'cruzado', 'alcool', 'etilico', 'observadas', 'alteracoes', 'remocao', 'particulas', 'fita', 'etc', 'haver', 'corpo', 'temperatura', 'submetendo', 'corpos', 'temperaturas', 'degc', 'graduacoes', 'iguais', '-anexo', 'colagem', 'tracao', 'forca', 'maxima', 'acabamentos', 'laminado', 'decorativo', 'bp', 'madeiradosfantasia', 'manchadores', 'impacto', 'altura', 'ocorram', 'trincas', 'mm', 'abrasao', 'g', 'alta', 'filme', 'choque', 'termico', 'observada', 'pequenas', 'revestida', 'vapor', 'k', 'porosidade', 'patrimonio', 'formas', 'cumulativo', 'permitida', 'sumula', 'pimenteiras', 'estradas', 'vicinais', 'pimenteiraspi', 'informo', 'fazem', 'vigilancia', 'cnj', 'inidoneas', 'suspensas', 'ceis', 'inidoneidade', 'regeneracao', 'regeneracaopi', 'quarto', 'secretarios', 'divulgou', 'parcelas', 'pnae', 'distribuicao', 'kits', 'escolares', 'pressao', 'alunado', 'uso', 'conselheiros', 'encaminho', 'supostas', 'atribuidos', 'perita', 'odontolegista', 'michelle', 'cavalcanti', 'lotada', 'medicina', 'vinicius', 'perito', 'imlpi', 'comunicamos', 'colonia', 'gurgueia', 'maculando', 'cumprido', 'ldb', 'calendario', 'minima', 'recomendada', 'meca', 'letivo', 'encerrado', 'completar', 'anuais', 'infantil', 'prejudicada', 'alcancando', 'duzentos', 'letivos', 'agravante', 'reduzido', 'minutos', 'intervalo', 'recreio', 'correto', 'saida', 'fechar', 'diaria', 'series', 'prejudicadas', 'concluida', 'docente', 'atrelados', 'esquema', 'postagens', 'festas', 'conste', 'novetech', 'planejar', 'primaria', 'complexidade', 'projetos', 'levantamento', 'prontuarios', 'melhoria', 'indicadores', 'gerenciamento', 'nuvem', 'treinamento', 'computacionais', 'suporte', 'especializados', 'informatizacao', 'esus', 'aps', 'unidades', 'basicas', 'morro', 'cabeca', 'podendo', 'prosseguir', 'aparecido', 'cel', 'rendimentos', 'italva', 'coordenadora', 'ceti', 'atanasio', 'diurno', 'corretamente', 'epigrafe', 'carta', 'sexta', 'feira', 'uteis', 'cinco', 'inc', 'luminarias', 'eficiente', 'led', 'w', 'braco', 'curvo', 'avenidas', 'anonima', 'realizou', 'admissao', 'modo', 'feriu', 'ocupacoes', 'deveriam', 'preenchidos', 'portando', 'violando', 'institucional', 'httpspmtpigovbrnomeadosprofessoresaprovadosemconcursoparaescolasdaprefeitura', 'prefetura', 'disponibilizou', 'colocou', 'cadastrada', 'diminuindo', 'motores', 'bombeadores', 'eletricos', 'pocos', 'artesianos', 'culminou', 'clinica', 'sta', 'cecilia', 'propriedade', 'criacao', 'viceprefeita', 'dra', 'luiza', 'fernando', 'silveira', 'quase', 'ganhar', 'parece', 'olhos', 'atende', 'indiscriminadamente', 'carentes', 'sustado', 'politica', 'aumentado', 'dada', 'httpswwwviagoracombrblogtcesuspendecontratodermilhaodoprefeitoricardomourahtml', 'fbclid=iwarmlkvpxjadnlwwmqsqdgjnvdcrdaoqeubhjeggvyeyehde', 'demerval', 'lobao', 'distribuidora', 'alimentos', 'inscrita', 'respeitavel', 'busque', 'veemencia', 'boqueirao', 'jatoba', 'juazeiro', 'modus', 'operandi', 'comissoes', 'apresentassem', 'chamado', 'pas', 'conseguiu', 'renovar', 'estarmos', 'tempos', 'pandemicos', 'normais', 'digo', 'razoavel', 'recebelo', 'rapidez', 'duvidosa', 'curtissimo', 'declarada', 'ligar', 'expedidor', 'sest', 'senat', 'constatei', 'precisaria', 'uns', 'tramites', 'acontecesse', 'ooutro', 'erro', 'constatado', 'completamente', 'prescrito', 'constar', 'act', 'assinada', 'capaz', 'fornecer', 'quantidades', 'parecidos', 'apresentou', 'fornecidos', 'monte', 'lacticinios', 'geralmente', 'aconteceram', 'daqueles', 'questionamento', 'recemcriada', 'consegue', 'estimados', 'milhao', 'observem', 'estrutura', 'detalhes', 'superfaturados', 'encarecidamente', 'fundo', 'olho', 'nu', 'mostrase', 'encontralas', 'punir', 'intens', 'servem', 'frustrar', 'restringir', 'inclusindo', 'indicando', 'preposto', 'venha', 'representala', 'j', 'formal', 'mantera', 'nucleo', 'demanda', 'cocal', 'telha', 'emitidas', 'vir', 'autenticadas', 'junta', 'comercial', 'equipe', 'pertinentes', 'nominalmente', 'membros', 'concordancia', 'inclusao', 'patrimonial', 'dhp', 'demonstracoes', 'contabeis', 'contabilista', 'contabilidade', 'observacao', 'velado', 'errada', 'bdi', 'telhapi', 'exelencia', 'vistoria', 'cristalandia', 'publicao', 'quadrienio', 'salientar', 'datada', 'edicao', 'empenhado', 'pagos', 'respectivamente', 'infringi', 'cidadaos', 'aplicavel', 'divulga', 'indireta', 'visitou', 'executadas', 'obrigacoes', 'solicitada', 'antecedencia', 'lagoinha', 'abastecimento', 'estaca', 'baixao', 'cocos', 'codevasf', 'caminhao', 'percebido', 'mototistas', 'coletores', 'tomem', 'determinando', 'percentagem', 'pago', 'insalubridade', 'parcela', \"'so\", 'aprova', 'chamamos', 'gildo', 'financas', 'condiz', 'patos', 'acomulo', 'municicpal', 'luzitania', 'luzissandra', 'semanais', 'sa', 'psf', 'corriqueiramente', 'prefeituras', 'viciado', 'acontera', 'manha', 'habilitarem', 'porto', 'apresentando', 'cadastramento', 'fere', 'preceitos', 'imediatamento', 'sanado', 'republicado', 'esperamos', 'sergio', 'farias', 'portopiaui', 'capital', 'vim', 'estimado', 'fornecida', 'condicao', 'particitacao', 'desrreipeitando', 'cumulativa', 'assegurem', 'adimplemento', 'atravez', 'macedopi', 'macedo', 'ocupar', 'farte', 'audete', 'permitidos', 'pma', 'ganhei', 'lance', 'buscando', 'recentes', 'totalidade', 'existencia', 'desclassificado', 'hj', 'tirou', 'cumprindo', 'desclassificou', 'acredito', 'avisado', 'enviando', 'chat', 'impedido', 'envia', 'egregia', 'mpcpi', 'correiapi', 'visitando', 'visita', 'tecnicos', 'auditores', 'gangorrinha', 'encontraram', 'vencida', 'procede', 'ocorridas', 'aplicadas', 'ifpi', 'bloco', 'indicador', 'tampouco', 'informavam', 'causou', 'estresse', 'passar', 'desconfianca', 'elevado', 'anulaveis', 'problema', 'estariam', 'decorrem', 'insuficiente', 'baixa', 'regularmente', 'proporcionar', 'obrigacao', 'absurdas', 'presentes', 'seduc', 'ir', 'adicionados', 'ligadas', 'advogado', 'legivel', 'digitalizada', 'redigitar', 'pediuse', 'contatos', 'enviasse', 'respostas', 'barro', 'orcamentarias', 'tecnicas', 'fisicofinanceiro', 'apurado', 'consentimento', 'selindo', 'carneiro', 'tapeti', 'toma', 'assistencial', 'conceicao', 'oseias', 'ematerpi', 'agricultura', 'edinaldo', 'damasceno', 'figueiredo', 'augusto', 'sintepi', 'edivan', 'merces', 'redes', 'celana', 'camaco', 'custo', 'calculos', 'errados', 'resto', 'contem', 'impossiblitam', 'concorrentes', 'tao', 'prejudica', 'abra', 'melhorias', 'sanitarias', 'domiciliares', 'msd', 'guaribaspi', 'celetista', 'nomear', 'andrea', 'chagas', 'silvana', 'ambas', 'valduce', 'checheneste', 'entendo', 'junho', 'oneide', 'carne', 'organizar', 'condicionadores', 'ventiladores', 'sitiopi', 'compromisso', 'firmado', 'fnde', 'plano', 'acoes', 'articuladas', 'obeservado', 'publicando', 'imposibilitado', 'transparencias', 'celebrados', 'instrucao', 'normativa', 'conquista', 'altera', 'vencimento', 'bibliotecario', 'nutricionista', 'psicopedagogo', 'nazaria', 'deixando', 'anual', 'inpc', 'beneficiados', 'buscar', 'informados', 'estatuidos', 'argumentacao', 'atingiu', 'percebe', 'adquirido', 'jus', 'prejudicar', 'ministerial', 'amparados', 'solicitando', 'planos', 'carreiras', 'pleiteados', 'duplamente', 'desamparados', 'buscaram', 'procuradoria', 'entregue', 'carreira', 'existentes', 'notificando', 'localize', 'legislacoes', 'efetivadas', 'garantidas', 'priorizando', 'caracolpi', 'quartafeira', 'descricoes', 'wall', 'ferraz', 'provada', 'peca', 'forcar', 'criar', 'enviadas', 'penal', 'httpwwwmarcosparentepigovbrportal', 'desculpe', 'algo', 'buscas', 'google', 'encontrar', 'httpstransparenciamarcosparentepigovbrmarcosparente', 'equivocadamente', 'abrir', 'encontrado', 'preceito', 'basilar', 'elencado', 'crf', 'obedecera', 'lado', 'xxxiii', 'magna', 'assegura', 'fundamental', 'humana', 'constituindose', 'clausula', 'petrea', 'patrio', 'dispondo', 'coletivo', 'prestadas', 'imprescindivel', 'importa', 'preceitua', 'ind', 'sive', 'meios', 'eletronicos', 'orcamentos', 'diretrizes', 'prestacoes', 'previo', 'resumido', 'versoes', 'simplificadas', 'paragrafo', 'assegurada', 'liberacao', 'pleno', 'pormenorizadas', 'pormenorizando', 'assentada', 'lc', 'dispositivos', 'devem', 'regulamentou', 'ambito', 'prevista', 'arto', 'republica', 'assentado', 'transgressao', 'importara', 'graves', 'impossibilidade', 'receberem', 'transferencias', 'voluntarias', 'configura', 'atenta', 'notadamente', 'esclarece', 'ln', 'olvidar', 'praticas', 'atentatorias', 'basilares', 'coibidas', 'particularmente', 'atualizalo', 'manda', 'impossibilitada', 'disponibilizam', 'revogada', 'protopagina', 'existente', 'alespi', 'inteiros', 'essencial', 'produtiva', 'deusdete', 'socia', 'aparecida', 'crisogono', 'procuradora', 'formando', 'organizacao', 'criminosa', 'indiretamente', 'descrito', 'picos', 'oportunidade', 'claras', 'evidencias', 'regimento', 'anvisa', 'conserto', 'floriano', 'sms', 'juridicas', 'apresentarem', 'reparo', 'aparelhos', 'medicoshospitalares', 'preparar', 'georreferenciamento', 'demarcacao', 'perimetro', 'vetorizacao', 'delimitacao', 'quadras', 'planialtimetria', 'atributos', 'tributario', 'postados', 'imcompletos', 'zonas', 'queixa', 'retificacao', 'consoante', 'fixadas', 'atuacao', 'biblioteconomia', 'consultor', 'reserva', 'composto', 'ampliado', 'atenda', 'anseios', 'constitucionais', 'especialmente', 'estabelecer', 'obscuro', 'manifesto', 'agradecimento', 'escalao', 'exercerem', 'considerandose', 'caracterizacao', 'considerados', 'ocupantes', 'edivaldo', 'habitacao', 'allan', 'benvindo', 'diretoria', 'dfam', 'caracterizadores', 'afastaria', 'incidencia', 'vinculante', 'demonstrado', 'supremo', 'conjuge', 'companheiro', 'reta', 'colateral', 'afinidade', 'autoridade', 'nomeante', 'gratificada', 'compreendido', 'ajuste', 'designacoes', 'reciprocas', 'impende', 'enfrentando', 'tema', 'entendeu', 'aplica', 'mencao', 'desempenho', 'analisada', 'ocupante', 'alias', 'onus', 'probatorio', 'supremacia', 'infringem', 'suprema', 'avancando', 'consanguineos', 'infringe', 'stf', 'marinalva', 'configurandose', 'julgadas', 'financeiro', 'falhas', 'apontadas', 'sanadas', 'ensejando', 'reprovacao', 'aplicacao', 'multa', 'unanime', 'comprove', 'srs', 'detentores', 'ocupam', 'decrete', 'nulidade', 'supracitadas', 'nunc', 'exonerando', 'indagacao', 'licito', 'comissaoconfianca', 'irregularesreprovadas', 'castelo', 'shirley', 'azevedo', 'crateusce', 'bolsa', 'grossa', 'tendas', 'piramidal', 'viruscovid', 'bll', 'infringindo', 'wwwportaldecompraspublicascombr', 'fiquei', 'constava', 'cancelando', 'simplesmente', 'parou', 'explicacoes', 'reapareceu', 'suspenderemos', 'retornaremos', 'analisadao', 'daremos', 'acreditei', 'volta', 'encerraria', 'sai', 'continuou', 'analisadas', 'aberto', 'iniciado', 'enviar', 'desclassificados', 'sinto', 'maos', 'atadas', 'recorro', 'retirados', 'nazare', 'firmados', 'finalizados', 'privando', 'avaliacao', 'congeneres', 'ajustes', 'agravase', 'retirando', 'detectas', 'fortalecer', 'investimentos', 'problemas', 'piuai', 'gestoes', 'copias', 'citados', 'wilon', 'verador', 'messes', 'atrasado', 'criem', 'reestabelecer', 'fechamento', 'essenciais', 'resolveram', 'quintafeira', 'averiguado', 'respondeu', 'emails', 'sugiro', 'seguimento', 'anulacao', 'publique', 'exercem', 'operacional', 'siape', 'complexo', 'ufpr', 'cet', 'condicacao', 'teixeira', 'carnaubas', 'capim', 'grosso', 'terca', 'quarta', 'quinta', 'boiba', 'av', 'cesario', 'marinho', 'igarape', 'dionilo', 'curralinho', 'turnos', 'matutino', 'vespertino', 'noturno', 'zeidan', 'sspma', 'sabem', 'caxingo', 'praticamente', 'mae', 'irmas', 'tios', 'tias', 'completo', 'mora', 'moradia', 'teresinapi', 'restaurante', 'colher', 'inseridas', 'divulgadas', 'vespera', 'distantes', 'caracol', 'habitacionais', 'doenca', 'douta', 'adocao', 'rio', 'vence', 'definitivamente', 'ressalto', 'precario', 'prof', 'nomeadas', 'repete', 'colocamonos', 'delcides', 'guedes', 'casado', 'direcionado', 'ess', 'matendo', 'aluguel', 'padrao', 'vergonha', 'altissimo', 'espelho', 'redacao', 'cartao', 'objetiva', 'caderno', 'destaque', 'anotasse', 'avaliar', 'alternativas', 'marcadas', 'intermedio', 'divulgue', 'presados', 'representa', 'publicitario', 'graficos', 'visual', 'setembro', 'ayrespi', 'anulado', 'alexandre', 'daguia', 'rosivaldo', 'camelo', 'encontravam', 'encerrada', 'licitatoria', 'eleita', 'setores', 'tela', 'reves', 'estabelece', 'previamente', 'designado', 'lavrara', 'circunstanciada', 'rubricados', 'recomendo', 'evitar', 'questionamentos', 'futuros', 'conducao', 'aludida', 'smj', 'ayres', 'oab', 'relatado', 'trocas', 'amaury', 'sandes', 'beneficiou', 'embasada', 'infundado', 'inventado', 'finalidades', 'precisa', 'demonstrou', 'aprovar', 'envolvida', 'ilicitos', 'midia', 'repetindo', 'contar', 'fornecerlhes', 'suposta', 'assumir', 'jaide', 'interina', 'polo', 'uab', 'supervisora', 'pedagogica', 'remuneracoes', 'ditames', 'consultados', 'ficarei', 'reginaldo', 'partcicipacao', 'interessadas', 'rebocos', 'muros', 'atrasando', 'mensalmente', 'satisfacao', 'recebi', 'tomasse', 'atrasadas', 'irrigacao', 'perfuracao', 'estadio', 'batistao', 'franciarley', 'apropriacao', 'indebita', 'eja', 'diploma', 'ficticios', 'fichas', 'lisiane', 'tratamento', 'atestada', 'humilhada', 'mim', 'perseguicao', 'impostas', 'digitadora', 'habil', 'tanto', 'resende', 'comunico', 'oferece', 'avisa', 'biscoito', 'suco', 'desorganizado', 'mi', 'comodato', 'venda', 'liberado', 'freitas', 'bahia', 'jf', 'determinado', 'atualizacao', 'observe', 'httptransparenciacamaradepiripiripigovbr', 'funcionalidades', 'desatualizadas', 'ultima', 'ocorrida', 'capitao', 'pavimento', 'granitico', 'basaltico', 'colchao', 'areia', 'rejuntado', 'argamassa', 'cimento', 'traco', 'trecho', 'desatualizados', 'tomara', 'epifanio', 'publicam', 'povo', 'higiene', 'utensilios', 'deslocarem', 'suspensa', 'mandaram', 'rodada', 'nitido', 'malandragem', 'amarante', 'parcelado', 'pmapi', 'chamou', 'aoferece', 'ceara', 'praiapi', 'acrisio', 'veras', 'encargo', 'tentei', 'diretamente', 'obtive', 'passagem', 'franca', 'inspecao', 'tiraram', 'faco', 'consequente', 'to', 'ocorrera', 'politico', 'adverso', 'pispasep', 'vila', 'inabilitado', 'anexando', 'atas', 'prestadora', 'secult', 'mantendo', 'restabelecidas', 'notificada', 'cge', 'volte', 'funcionar', 'maiorias', 'divulgar', 'gas', 'liquefeito', 'petroleo', 'glp', 'cozinha', 'kg', 'tiego', 'bezerra', 'coimbra', 'noventa', 'espanta', 'agraciado', 'indicado', 'ronaldo', 'href=\\\\httpswwwelesbaonewscomhyeziomouraeexoneradoetiegohtml\\\\', 'httpswwwelesbaonewscomhyeziomouraeexoneradoetiegohtml', 'ai', 'dedicacao', 'exclusiva', 'incompatibilidade', 'comando', 'href=\\\\httpswwwelesbaonewscomtiegocoimbraseriaoindicadoparahtml\\\\', 'httpswwwelesbaonewscomtiegocoimbraseriaoindicadoparahtml', 'pais', 'admirar', 'locais', 'omisso', 'afinal', 'resolver', 'coisas', 'figura', 'reunioes', 'gimas', 'exercidas', 'ul', 'legalmente', 'acumulam', 'estabelecimento', 'aplicase', 'excecao', 'afirmar', 'conveniencia', 'basta', 'pacientes', 'atendidos', 'maraja', 'determinar', 'ajuizar', 'coniventes', 'parar', 'fique', 'devendose', 'ressarcir', 'marcaram', 'feriado', 'proibido', 'tabelas', 'enviem', 'publiquem', 'prata', 'inobservancia', 'incomum', 'alheio', 'ocasionara', 'irreparaveis', 'lentamente', 'continuam', 'triste', 'recorrer', 'infelizemente', 'denucia', 'iremos', 'letras', 'condis', 'aja', 'nutricao', 'pasprograma', 'alimento', 'seguro', 'obrigratorio', 'produzem', 'manipulam', 'possuam', 'eiva', 'vicio', 'manipulacao', 'fornencimento', 'garatir', 'pricipio', 'selacao', 'pulblica', 'ps', 'pricipios', 'covocatorio', 'serra', 'anailde', 'eudes', 'cleiton', 'gustavo', 'cras', 'lilian', 'protocolado', 'inscricao', 'enviou', 'enviaram', 'enviariam', 'editaveis', 'inviabiliza', 'extenso', 'manual', 'penitenciaria', 'gonzaga', 'rebelo', 'alterado', 'ocasionando', 'obriga', 'gera', 'fases', 'envelope', 'posicione', 'braz', 'siconv', 'funasa', 'classificada', 'perdeu', 'veio', 'renovados', 'renovou', 'excluindo', 'chamando', 'excluidas', 'agir', 'suspenso', 'procuram', 'procedem', 'grata', 'sueli', 'consiste', 'representada', 'continuamente', 'efetuando', 'criado', 'discorre', 'tutor', 'receberao', 'bolsas', 'mec', 'pagadora', 'excelencias', 'proceda', 'possam', 'exata', 'exato', 'recebida', 'credenciar', 'desempenham', 'tapuio', 'ultrapassou', 'ira', 'entraram', 'encerrados', 'estranheza', 'trabalharem', 'registradas', 'imagina', 'computasse', 'indice', 'veradores', 'parnagua', 'susbcrevem', 'helena', 'santana', 'melo', 'guida', 'honrosamente', 'promover', 'jondson', 'anunciam', 'segunda', 'indigitado', 'nomeara', 'ali', 'transgredindo', 'contida', 'regula', 'nefasta', 'ideia', 'tornou', 'inadmissivel', 'insistencia', 'naquilo', 'jussara', 'valdimiro', 'tharig', 'levy', 'lslaete', 'emprestimos', 'consignados', 'atraso', 'banco', 'brasil', 'agencia', 'correntepi', 'feitos', 'provocado', 'passada', 'ocupa', 'hospedaria', 'tantas', 'noticiamos', 'acaso', 'constadas', 'requeremos', 'reprimendas', 'iniciarem', 'consultando', 'joedson', 'alertas', 'deparamos', 'direciona', 'mecanismo', 'punitivo', 'cansativo', 'relato', 'escanncara', 'tecnicooperacional', 'proponente', 'executado', 'servicosobras', 'compativeis', 'oes', 'relevancia', 'significativo', 'definidas', 'pedra', 'lajeada', 'aterro', 'rejuntada', 'passeio', 'intertravado', 'retangular', 'colorido', 'cm', 'af_', 'luminaria', 'und', 'alambrado', 'quadra', 'poliesportiva', 'estruturado', 'tubos', 'aco', 'galvanizado', 'montantes', 'diametro', 'travessas', 'escoras', 'arame', 'fio', 'bwg', 'malha', 'quadrada', 'xcm', 'mureta', 'chafariz', 'concreto', 'premoldado', 'modulos', 'pergolado', 'arco', 'l', 'capacitacao', 'tecnicoprofissional', 'is', 'crea', 'detentor', 'es', 'registrado', 'cau', 'acompanhados', 'obrasservicos', 'limitado', 'tantos', 'julgar', 'pertencentes', 'comprovem', 'cplpiripiri', 'pedisse', 'cobertura', 'paver', 'bloquete', 'similar', 'simples', 'armado', 'estruturas', 'metalicas', 'facil', 'tirar', 'preferida', 'saia', 'fiscalador', 'retirado', 'mantendose', 'inalteradas', 'republique', 'afim', 'ciencia', 'cumpriu', 'cadastrar', 'comento', 'httpswwwsaomigueldotapuiopigovbrtransparenciacovidsecretariadesaude', 'pasta', 'recomendacoes', 'aproveitando', 'voto', 'jamais', 'proporcionando', 'brejo', 'fardamentos', 'compareci', 'retroativa', 'reservado', 'revogar', 'superveniente', 'anulalo', 'provocacao', 'fundamentado', 'falou', 'virtude', 'revogado', 'deixa', 'registrada', 'credenciou', 'debora', 'ravenna', 'rosal', 'titular', 'socios', 'concorrente', 'cgu', 'constem', 'condenacoes', 'civeis', 'incluida', 'conas', 'apresentados', 'estatuto', 'civis', 'constitutivo', 'cartorio', 'decorrencia', 'investidura', 'idoneidade', 'identificarse', 'exibindo', 'contenha', 'autenticada', 'original', 'conferencia', 'etapa', 'localizacao', 'acompanhada', 'fotografias', 'indique', 'modelo', 'estadualmunicipal', 'cotandose', 'discriminado', 'moeda', 'algarismo', 'casas', 'decimais', 'virgula', 'propostos', 'incluidos', 'lucro', 'fretes', 'tributos', 'diretas', 'indiretas', 'interposicao', 'cabivel', 'subsidiariamente', 'bombeados', 'mandado', 'contracao', 'nenem', 'edite', 'demitidos', 'evitado', 'elenca', 'municipioorg', 'oficiais', 'piauienses', 'instituicoes', 'sindicatos', 'associacoes', 'tange', 'desaparecimento', 'jornalistas', 'fantasmas', 'aparecerem', 'restringem', 'minimas', 'comprovadas', 'assentamento', 'guia', 'reto', 'confeccionada', 'pre', 'fabricado', 'salientamos', 'tcus', 'solicitaram', 'excluissem', 'barreira', 'deliberada', 'constatada', 'arbitrariedade', 'direcionamento', 'pares', 'belprazer', 'maneiras', 'excluir', 'acontecem', 'estaduais', 'limitarsea', 'aptidao', 'compativel', 'instalacoes', 'aparelhamento', 'adequados', 'responsabilizara', 'registrados', 'competentes', 'limitadas', 'semelhantes', 'vedadas', 'maximos', 'vetado', 'incluido', 'destacamos', 'leitura', 'combinada', 'prescrever', 'referia', 'justamente', 'texto', 'ratificamos', 'tecnicaoperacional', 'exigida', 'comprometer', 'reiteramos', 'cumprase', 'plenitude', 'excluidos', 'ferir', 'joelson', 'contidos', 'habilitou', 'incompleta', 'expressa', 'timbrado', 'dirigente', 'tipos', 'especificados', 'suficientes', 'barreiras', 'responsabilizandose', 'imputadas', 'licenciamento', 'crlv', 'transito', 'aduz', 'leonado', 'leao', 'ligacao', 'encontrava', 'procuracao', 'convenhamos', 'desfeito', 'perdendo', 'referiu', 'representate', 'inabilitacao', 'justifica', 'impediu', 'manupa', 'interpor', 'alegar', 'impedida', 'licitar', 'alegacao', 'alegacoes', 'simone', 'valenca', 'quixoite', 'lugar', 'prevaricacao', 'qualificacoes', 'tendem', 'diminuir', 'competividade', 'semanas', 'vao', 'visite', 'deposito', 'veja', 'feijao', 'conto', 'fara', 'onibus', 'disponibiizou', 'intressadas', 'legaldade', 'manofrando', 'interesses', 'particulares', 'gerar', 'falha', 'punidos', 'corretiva', 'preventiva', 'inexistente', 'inexequiveis', 'computadores', 'notebooks', 'copiadoras', 'insumos', 'fotocopiadoras', 'jesuspi', 'desmotivado', 'beneficia', 'infratores', 'dita', 'venia', 'semestre', 'resolveu', 'empossar', 'procurado', 'lotar', 'especie', 'apadrinhamento', 'evidenciase', 'merito', 'lograr', 'exito', 'efetivamente', 'caracterizando', 'discriminacao', 'oficiou', 'ente', 'surtiu', 'desejado', 'regas', 'desistencias', 'lotados', 'colocada', 'popular', 'trabalhava', 'exonerado', 'apresentei', 'ficou', 'definida', 'receberemos', 'caotica', 'destarte', 'caracteriza', 'desfavor', 'outrem', 'infinitas', 'administrativamente', 'solucao', 'desempregada', 'intervir', 'cometidas', 'preservando', 'relotacao', 'prescreve', 'restritamente', 'preservado', 'igualitario', 'concorrendo', 'formoso', 'desabilitou', 'diantes', 'resaltar', 'vantajosas', 'aceita', 'pala', 'co', 'forme', 'sirvome', 'barra', 'd\\\\', 'alcantarapi', 'visiveis', 'poucas', 'olhadas', 'superfaturamento', 'altissimos', 'quilograma', 'carnes', 'moidas', 'pessima', 'acucares', 'oleo', 'comestivel', 'alugados', 'carros', 'servindo', 'transportar', 'mercadorias', 'supermercado', 'grupo', 'ideal', 'faixa', 'pegar', 'locadora', 'inapropriados', 'finais', 'namoradas', 'descaracterizando', 'utilidade', 'bizarro', 'abastecidos', 'gasolina', 'licitatrio', 'vive', 'esvaziada', 'pergunta', 'ainfelizmente', 'lamentvel', 'entradas', 'saidas', 'hospitalares', 'confirme', 'ressarcido', 'noticiam', 'juntos', 'laranja', 'desvios', 'flagrado', 'mala', 'absoluto', 'sofri', 'sofro', 'perseguicoes', 'politicas', 'conformar', 'reivindicar', 'alcantarenses', 'transferido', 'repressao', 'intimidacao', 'chegando', 'humilhacoes', 'sofridas', 'desrespeita', 'certeza', 'farra', 'caminhar', 'enxugando', 'gelo', 'beneficiadas', 'prit', 'desconformidade', 'tiradas', 'lustosa', 'entramos', 'habilitada', 'comerciais', 'brasileirapi', 'roubo', 'maquiados', 'eleitoreiro', 'leu', 'dale', 'almoco', 'reclamar', 'infracao', 'regulamenta', 'integrado', 'desobediencia', 'culminar', 'atuais', 'regra', 'passa', 'independente', 'saudenobrasil', 'nasf', 'antigo', 'sabia', 'configurar', 'profissao', 'preencher', 'requisito', 'buscamos', 'curimata', 'representado', 'zoraide', 'fernandes', 'valdecir', 'anubete', 'angelino', 'receberam', 'alimentar', 'representar', 'dignidade', 'causando', 'desequilibrio', 'constrangimentos', 'vida', 'cortes', 'regularizar', 'desagradavel', 'registrar', 'andresa', 'matos', 'conivencia', 'estadodo', 'sigilosa', 'anna', 'beatriz', 'passo', 'expor', 'inscritos', 'surpreendidos', 'temeraria', 'marcacao', 'creio', 'despeito', 'trazer', 'merecem', 'promotoria', 'vieram', 'comentarios', 'comecaram', 'reproduzir', 'insistente', 'nessas', 'conversas', 'existiu', 'fraudado', 'ligados', 'gostariam', 'efetivados', 'tavares', 'concorrer', 'adrianna', 'especialista', 'alercio', 'mental', 'ted', 'daniele', 'concunhado', 'moacir', 'pt', 'elo', 'claudia', 'negocio', 'avancado', 'apressado', 'adquirir', 'fraudulenta', 'escolaridade', 'mp', 'estudam', 'dedicam', 'fraudando', 'relatos', 'eleitoras', 'concorre', 'supostamente', 'repassados', 'concluido', 'si', 'demonstraria', 'thalyta', 'intermediado', 'monitoramento', 'listadas', 'telefones', 'oitiva', 'envolvidas', 'alecio', 'mantidos', 'excessivo', 'detalhamento', 'especificacao', 'resulta', 'altamente', 'redirecionado', 'comprometendo', 'eletrica', 'convencional', 'kv', 'subestacoes', 'aereas', 'kva', 'orebe', 'freitaspi', 'microempresas', 'aglutinou', 'microempresa', 'trazidas', 'licitacoesweb', 'adjudicacao', 'incompativel', 'aparente', 'direcionando', 'reduzir', 'optando', 'alzenira', 'pitombeira', 'montorio', 'avaliem', 'diferenca', 'juraci', 'relatou', 'adotou', 'iniciam', 'comecam', 'interessado', 'afirma', 'desligados', 'disse', 'abono', 'repassou', 'adicional', 'repassado', 'indevidos', 'gerardo', 'coronel', 'sinal', 'regionais', 'efetuam', 'atrasam', 'irreal', 'inexig', 'matusalem', 'identificou', 'infringencias', 'avisos', 'fontes', 'httpafraniopegovbrtransparencia', 'passados', 'marcio', 'desclassificada', 'automotivas', 'vendas', 'fornecemos', 'vencido', 'baixo', 'cancelado', 'lobaopi', 'tulio', 'enrique', 'totaliza', 'sucupira', 'riachao', 'jornada', 'semanal', 'suspender', 'comunicado', 'higienizacao', 'realizados', 'psicossocial', 'caps', 'especialidades', 'medicas', 'ciem', 'hernani', 'bruno', 'agrario', 'governador', 'wellington', 'sineinterior', 'sine', 'veda', 'hipotese', 'cessar', 'participou', 'nomeia', 'ocuparem', 'familiares', 'caracterizam', 'puro', 'cultural', 'demerson', 'kassio', 'caracterizado', 'nepotismoimprobidade', 'ajuizada', 'descalabro', 'participando', 'licitario', 'baixos', 'mostras', 'dando', 'enteder', 'beneficiando', 'pcsmo', 'ppra', 'pgrs', 'moveis', 'computador', 'mesas', 'enfim', '``', 'marcelino', 'fatima', 'carroceria', 'aberta', 'infligindo', 'postos', 'rogo', 'atuam', 'fortes', 'repasse', 'incentivo', 'denominado', 'pmaq', 'chamase', 'previne', 'repassando', 'criada', 'impede', 'impedimento', 'recebiamos', 'impasse', 'brasileiros', 'metas', 'cumpridas', 'explicacao', 'concerne', 'supervisor', 'dificil', 'permitino', 'distancia', 'residencia']\n"
          ]
        }
      ]
    },
    {
      "cell_type": "markdown",
      "metadata": {
        "id": "dZ01fSbQYq-K"
      },
      "source": [
        "### Verificar os *n* termos mais similares"
      ]
    },
    {
      "cell_type": "code",
      "metadata": {
        "id": "h6kBBXZtg3e5",
        "colab": {
          "base_uri": "https://localhost:8080/"
        },
        "outputId": "51506131-92e6-4825-ab97-8902e8b3a4b2"
      },
      "source": [
        "print(w2v_model.wv.most_similar(positive='licitacao', topn=10))"
      ],
      "execution_count": 14,
      "outputs": [
        {
          "output_type": "stream",
          "name": "stdout",
          "text": [
            "[('objeto', 0.47994446754455566), ('analise', 0.4280455708503723), ('ate', 0.4061228632926941), ('ainda', 0.39845865964889526), ('saber', 0.3816721737384796), ('m', 0.38051682710647583), ('agosto', 0.37602052092552185), ('investigacao', 0.3740607500076294), ('prefeitura', 0.36891287565231323), ('saude', 0.3689092695713043)]\n"
          ]
        }
      ]
    },
    {
      "cell_type": "markdown",
      "metadata": {
        "id": "JSZ2GagpY5mv"
      },
      "source": [
        "### Região do espaço vetorial dos termos similares"
      ]
    },
    {
      "cell_type": "code",
      "metadata": {
        "id": "5L6Mr-kSYmJ2",
        "colab": {
          "base_uri": "https://localhost:8080/",
          "height": 346
        },
        "outputId": "20434324-7dab-4f12-9a57-e6de9c3af2ef"
      },
      "source": [
        "display_closestwords_tsnescatterplot(w2v_model, 'licitacao', 100)"
      ],
      "execution_count": 15,
      "outputs": [
        {
          "output_type": "stream",
          "name": "stderr",
          "text": [
            "/usr/local/lib/python3.7/dist-packages/sklearn/manifold/_t_sne.py:783: FutureWarning: The default initialization in TSNE will change from 'random' to 'pca' in 1.2.\n",
            "  FutureWarning,\n",
            "/usr/local/lib/python3.7/dist-packages/sklearn/manifold/_t_sne.py:793: FutureWarning: The default learning rate in TSNE will change from 200.0 to 'auto' in 1.2.\n",
            "  FutureWarning,\n"
          ]
        },
        {
          "output_type": "display_data",
          "data": {
            "image/png": "[encoded data removed]",
            "text/plain": [
              "<Figure size 432x288 with 1 Axes>"
            ]
          },
          "metadata": {
            "needs_background": "light"
          }
        }
      ]
    },
    {
      "cell_type": "markdown",
      "metadata": {
        "id": "0ufmtrbwHaue"
      },
      "source": [
        "## SKIP-GRAM"
      ]
    },
    {
      "cell_type": "code",
      "metadata": {
        "colab": {
          "base_uri": "https://localhost:8080/"
        },
        "id": "JsQCHj-uHbWj",
        "outputId": "c1ac6e8e-6fc9-4c84-bc3b-35e1ecb98ae4"
      },
      "source": [
        "w2v_model = Word2Vec.load(model_skip_fp)\n",
        "words = list(w2v_model.wv.vocab)\n",
        "print(words)"
      ],
      "execution_count": 16,
      "outputs": [
        {
          "output_type": "stream",
          "name": "stdout",
          "text": [
            "['licitacao', 'publicada', 'prazo', 'tce', 'dia', 'abertura', 'dados', 'orgao', 'publico', 'p', 'm', 'miguel', 'alves', 'processo', 'lw', 'procedimento', 'administrativo', 'tipo', 'objeto', 'obras', 'servicos', 'engenharia', 'contratacao', 'empresa', 'execucao', 'reformas', 'ubs', 'sao', 'municipio', 'dt', 'cadastro', 'ult', 'alteracao', 'venho', 'informar', 'atraves', 'deste', 'divergencia', 'valores', 'edital', 'planilha', 'orcamentaria', 'anexados', 'tribunal', 'contas', 'referente', 'tomada', 'precos', 'ndeg', 'secretaria', 'agronegocio', 'empreendedorismo', 'rural', 'constitui', 'presente', 'pavimentacao', 'paralelepipedo', 'vias', 'publicas', 'riacho', 'friopi', 'conforme', 'discriminadas', 'projeto', 'basico', 'mediante', 'regime', 'empreitada', 'preco', 'unitario', 'lagoa', 'sitio', 'compra', 'material', 'permanente', 'ramo', 'forma', 'parcelada', 'objetivando', 'fornecimento', 'equipamentos', 'informatica', 'suprir', 'necessidades', 'atividades', 'diarias', 'municipal', 'saude', 'exercicio', 'pedir', 'atestados', 'capacidade', 'tecnica', 'sendo', 'assim', 'empresas', 'novas', 'nao', 'poderao', 'participar', 'licitatorio', 'boa', 'tarde', 'exprefeito', 'massape', 'piaui', 'tomou', 'nenhuma', 'atitude', 'relacao', 'servidor', 'danilo', 'araujo', 'beserra', 'so', 'edcarlos', 'martins', 'ramos', 'atual', 'prefeito', 'rivaldo', 'carvalho', 'costa', 'nomeou', 'assessor', 'comunicacao', 'cuncunhado', 'situacao', 'decisoes', 'plenario', 'acatadas', 'desde', 'pessoal', 'peco', 'nome', 'mantido', 'sigilo', 'prezado', 'relator', 'jaylson', 'meio', 'denunciar', 'grave', 'joan', 'albuquerque', 'rocha', 'canavieira', 'gestor', 'receber', 'oficio', 'tc', 'ordenou', 'notificasse', 'funcionarios', 'cujo', 'tabela', 'desse', 'direito', 'ampla', 'defesa', 'contraditorio', 'servidores', 'ultimo', 'concurso', 'vista', 'necessidade', 'regularizacao', 'admissoes', 'ja', 'conhecimento', 'fato', 'inves', 'notificar', 'apresentar', 'simplismente', 'demitiu', 'solicito', 'senhor', 'tome', 'providencias', 'adote', 'medidas', 'frear', 'respeita', 'lei', 'desta', 'solicitar', 'diligencia', 'nesse', 'pois', 'mesma', 'pedindo', 'documentos', 'conta', 'tirando', 'outras', 'participarem', 'mostra', 'anexo', 'enviado', 'bocaina', 'aquisicao', 'bens', 'consumo', 'testes', 'covid', 'pi', 'semana', 'acontecendo', 'minimo', 'estranho', 'site', 'diario', 'oficial', 'municipios', 'conseguindo', 'acessar', 'publicacoes', 'exemplo', 'prefeitura', 'dias', 'anteriores', 'meses', 'janeiro', 'fevereiro', 'pedido', 'esclarecimentos', 'posso', 'acompanhar', 'vai', 'licitacoes', 'ver', 'deveria', 'servir', 'maximo', 'transparencia', 'acontece', 'dessa', 'natureza', 'francisco', 'sousa', 'coutinho', 'portal', 'gm', 'tomadas', 'lamentavel', 'camara', 'ilha', 'grande', 'consta', 'quadros', 'especial', 'controlador', 'interno', 'rebeca', 'andrade', 'pereira', 'cpf', 'servidora', 'efetiva', 'constituicao', 'estado', 'estabelecido', 'emenda', 'constitucional', 'acrescentou', 'artigo', 'estadual', 'ssss', 'prescrevem', 'seguinte', 'sso', 'titulares', 'orgaos', 'controle', 'poderes', 'serao', 'nomeados', 'dentre', 'integrantes', 'quadro', 'efetivo', 'cada', 'poder', 'instituicao', 'ambitos', 'mandato', 'tres', 'anos', 'observa', 'acima', 'alem', 'impor', 'nomeacao', 'cargo', 'determinou', 'regulamentacao', 'local', 'sistema', 'portanto', 'tratase', 'flagrante', 'desrespeito', 'bom', 'tempo', 'gostaria', 'comunicar', 'ministerio', 'tcepi', 'exoneracao', 'previa', 'jose', 'peixepi', 'ocorrido', 'atenciosamente', 'rodrigo', 'prezados', 'fazendo', 'pesquisa', 'sobre', 'publicacao', 'relatorios', 'gestao', 'estados', 'verifiquei', 'sefaz', 'controladoria', 'publicaram', 'todos', 'demonstrativos', 'alguns', 'arquivos', 'abrem', 'estao', 'incompletos', 'precisava', 'fiscal', 'publicados', 'ate', 'publicado', 'quadrimestre', 'exercicios', 'lrf', 'rgf', 'definido', 'preciso', 'informacoes', 'despesa', 'ativo', 'inativo', 'receita', 'corrente', 'liquida', 'solicitacao', 'tendo', 'obrigatoriedade', 'desses', 'entes', 'encaminharem', 'generos', 'alimenticios', 'pereciveis', 'destinados', 'educacao', 'excelencia', 'resultou', 'odon', 'veloso', 'sogro', 'vereador', 'tambem', 'pai', 'esposa', 'lucileide', 'epoca', 'ordenadora', 'despesas', 've', 'contratado', 'autorizou', 'ganhou', 'imoralidade', 'possivel', 'abuso', 'economico', 'inclusive', 'campanha', 'denuncio', 'ha', 'sete', 'consegui', 'fazer', 'geral', 'prestadores', 'devido', 'ponto', 'facultativo', 'segundo', 'funcionario', 'atendeu', 'h', 'recusou', 'adiamento', 'deg', 'antes', 'entao', 'menos', 'comissao', 'funcione', 'funcionaria', 'melhor', 'justo', 'tps', 'online', 'obrigado', 'piripiri', 'instrumento', 'deunciar', 'exigencia', 'exorbitante', 'havendo', 'qualificacao', 'relativo', 'quantitativos', 'exigindo', 'editais', 'nunca', 'ter', 'tais', 'exigencias', 'tudo', 'leva', 'crer', 'direcionamnto', 'favorecimento', 'chamada', 'dd', 'edificacoes', 'locacoes', 'servico', 'eirelime', 'cnpj', 'ser', 'favorecida', 'vencedora', 'porque', 'montada', 'atendo', 'documentacao', 'citada', 'cima', 'execulto', 'obra', 'todas', 'quantitativo', 'peso', 'vc', 'devidas', 'retirada', 'parte', 'obs', 'inrregularidade', 'pagina', 'restringindo', 'competitividade', 'favorecendo', 'apenas', 'especializada', 'construcao', 'praca', 'publica', 'irregularidade', 'pregao', 'presencial', 'realizacao', 'exames', 'laboratoriais', 'curraispi', 'julho', 'iniciou', 'procedimentos', 'relativos', 'sessao', 'sequencia', 'procedeu', 'identificacao', 'credenciamento', 'licitantes', 'respectivos', 'representantes', 'legais', 'ato', 'continuo', 'apos', 'envelopes', 'contendo', 'propostas', 'interrompida', 'sob', 'argumento', 'realizado', 'classificacao', 'bem', 'divulgado', 'imprensa', 'logo', 'email', 'convocacao', 'reabertura', 'ocorre', 'informada', 'hmin', 'anterior', 'aviso', 'disponibilizada', 'horario', 'posterior', 'eis', 'ofensa', 'principios', 'publicidade', 'razoabilidade', 'momento', 'suspensao', 'pregoeiro', 'deve', 'nova', 'data', 'continuidade', 'participantes', 'saindo', 'intimados', 'continuacao', 'trabalhos', 'ademais', 'determina', 'uniao', 'sempre', 'justificada', 'ainda', 'breve', 'entretanto', 'consignou', 'justificativa', 'tal', 'conduta', 'pautada', 'irregularidades', 'condutas', 'praticadas', 'cpl', 'currais', 'eivadas', 'vicios', 'requer', 'cancelamento', 'lancada', 'neste', 'canal', 'acontecimento', 'certame', 'ficando', 'muitos', 'impossibilitados', 'acesso', 'planilhas', 'par', 'participacao', 'hora', 'prestacao', 'pequenos', 'reparos', 'predios', 'publicos', 'horapiaui', 'ola', 'qualidade', 'cidadao', 'competente', 'cabiveis', 'campo', 'largo', 'homenagiando', 'expressos', 'administracao', 'quais', 'legalidade', 'impessoalidade', 'moralidade', 'eficiencia', 'referido', 'passivel', 'suspeitas', 'confiabilidade', 'lisura', 'inicialmente', 'acordo', 'cronograma', 'intem', 'resultado', 'final', 'definitivo', 'homologacao', 'entanto', 'hoje', 'disponibilizado', 'banca', 'responsavel', 'divulgacao', 'gabarito', 'pra', 'item', 'vale', 'ressaltar', 'entrei', 'contato', 'fale', 'conosco', 'infelizmente', 'nenhum', 'retorno', 'prezando', 'norteiam', 'pedese', 'padre', 'marcos', 'rapido', 'igg', 'igm', 'atender', 'marcospi', 'convite', 'repasses', 'atesta', 'aba', 'recursos', 'orcamentarios', 'afronta', 'sociedade', 'primeiro', 'viola', 'disposto', 'decreto', 'sequer', 'recomendado', 'fontetcu', 'visto', 'privilegia', 'competicao', 'facilita', 'conluio', 'desanima', 'acontecer', 'poe', 'xeque', 'seguranca', 'juridica', 'reclamacao', 'respeito', 'senhora', 'remedios', 'cidade', 'passou', 'realizar', 'fez', 'justica', 'inicio', 'vem', 'agindo', 'ma', 'fe', 'demonstrando', 'vontade', 'realizalo', 'lancamento', 'suspendeu', 'editando', 'pediu', 'continuasse', 'resolvesse', 'apontados', 'corrigiu', 'permitiu', 'andamento', 'onde', 'chegou', 'proximo', 'terminar', 'fim', 'lancado', 'livre', 'espontanea', 'numero', 'gigantesco', 'contratos', 'pedimos', 'esclareca', 'pontos', 'precisarem', 'disposicao', 'ajudar', 'inumeras', 'provas', 'funcoes', 'confianca', 'ricardo', 'viana', 'mazulo', 'denise', 'rego', 'chaves', 'jessica', 'alencar', 'filha', 'regina', 'parente', 'humberto', 'machado', 'genro', 'esposo', 'nomeacoes', 'parnaibapi', 'junte', 'portaria', 'elizabeth', 'goncalves', 'guimaraes', 'tia', 'gedison', 'rodrigues', 'trata', 'parentes', 'assis', 'pagou', 'decimo', 'terceiro', 'salario', 'professores', 'gostariamos', 'alguma', 'providencia', 'fiscalizacao', 'apresenta', 'varias', 'partes', 'inelegiveis', 'tornando', 'impossivel', 'proposta', 'correta', 'corrigir', 'erros', 'monsenhor', 'hipolito', 'bairro', 'dantas', 'hipolitopi', 'convenio', 's', 'genildo', 'soares', 'caxias', 'marinete', 'recebem', 'todo', 'mes', 'balancetes', 'porem', 'faz', 'seis', 'dar', 'aulas', 'professora', 'folha', 'pagamento', 'domingos', 'pedro', 'ii', 'lembrar', 'mourao', 'professor', 'batalha', 'efetivos', 'ano', 'vistos', 'sala', 'aula', 'colegios', 'daqui', 'intrigante', 'diarios', 'classe', 'aparecem', 'assinados', 'sabe', 'outros', 'realmente', 'dao', 'remuneracao', 'comenta', 'devolvem', 'dinheiro', 'julio', 'cesar', 'barbosa', 'franco', 'importante', 'investigar', 'caminho', 'saber', 'transferem', 'alguem', 'sacam', 'investigacao', 'punicao', 'responsaveis', 'supostos', 'crimes', 'cometidos', 'nomes', 'constam', 'fundeb', 'supramencionado', 'desnorteiam', 'preconiza', 'meramente', 'caprichosas', 'burocraticas', 'habilitacao', 'traz', 'b', 'ora', 'partir', 'art', 'trazem', 'necessarios', 'contidas', 'abusivas', 'senao', 'bastasse', 'entrega', 'apresentacao', 'autorizacao', 'emitida', 'setor', 'ambulancia', 'pequeno', 'devendo', 'alegre', 'zero', 'km', 'alegrepi', 'airton', 'dezembro', 'binha', 'diz', 'pagar', 'nesses', 'termos', 'exijo', 'cumprimento', 'bloqueio', 'pague', 'carater', 'urgencia', 'tratar', 'extrema', 'sustento', 'familia', 'vimos', 'temporarios', 'aparecam', 'httpportaltransparenciafacesindexxhtml', 'p=pau_darco_do_piaui', 'vez', 'recebido', 'valor', 'prestado', 'maioria', 'aparece', 'termo', 'impossibilita', 'averiguar', 'pessoas', 'trabalham', 'prestam', 'resumindo', 'pagas', 'omissao', 'salarios', 'anexamos', 'somente', 'confirmar', 'orcamento', 'desoneracao', 'utilizado', 'menor', 'faltando', 'rua', 'magno', 'pires', 'cidades', 'divinopi', 'relata', 'sra', 'vandelice', 'maria', 'lima', 'verde', 'lopes', 'vilarinho', 'exerce', 'gerente', 'enfermagem', 'hospital', 'norberto', 'moura', 'funcao', 'chefe', 'samu', 'elesbao', 'atua', 'enfermeira', 'plantonista', 'unidade', 'basica', 'picarra', 'substituicao', 'sr', 'getulio', 'portela', 'novembro', 'denuncia', 'controladora', 'internada', 'agua', 'brancapiaui', 'interna', 'nomeada', 'presidente', 'raimundo', 'almeida', 'santos', 'formacao', 'superior', 'analfabeta', 'ainterna', 'branca', 'totalmente', 'ilegal', 'imoral', 'total', 'coisa', 'desrespeitando', 'orientacoes', 'normas', 'propria', 'area', 'atitudes', 'elevo', 'votos', 'estima', 'consideracao', 'grato', 'atencao', 'mensagem', 'informardenunciar', 'laissa', 'morais', 'acumulando', 'cargos', 'irregular', 'ocupando', 'tecnico', 'legislativo', 'administrativa', 'alepi', 'empossada', 'recentemente', 'tecnologa', 'radiologia', 'teresina', 'fundacao', 'seletivo', 'legislacao', 'podem', 'acumulados', 'profissionais', 'pode', 'acumular', 'liguei', 'fms', 'informaram', 'denunciei', 'ouvidoria', 'apurem', 'demais', 'aprovados', 'aguardando', 'serem', 'convocados', 'vencer', 'agosto', 'lista', 'aprovadas', 'proxima', 'sentindo', 'injusticada', 'permitindo', 'irregularilegal', 'impedindo', 'proximas', 'convocacoes', 'caso', 'verifiquem', 'saido', 'favor', 'desconsiderar', 'fmsprefeitura', 'atuando', 'outro', 'permitido', 'obrigada', 'chamo', 'luis', 'entrando', 'sofrendo', 'transtornos', 'relacionada', 'piripiripi', 'vigia', 'concursado', 'questoes', 'oportunidades', 'resolve', 'exonerar', 'fiz', 'garantiram', 'vinculo', 'agora', 'trabalhando', 'privada', 'assinei', 'medida', 'provisoria', 'corona', 'virus', 'governo', 'beneficio', 'concedido', 'descobrir', 'referida', 'temo', 'usando', 'fantasma', 'disso', 'prejudicado', 'sobrevivendo', 'paga', 'queria', 'devo', 'proceder', 'vou', 'deixar', 'algumas', 'coletas', 'anexadas', 'lotes', 'pintura', 'iluminacao', 'eletrico', 'pertence', 'tio', 'trabalha', 'ana', 'barros', 'construcoes', 'simplicio', 'mendes', 'pp', 'hidraulico', 'mendespi', 'secretarias', 'bela', 'vinculos', 'parentesco', 'comissionados', 'desempenhada', 'marciano', 'tolentino', 'motorista', 'gabinete', 'nomeado', 'abril', 'primo', 'legitimo', 'neto', 'eliane', 'vice', 'gilvan', 'pessoa', 'intima', 'pertencente', 'configurado', 'nepotismo', 'possuir', 'espera', 'classificados', 'vigencia', 'valido', 'candidatos', 'selecionados', 'vagas', 'categorias', 'ofertadas', 'categoria', 'ocupada', 'dessas', 'assumirem', 'recebe', 'referentes', 'viagens', 'bastante', 'curioso', 'existe', 'empenho', 'entra', 'efetuar', 'implantacao', 'alto', 'longa', 'detectamos', 'seguintes', 'abusos', 'exigidos', 'exige', 'participante', 'apresente', 'certidao', 'positiva', 'efeito', 'negativa', 'deva', 'parcelamento', 'debitos', 'respectivo', 'garantias', 'dizem', 'aterse', 'validade', 'veracidade', 'respectivas', 'certidoes', 'negativas', 'positivas', 'subitem', 'solicita', 'apresentado', 'aberturas', 'comprovante', 'caucao', 'garantia', 'permite', 'contratual', 'encontrados', 'solicitamos', 'analisado', 'notificado', 'correcoes', 'sanar', 'pendencias', 'encontradas', 'novo', 'encaminhado', 'analise', 'quanto', 'aceitacao', 'destas', 'indicadas', 'att', 'tp', 'utilizacao', 'utilizando', 'federais', 'aceitar', 'meras', 'justificativas', 'eletrotecnico', 'utiliza', 'financeira', 'detentora', 'sistemas', 'internet', 'pagamentos', 'fornecedores', 'suficiente', 'adequar', 'modalidade', 'licitacaopregao', 'eletronico', 'ocorrencia', 'restricao', 'caridade', 'transporte', 'escolar', 'estimativa', 'global', 'lote', 'manutencao', 'campinas', 'denota', 'segue', 'ordem', 'cronologica', 'etapas', 'itens', 'burocratizam', 'regularidade', 'conjunta', 'infracoes', 'trabalhistas', 'possivelmente', 'mte', 'fica', 'claro', 'apresentada', 'dificulta', 'preparacao', 'exigir', 'entendimento', 'torna', 'inviavel', 'desnecessario', 'deixarem', 'declaracoes', 'exigidas', 'assinatura', 'socio', 'administrador', 'ambos', 'firma', 'reconhecida', 'deixara', 'automaticamente', 'inabilitada', 'anexos', 'modelos', 'declaracao', 'explicito', 'configurando', 'pegadinhas', 'requerer', 'assinadas', 'reconhecidas', 'poderiam', 'supridas', 'procurador', 'possua', 'nobre', 'julgador', 'recorrente', 'acerca', 'refere', 'mesmas', 'condicoes', 'estabelecidas', 'implicam', 'licitante', 'conhecida', 'desburocratizacao', 'claramente', 'entidades', 'distrito', 'federal', 'dispensada', 'i', 'reconhecimento', 'agente', 'confrontando', 'constante', 'documento', 'identidade', 'signatario', 'estando', 'assinando', 'diante', 'lavrar', 'autenticidade', 'proprio', 'tratando', 'modernizacao', 'simplificacao', 'refletir', 'tentativa', 'burocracia', 'praticada', 'reparticoes', 'autarquias', 'objetivo', 'eliminar', 'excesso', 'visando', 'racionaliza', 'atos', 'administrativos', 'readequacao', 'sanados', 'sindserm', 'correia', 'recebemos', 'denuncias', 'comunidade', 'principalmente', 'interiores', 'merenda', 'alunos', 'rede', 'ensino', 'averiguacao', 'verba', 'vinda', 'empregada', 'adequada', 'compreensao', 'apreco', 'darlan', 'cardoso', 'landri', 'sales', 'alimentando', 'web', 'tramite', 'hablitacao', 'ata', 'parecer', 'juridico', 'extrato', 'contrato', 'exposto', 'notifique', 'obrigar', 'alimentacao', 'informacao', 'completa', 'possa', 'fiscalizar', 'cw', 'multieventos', 'sede', 'pratica', 'ogilvan', 'silva', 'oliveira', 'jaicos', 'mantem', 'irmaos', 'osmilvan', 'r', 'osmildo', 'secretario', 'oziana', 'bispo', 'diretora', 'florisa', 'duvidando', 'protocolo', 'acrescentar', 'tl', 'lopesepp', 'oe', 'empenhos', 'voces', 'consigo', 'baixar', 'pdf', 'verificar', 'novamente', 'recebeu', 'sim', 'desculpem', 'ficar', 'insistindo', 'cajueiro', 'praia', 'executar', 'reforma', 'duas', 'lavanderias', 'povoado', 'imforma', 'convida', 'terceira', 'vizinha', 'primeira', 'convidadas', 'chama', 'vcs', 'autoridades', 'senhores', 'guaribas', 'abusando', 'troca', 'apoio', 'eleitoral', 'vedada', 'periodo', 'suspendam', 'irregulares', 'expedida', 'outra', 'demostra', 'rastro', 'terceirizado', 'contratada', 'terceirizada', 'auxiliar', 'aguardo', 'auxilio', 'beneditinospi', 'desatualizado', 'descumprindo', 'solicitase', 'provido', 'expedindose', 'notificacao', 'fixando', 'disponibilizacao', 'contratados', 'receitas', 'exercer', 'cidadania', 'acompanhando', 'faca', 'cumprir', 'direitos', 'alagoinha', 'terco', 'ferias', 'agradeco', 'comprometimento', 'desem', 'olhada', 'tira', 'idepi', 'instituto', 'desenvolvimento', 'recuperacao', 'estrada', 'vicinal', 'esperantinapi', 'extensao', 'construtorres', 'gerais', 'ltda', 'julgamento', 'decisao', 'doepi', 'anexa', 'denunciante', 'instalacao', 'canteiro', 'constando', 'licitados', 'coaduna', 'verdade', 'volume', 'precisamente', 'numeracao', 'convocatorio', 'comprovar', 'fazse', 'juntada', 'copia', 'integral', 'd', 'apurar', 'consequentemente', 'anular', 'nestes', 'pede', 'deferimento', 'usado', 'limitando', 'concorrencia', 'indo', 'encontro', 'prestou', 'particular', 'publicar', 'atestado', 'cat', 'acervo', 'supera', 'expedido', 'perante', 'creacau', 'considero', 'formalismo', 'devera', 'arem', 'acompanhado', 'arts', 'agricolandia', 'zona', 'urbana', 'bandeira', 'souza', 'oferecer', 'fulcro', 'abusiva', 'sebastiao', 'barrospi', 'seguir', 'expostas', 'registro', 'futura', 'grafico', 'municipalidade', 'fatos', 'subscrevente', 'interesse', 'representante', 'atividade', 'pertinente', 'eventual', 'agendada', 'preve', 'requisitos', 'ilegais', 'frustram', 'competitivo', 'infringir', 'regem', 'sera', 'demonstrada', 'ilegalidade', 'economicofinanceira', 'presenca', 'atestante', 'emitido', 'privado', 'legal', 'fornecido', 'alvara', 'funcionamento', 'dentro', 'f', 'certificado', 'cadastral', 'crc', 'junto', 'sabido', 'principais', 'motrizes', 'garante', 'vantajosa', 'limitar', 'interessada', 'desproporcionais', 'vamos', 'observar', 'absurdo', 'chega', 'finalidade', 'destaquei', 'apesar', 'clara', 'caracteristicas', 'necessario', 'coerentes', 'formulacao', 'atendendo', 'licitatorios', 'dispoe', 'dependem', 'determinada', 'expressamente', 'ss', 'salvo', 'imposicao', 'exigido', 'duvida', 'codigo', 'civil', 'constantes', 'escrito', 'assinado', 'presumemse', 'verdadeiras', 'manifestou', 'ressalvada', 'jurisprudencia', 'tcu', 'ed', 'rev', 'ampl', 'brasilia', 'pag', 'autorizado', 'solicitado', 'opcao', 'faculdade', 'escolha', 'questao', 'toda', 'absurdos', 'entende', 'vezes', 'vejamos', 'podera', 'substituida', 'entidade', 'previsto', 'sido', 'feito', 'obediencia', 'nesta', 'versou', 'dispositivo', 'expressao', 'indica', 'conferida', 'daquela', 'formalidade', 'corresponde', 'permitidas', 'estar', 'consonancia', 'destinase', 'garantir', 'observancia', 'principio', 'isonomia', 'selecao', 'promocao', 'nacional', 'sustentavel', 'processada', 'julgada', 'estrita', 'conformidade', 'basicos', 'igualdade', 'probidade', 'vinculacao', 'correlatos', 'vedado', 'agentes', 'admitir', 'prever', 'incluir', 'tolerar', 'clausulas', 'comprometam', 'restrinjam', 'frustrem', 'casos', 'sociedades', 'cooperativas', 'estabelecam', 'preferencias', 'distincoes', 'razao', 'naturalidade', 'domicilio', 'qualquer', 'circunstancia', 'impertinente', 'irrelevante', 'especifico', 'ressalvado', 'outubro', 'dever', 'tomar', 'ilegalidades', 'referenciadas', 'tentamos', 'paulo', 'roberto', 'pinheiro', 'telefone', 'informado', 'aparelho', 'desligado', 'tentativas', 'sucesso', 'passei', 'cplsebastiaobarrospi', 'gmailcom', 'resposta', 'prontamente', 'atendido', 'identifiquei', 'tratado', 'arrogante', 'falei', 'percebeu', 'causa', 'saiu', 'tangente', 'informando', 'iria', 'falar', 'solicitei', 'respondesse', 'havia', 'passado', 'seguida', 'vi', 'pmsebastiaobarrospi', 'aproveitei', 'conteudo', 'pedidos', 'contempladas', 'face', 'aguardamos', 'sentido', 'aqui', 'mencionadas', 'republicacao', 'inserindo', 'pleiteada', 'reabrindose', 'encharcando', 'dois', 'contracheque', 'devidos', 'descontos', 'mil', 'reais', 'desconto', 'deuselina', 'luciano', 'jerry', 'lucia', 'leonara', 'olhando', 'metade', 'caixa', 'ante', 'marcelo', 'miranda', 'falta', 'medicamentos', 'farmacia', 'hipertensao', 'diabetes', 'investigado', 'afastada', 'almoxarifado', 'negou', 'assinar', 'nota', 'dizendo', 'entender', 'tratava', 'fria', 'respectiva', 'referencia', 'impossibilitando', 'real', 'celeridade', 'tamboril', 'protecao', 'individual', 'epis', 'especificacoes', 'anexou', 'codigos', 'composicoes', 'unitarias', 'proprias', 'apresentem', 'investigue', 'exercido', 'leal', 'inscrito', 'cpfmf', 'comissionado', 'servido', 'imediatas', 'recomende', 'imediatamente', 'quero', 'promovido', 'geminianopi', 'padece', 'possiveis', 'embora', 'tempestivamente', 'ferindo', 'imperativos', 'estabelecidos', 'notoria', 'util', 'dificultando', 'previstas', 'narrados', 'comprovados', 'geminiano', 'sanitizacao', 'dedetizacao', 'cota', 'reservada', 'epp', 'fundespi', 'esportes', 'esportivo', 'eventuais', 'aquisicoes', 'desistema', 'ugorgao', 'pio', 'ix', 'realizadora', 'v', 'moreira', 'deixam', 'identificado', 'previsao', 'ppa', 'citacao', 'cujos', 'maiores', 'encontrase', 'limite', 'prudencial', 'gastos', 'iii', 'ofertados', 'algum', 'justificadas', 'disponibilizadas', 'enfermeiro', 'destes', 'nora', 'prefeita', 'enfermeiros', 'similares', 'comuns', 'definicao', 'apresentaram', 'planejamento', 'pudesse', 'nortear', 'segura', 'iv', 'abaixo', 'media', 'piso', 'salarial', 'cirurgiao', 'dentista', 'demite', 'massa', 'meados', 'alegando', 'atingimento', 'possui', 'longo', 'historico', 'atrasos', 'salariais', 'concursados', 'atingindo', 'frontalmente', 'aumentar', 'unico', 'vii', 'custeadas', 'inscricoes', 'proibida', 'brasileira', 'publicadas', 'contratacoes', 'aconteceu', 'asg', 'destacar', 'gestora', 'recontrata', 'marco', 'diversos', 'lotacao', 'estara', 'criterio', 'relacionado', 'q', 'pragas', 'urbanas', 'limpeza', 'fossas', 'licenca', 'sanitaria', 'ambiental', 'conselhos', 'paes', 'landim', 'descupinizacao', 'desratizacao', 'combate', 'disseminacao', 'pandemia', 'ocasionada', 'septicas', 'municipais', 'landimpi', 'doze', 'n', 'mural', 'alega', 'pagando', 'gratificacao', 'contratando', 'realizei', 'itainopolis', 'regido', 'fisioterapeuta', 'classificado', 'posicao', 'contudo', 'candidato', 'denilson', 'ficara', 'aprovado', 'colocacao', 'temporario', 'rege', 'processos', 'seletivos', 'fundamento', 'decorridos', 'vinte', 'quatro', 'encerramento', 'base', 'nisso', 'entreguei', 'extrajudicial', 'esclarecendo', 'desclassificacao', 'aprovacao', 'jorge', 'ocasiao', 'recebedor', 'expedito', 'ribeiro', 'campos', 'orientou', 'aguardar', 'podese', 'analisar', 'constata', 'poderei', 'esperar', 'ocorreram', 'mudancas', 'estipulando', 'prazos', 'contase', 'continua', 'exercendo', 'maneira', 'ininterrupta', 'agravos', 'transferiu', 'titulo', 'eleitor', 'relatorio', 'tre', 'exatamente', 'complementase', 'candidata', 'vanessa', 'ibiapino', 'assistente', 'social', 'aprovada', 'convocada', 'sigo', 'envio', 'comprovando', 'apresentadas', 'conselheira', 'observando', 'fornecendo', 'relacionadas', 'verificase', 'computo', 'gasto', 'observado', 'labor', 'desvio', 'george', 'luiz', 'lotado', 'infraestrutura', 'jacinto', 'roque', 'endemias', 'wilson', 'custodio', 'recebendo', 'katia', 'castro', 'assessora', 'laborando', 'biblioteca', 'engano', 'vereadora', 'debochando', 'respeitar', 'deboche', 'populacao', 'fiscalizadores', 'murici', 'portelas', 'poliedrica', 'tijolinhos', 'localidade', 'chamurro', 'portelaspi', 'sobrinho', 'juventude', 'cultura', 'sejuce', 'euler', 'nogueira', 'eugenio', 'leite', 'monteiro', 'segov', 'todavia', 'inacumulavel', 'cumular', 'possuem', 'exclusivo', 'coordenador', 'iaspiinst', 'ass', 'sau', 'mensal', 'facilmente', 'consultado', 'assembleia', 'legislativa', 'plclcon', 'reside', 'deu', 'expediente', 'recebidos', 'encontramse', 'referidos', 'improbidade', 'contra', 'adminstracao', 'autuada', 'sofrerem', 'sancoes', 'style=\\\\textalign', 'justify', 'narra', 'manifestante', 'lyana', 'floro', 'acumula', 'irregularmente', 'strong', 'conselheiro', 'sec', 'dir', 'humanos', 'penitenciario', 'maranhao', 'regular', 'advogada', 'oabpi', 'descumprimento', 'xvi', 'crfb', 'acumulacao', 'remunerada', 'exceto', 'compatibilidade', 'horarios', 'inciso', 'xi', 'cientifico', 'c', 'empregos', 'privativos', 'profissoes', 'regulamentadas', 'citadas', 'anteriormente', 'marcada', 'amanha', 'horas', 'anexado', 'feita', 'anisio', 'abreu', 'microempreendedor', 'mei', 'locacao', 'veiculos', 'automotores', 'pleitear', 'fraude', 'vencedor', 'nulo', 'pregoeira', 'corrigido', 'prorrogado', 'adequacao', 'mercado', 'proprietario', 'extrapolou', 'limites', 'meepp', 'pretende', 'entrar', 'fraudou', 'inidoneofalso', 'cliente', 'fornceeu', 'fornecedor', 'nf', 'atestando', 'forneceu', 'contrario', 'balanco', 'dre', 'suprimidas', 'porte', 'tentando', 'fraudar', 'veiculo', 'disponivel', 'tecpi', 'wwwtcepigovbr', 'link', 'jurema', 'hospitalar', 'odontologico', 'saudefms', 'referencias', 'acumulo', 'luzilandia', 'esperantina', 'joca', 'marques', 'madeiro', 'joaquim', 'adail', 'junior', 'rg', 'ssp', 'muncipio', 'magalhaes', 'matriculas', 'matricula', 'antonia', 'gardenia', 'hs', 'bernardo', 'ferreira', 'aurinete', 'tec', 'comunitaria', 'liane', 'comunitario', 'antonio', 'carlos', 'nascimento', 'valdemir', 'brito', 'aldenir', 'concursad', 'conrado', 'fenelon', 'parnaiba', 'ermelinda', 'cardoso-', 'elaine', 'fabio', 'estdo', 'paiui', 'francisca', 'mata', 'santa', 'quiteria', 'floriza', 'idelane', 'izael', 'aguiar', 'jucelia', 'kaly', 'maurideia', 'mirian', 'nonato', 'nunes', 'sonia', 'suzana', 'garcia', 'gomes', 'ssppi', 'extensionista', 'emater', 'paula', 'fabricia', 'mendonca', 'concursada', 'indisponibilidade', 'editavel', 'divergente', 'formato', 'excel', 'custoso', 'demorado', 'elaboracao', 'equidade', 'outrossim', 'detectado', 'vide', 'transcricao', 'praticado', 'estimamse', 'seiscentos', 'quarenta', 'oito', 'setenta', 'trinta', 'centavos', 'oriente', 'capina', 'varricao', 'poda', 'arvore', 'conservacao', 'ruas', 'logradouros', 'sarjetas', 'canais', 'urbano', 'coleta', 'lixo', 'domiciliar', 'residuos', 'solidos', 'indicios', 'gervasio', 'localizada', 'barras', 'gerencia', 'regional', 'gre', 'comum', 'regiao', 'lages', 'diretor', 'estaria', 'pessoais', 'informa', 'comprando', 'bebidas', 'alcoolicas', 'comercios', 'sobretudo', 'quot', 'mercadinho', 'ze', 'neto\\\\', 'escola', 'dirige', 'repetidas', 'comunicou', 'tomado', 'buscou', 'praticados', 'joao', 'informamos', 'encontravase', 'ar', 'atualizacoes', 'impraticaveis', 'solicitados', 'consultas', 'sus', 'raio', 'x', 'ecocardiograma', 'distorcidos', 'realidade', 'medicos', 'especializadas', 'consulta', 'realizada', 'conlicitacao', 'httpsconlicitacaocombr', 'verificamos', 'destinado', 'picospi', 'retelhamento', 'reservatorios', 'medio', 'manutencaoreparos', 'centrais', 'condicionado', 'ventilacao', 'refrigeracao', 'desinsetizacao', 'ambientes', 'caixas', 'gorduras', 'poco', 'tubular', 'demandas', 'buriti', 'lopespi', 'encontram', 'divulgados', 'plataforma', 'eletronica', 'compras', 'preste', 'urgentes', 'agradecemos', 'fizeram', 'teste', 'deram', 'turno', 'experiencia', 'fazerem', 'indicacao', 'direta', 'caro', 'ouvidor', 'claudio', 'galvao', 'franciscopi', 'mui', 'respeitosamente', 'corte', 'realizara', 'jornal', 'deixou', 'duvidas', 'sigiloso', 'reparar', 'danos', 'indevida', 'santiago', 'feitoza', 'acaua', 'afranio', 'pe', 'comprobatoria', 'afraniope', 'links', 'httpportalafraniopegovbrtransparencia', 'httptransparenciapigovbrapexf', 'p=servidores', 'httpwwwdiariooficialpigovbrdiariophp', 'dia=', 'recebimento', 'assunto', 'pm', 'cristino', 'nbsp', 'manoel', 'contratou', 'vaz', 'irmao', 'senhorita', 'angela', 'referidas', 'constatados', 'mensais', 'folhas', 'assistencia', 'facilitar', 'verifique', 'notas', 'especificando', 'div', 'dir=\\\\auto\\\\', 'ildenes', 'leandro', 'medico', 'gabriela', 'avulsas', 'manobra', 'contratar', 'inss', 'convocado', 'levar', 'relativa', 'posse', 'esclarecimento', 'nada', 'sites', 'jornais', 'circulacao', 'entro', 'varios', 'unica', 'tememos', 'empossados', 'diariamente', 'vemos', 'portarias', 'titulos', 'precarios', 'obtiveram', 'sedo', 'convoca', 'independentemente', 'convocou', 'restando', 'pecolhes', 'ajuda', 'dezenas', 'correndo', 'risco', 'expirado', 'perder', 'age', 'prestes', 'dom', 'elizeu', 'perifericos', 'suprimentos', 'eliseu', 'martinspi', 'restritivas', 'minimos', 'urucui', 'ampliacao', 'escolas', 'urucuipi', 'restritiva', 'composicao', 'custos', 'rota', 'rotas', 'existem', \"'s\", 'fisicas', 'dificuldades', 'elaborar', 'poderia', 'caber', 'vencedores', 'evitando', 'exaustiva', 'simplificada', 'especifica', 'acarreta', 'pouco', 'utilizar', 'adiado', 'fisica', 'piauipi', 'cumpre', 'cordenadoreia', 'alisson', 'barcelar', 'srde', 'siqueira', 'coelho', 'certo', 'existir', 'senador', 'elmano', 'ferrer', 'acessor', 'parlamentar', 'vantagens', 'naturezas', 'erario', 'cometendo', 'crieme', 'usurpacao', 'investiguem', 'punam', 'pauta', 'envolvidos', 'via', 'telefonico', 'emissao', 'paulistana', 'negada', 'possibilidade', 'arquivo', 'digital', 'motivo', 'alegado', 'mauro', 'afirmou', 'cadastros', 'efetivado', 'presencialmente', 'caiacao', 'recolhimento', 'entulhos', 'atendimento', 'paulistanapi', 'funciona', 'hrs', 'viagem', 'chegar', 'tomei', 'informou', 'publicou', 'localizei', 'noite', 'colocado', 'sei', 'transparente', 'restamos', 'prejudicados', 'investimento', 'fizemos', 'pecas', 'materiais', 'maquinas', 'pesadas', 'frota', 'abreupi', 'acumulos', 'extraidas', 'endereco', 'httpswwwtcepigovbrportaldacidadaniamunicipiosservidores', 'cargo=professor', 'substituto', 'extendidos', 'discussao', 'competencia', 'fiscalizador', 'apreciacao', 'mesmos', 'executivo', 'graus', 'nivel', 'cursado', 'apontam', 'importancia', 'apuracao', 'discutido', 'tamanha', 'magnitude', 'bases', 'preza', 'fala', 'impugnado', 'correcao', 'limpe', 'za', 'compreendendo', 'li', 'xo', 'destino', 'altos', 'pa', 'altospi', 'tesoureira', 'irma', 'eleito', 'filho', 'papel', 'eou', 'trabalho', 'respeitando', 'vossa', 'in', 'loco', 'medicoprefeito', 'cf', 'violacao', 'organica', 'afastar', 'liminarmente', 'estabelecimentos', 'cnes', 'eletivo', 'estatutario', 'dirceu', 'arcoverde', 'carga', 'horaria', 'prova', 'solicitou', 'desligamento', 'imagem', 'incisos', 'autarquica', 'fundacional', 'aplicamse', 'disposicoes', 'tratandose', 'distrital', 'afastado', 'emprego', 'investido', 'sendolhe', 'facultado', 'optar', 'percebera', 'prejuizo', 'aplicada', 'norma', 'exija', 'afastamento', 'contado', 'efeitos', 'merecimento', 'viceprefeito', 'pena', 'perda', 'firmar', 'manter', 'autarquia', 'economia', 'mista', 'concessionaria', 'obedecer', 'uniformes', 'remunerado', 'demissiveis', 'ad', 'nutum', 'alinea', 'observase', 'afastou', 'proibicao', 'caput', 'encaminhe', 'mppi', 'mpf', 'fiscais', 'ajuizamento', 'acao', 'ressalvando', 'diferente', 'daquele', 'lembrando', 'citado', 'lembro', 'ilegalmente', 'reiterada', 'ajuizou', 'dano', 'pje', 'determine', 'liminar', 'realize', 'respeite', 'afaste', 'opte', 'obedecendo', 'impedir', 'continue', 'cofres', 'solicite', 'ressarcimento', 'indevidamente', 'comunicados', 'condenacao', 'politicos', 'instaurem', 'criminal', 'pic', 'crime', 'peculatodesvio', 'falsidade', 'ideologica', 'httpsblogscorreiobraziliensecombrservidormpfdfdenunciaexservidoradosenadoporpeculatoefalsidadeideologica', 'envie', 'vereadores', 'apurada', 'juntado', 'multado', 'acompanhamento', 'exdiretora', 'perpetuo', 'socorro', 'lourdes', 'mousinho', 'maio', 'exonerada', 'ocupava', 'outrora', 'kallyne', 'neiva', 'assumiu', 'direcao', 'cabe', 'esclarecervos', 'prefeituta', 'plantoes', 'resta', 'averiguem', 'descritos', 'veridicos', 'fonseca', 'exclusivamente', 'unitarios', 'injustificadamente', 'superiores', 'superfaturado', 'auditoria', 'juntamente', 'busca', 'minunciosa', 'atrasados', 'faltam', 'merendas', 'posto', 'urgente', 'tornem', 'necessarias', 'atualizar', 'atualizado', 'podemos', 'errado', 'esconder', 'cumprida', 'comunicando', 'omissoes', 'chico', 'durante', 'respeitam', 'espero', 'notase', 'casa', 'recupere', 'admistracao', 'lancou', 'divididos', 'regioes', 'localidades', 'matematica', 'colocaram', 'vaga', 'serrinha', 'melancias', 'ficaram', 'realizando', 'contempla', 'salinas', 'disponibilizaram', 'soube', 'amizade', 'disseram', 'naquela', 'lotando', 'areas', 'disciplina', 'estranha', 'pontuacao', 'convocar', 'sabendo', 'existia', 'colegio', 'funcionando', 'membro', 'seccional', 'oeiras', 'necessaria', 'vantagem', 'eleitoreira', 'ajeitar', 'amigos', 'friso', 'la', 'razoes', 'supra', 'comprovado', 'especa', 'recomendacao', 'atente', 'convocando', 'maior', 'regionalizado', 'necessitavam', 'lotarem', 'ofertada', 'intuito', 'burlar', 'vejo', 'historia', 'demonstrar', 'beneficiar', 'terceiros', 'trago', 'demonstra', 'destinada', 'provimentos', 'alheia', 'preenchida', 'obtiver', 'disponibilizar', 'jurisprudencias', 'assentadas', 'httpststjusbrasilcombrjurisprudenciaagravodeinstrumentoemrecursoderevistaairrinteiroteor', 'ref=juristabs', 'tst', 'agravo', 'recurso', 'revista', 'airr', 'inteiro', 'teor', 'restringe', 'descreve', 'linha', 'canabrava', 'epi', 'fins', 'enfrentamento', 'emergencia', 'internacional', 'decorrente', 'coronavirus', 'causador', 'islane', 'portadora', 'assessoramento', 'intermediario', 'daj', 'subordinada', 'prima', 'legitima', 'mulher', 'mdb', 'manifestar', 'trasparencia', 'vigente', 'inexigibilidade', 'assessoria', 'consultoria', 'acompanhamentos', 'especiais', 'orientacao', 'inspecoes', 'feitas', 'externo', 'formalizacao', 'defesas', 'reconsideracao', 'revisao', 'inexibilidade', 'descrita', 'forte', 'suspeita', 'ivilla', 'advocacia', 'diversas', 'aije', 'aluisio', 'emidio', 'adapi', 'projovem', 'disponiveis', 'pju', 'programa', 'bancada', 'rumores', 'havera', 'perguntase', 'liberados', 'solictamos', 'oempenhodo', 'apauracao', 'conselho', 'direcionar', 'sitiacao', 'pf', 'kamila', 'coelhode', 'liquido', 'enquanto', 'maislane', 'ganhava', 'moral', 'alterou', 'resolucao', 'autorizasse', 'aumento', 'noticia', 'punicoes', 'descaso', 'adai', 'escolaridades', 'idaelson', 'matias', 'raelson', 'monica', 'angelica', 'admin', 'infrigindo', 'levando', 'interessados', 'seguem', 'pedem', 'escrevo', 'cajazeiras', 'acessivel', 'usuarios', 'responsabilidade', 'colocando', 'muitas', 'trabalhar', 'prestar', 'concursos', 'batista', 'vieira', 'passos', 'atualmente', 'santo', 'pau', 'darco', 'contatado', 'devolva', 'enriquecimento', 'ilicito', 'compactacao', 'mecanica', 'calcamento', 'compactador', 'sapo', 'mostrando', 'inconformidade', 'relevante', 'funcionou', 'nessa', 'incluindo', 'sabemos', 'dispensas', 'aluguem', 'livros', 'planillha', 'incluso', 'encargos', 'sociais', 'mao', 'auxiliares', 'executados', 'rurais', 'pracas', 'parques', 'solicitam', 'adiplencia', 'declacao', 'passaram', 'escritorio', 'advogacia', 'solicital', 'entemos', 'direciamento', 'certa', 'entendemos', 'localiza', 'heli', 'percebese', 'dado', 'evidente', 'discordancia', 'ordenamento', 'recebam', 'dotado', 'autonomia', 'quer', 'precedido', 'temporarias', 'atendam', 'excepcional', 'investigados', 'fronteiras', 'utilizouse', 'licitado', 'requerendo', 'fronteiraspi', 'zelina', 'varzea', 'detinha', 'comissionada', 'surpresa', 'passouse', 'compreender', 'relatarmos', 'criadas', 'leiresolucao', 'ivania', 'cunha', 'assumindo', 'destacarmos', 'vacancia', 'ausencia', 'aposentadoria', 'falecimento', 'permanece', 'desempenhando', 'normalmente', 'tomouse', 'prorrogou', 'correspondente', 'homologado', 'passando', 'valer', 'destacase', 'prorrogacao', 'ocorreu', 'encerrarse', 'desempenhou', 'tesoureiro', 'permanecendo', 'inexiste', 'criando', 'perceber', 'primeiramente', 'posteriormente', 'ocorrer', 'requerse', 'egregio', 'serio', 'criancas', 'gestores', 'finge', 'diogo', 'milton', 'brandao', 'cedo', 'pior', 'trazendo', 'arroz', 'macarrao', 'merendeiras', 'vivemos', 'ganhor', 'divulgada', 'participei', 'delimitou', 'quantidade', 'lances', 'coivaras', 'urnas', 'funebres', 'postumos', 'desobedece', 'descumpre', 'acordao', 'contrata', 'precampanha', 'reeleicao', 'leis', 'vigentes', 'sindicato', 'alvespi', 'avenida', 'desembargador', 'centro', 'cep', 'infraassinado', 'senhoria', 'ex', 'borges', 'praticou', 'ferem', 'arbitraria', 'amparo', 'contrariando', 'efetuou', 'reconhecer', 'curso', 'empenhada', 'reconhecido', 'debito', 'consideradas', 'jesus', 'reis', 'cunhado', 'dr', 'itamar', 'ambiente', 'encontra', 'fechada', 'cometida', 'silas', 'noronha', 'douto', 'procedida', 'instagram', 'exmo', 'postou', 'fotos', 'videos', 'entregas', 'dona', 'mota', 'caminhoes', 'urbanos', 'plotagens', 'iniciativas', 'procedidas', 'terem', 'formalizados', 'dispensa', 'ratificacao', 'instrumentos', 'contratuais', 'pasmem', 'devidamente', 'registros', 'print', 'denunciado', 'deixo', 'apelo', 'apure', 'cumpra', 'constatadas', 'httpswwwinstagramcomtvcjlnfmyhal', 'utm_source=ig_web_copy_link', 'httpswwwinstagramcompcjoayfmhqwu', 'importantes', 'wilkinson', 'divisao', 'programas', 'educacionais', 'jonas', 'departamento', 'transportes', 'nomeando', 'vertunes', 'tenta', 'ressaltase', 'idade', 'desempenhar', 'evanildes', 'solteira', 'carteira', 'encontrada', 'intimacoes', 'notificacoes', 'paz', 'exa', 'motivos', 'expostos', 'revogacao', 'concessao', 'aproximadamente', 'gozo', 'revogadas', 'criterios', 'objetivos', 'renovacao', 'novos', 'compor', 'fixado', 'excedido', 'ultimos', 'aumentou', 'significativamente', 'contando', 'eleicoes', 'aproximarem', 'tac', 'descumprida', 'maquina', 'batalhapi', 'notorio', 'efetivou', 'pisan', 'integralidade', 'reajuste', 'previstos', 'fl', 'magisterio', 'ficam', 'alterados', 'vencimentos', 'gradativa', 'determinacoes', 'disponibilidade', 'integralizando', 'percentual', 'decorrer', 'alegou', 'defasagem', 'aplicar', 'concedeu', 'gratificacoes', 'acreditase', 'conjuntural', 'comprova', 'extratos', 'assiste', 'cuja', 'posteriores', 'complementar', 'ressalvadas', 'reposicoes', 'chefia', 'acarretem', 'decorrentes', 'vacancias', 'vitalicios', 'militar', 'militares', 'anunciado', 'pronto', 'verificacao', 'durabilidade', 'anexar', 'concomitantemente', 'abnt', 'nbr', 'certificador', 'produtos', 'ocp', 'acreditado', 'inmetro', 'rotulo', 'ecologico', 'iso', 'ergonomico', 'produto', 'ptep', 'baseado', 'regulamentadora', 'nr', 'previdencia', 'apontando', 'usabilidade', 'foto', 'ofertado', 'profissional', 'habilitado', 'engenheiro', 'ergonomista', 'laudos', 'metalicos', 'ensaios', 'corrosao', 'exposicao', 'nevoa', 'salina', 'grau', 'empolamento', 'igual', 'enferrujamento', 'atmosfera', 'umida', 'dioxido', 'enxofre', 'tintas', 'determinacao', 'aderencia', 'gr', 'x=', 'y=', 'espessura', 'pelicula', 'considerando', 'fator', 'reducao', 'certificacao', 'madeira', 'certificados', 'cadeia', 'custodia', 'cerflor', 'fsc', 'forest', 'stewardship', 'council', 'organismo', 'credenciador', 'internacionalmente', 'ibama', 'subprodutos', 'compoem', 'mobiliario', 'deverao', 'obrigatoriamente', 'oriundos', 'florestas', 'nativas', 'plantadas', 'procedencia', 'certificada', 'manejo', 'florestal', 'selos', 'proprios', 'vinculados', 'fabrica', 'amostragem', 'comprovacao', 'componentes', 'utilizados', 'fabricacao', 'contenham', 'origem', 'nativa', 'plantada', 'procedentes', 'bordas', 'pvc', 'resistencia', 'luz', 'uv', 'graduacao', 'escala', 'cinza', 'munsell', 'observados', 'descoloracao', 'mudanca', 'brilho', 'cor', 'bolhas', 'defeitos', 'comparativo', 'ensaiada', 'superficie', 'usada', '-item', 'cruzado', 'alcool', 'etilico', 'observadas', 'alteracoes', 'remocao', 'particulas', 'fita', 'etc', 'haver', 'corpo', 'temperatura', 'submetendo', 'corpos', 'temperaturas', 'degc', 'graduacoes', 'iguais', '-anexo', 'colagem', 'tracao', 'forca', 'maxima', 'acabamentos', 'laminado', 'decorativo', 'bp', 'madeiradosfantasia', 'manchadores', 'impacto', 'altura', 'ocorram', 'trincas', 'mm', 'abrasao', 'g', 'alta', 'filme', 'choque', 'termico', 'observada', 'pequenas', 'revestida', 'vapor', 'k', 'porosidade', 'patrimonio', 'formas', 'cumulativo', 'permitida', 'sumula', 'pimenteiras', 'estradas', 'vicinais', 'pimenteiraspi', 'informo', 'fazem', 'vigilancia', 'cnj', 'inidoneas', 'suspensas', 'ceis', 'inidoneidade', 'regeneracao', 'regeneracaopi', 'quarto', 'secretarios', 'divulgou', 'parcelas', 'pnae', 'distribuicao', 'kits', 'escolares', 'pressao', 'alunado', 'uso', 'conselheiros', 'encaminho', 'supostas', 'atribuidos', 'perita', 'odontolegista', 'michelle', 'cavalcanti', 'lotada', 'medicina', 'vinicius', 'perito', 'imlpi', 'comunicamos', 'colonia', 'gurgueia', 'maculando', 'cumprido', 'ldb', 'calendario', 'minima', 'recomendada', 'meca', 'letivo', 'encerrado', 'completar', 'anuais', 'infantil', 'prejudicada', 'alcancando', 'duzentos', 'letivos', 'agravante', 'reduzido', 'minutos', 'intervalo', 'recreio', 'correto', 'saida', 'fechar', 'diaria', 'series', 'prejudicadas', 'concluida', 'docente', 'atrelados', 'esquema', 'postagens', 'festas', 'conste', 'novetech', 'planejar', 'primaria', 'complexidade', 'projetos', 'levantamento', 'prontuarios', 'melhoria', 'indicadores', 'gerenciamento', 'nuvem', 'treinamento', 'computacionais', 'suporte', 'especializados', 'informatizacao', 'esus', 'aps', 'unidades', 'basicas', 'morro', 'cabeca', 'podendo', 'prosseguir', 'aparecido', 'cel', 'rendimentos', 'italva', 'coordenadora', 'ceti', 'atanasio', 'diurno', 'corretamente', 'epigrafe', 'carta', 'sexta', 'feira', 'uteis', 'cinco', 'inc', 'luminarias', 'eficiente', 'led', 'w', 'braco', 'curvo', 'avenidas', 'anonima', 'realizou', 'admissao', 'modo', 'feriu', 'ocupacoes', 'deveriam', 'preenchidos', 'portando', 'violando', 'institucional', 'httpspmtpigovbrnomeadosprofessoresaprovadosemconcursoparaescolasdaprefeitura', 'prefetura', 'disponibilizou', 'colocou', 'cadastrada', 'diminuindo', 'motores', 'bombeadores', 'eletricos', 'pocos', 'artesianos', 'culminou', 'clinica', 'sta', 'cecilia', 'propriedade', 'criacao', 'viceprefeita', 'dra', 'luiza', 'fernando', 'silveira', 'quase', 'ganhar', 'parece', 'olhos', 'atende', 'indiscriminadamente', 'carentes', 'sustado', 'politica', 'aumentado', 'dada', 'httpswwwviagoracombrblogtcesuspendecontratodermilhaodoprefeitoricardomourahtml', 'fbclid=iwarmlkvpxjadnlwwmqsqdgjnvdcrdaoqeubhjeggvyeyehde', 'demerval', 'lobao', 'distribuidora', 'alimentos', 'inscrita', 'respeitavel', 'busque', 'veemencia', 'boqueirao', 'jatoba', 'juazeiro', 'modus', 'operandi', 'comissoes', 'apresentassem', 'chamado', 'pas', 'conseguiu', 'renovar', 'estarmos', 'tempos', 'pandemicos', 'normais', 'digo', 'razoavel', 'recebelo', 'rapidez', 'duvidosa', 'curtissimo', 'declarada', 'ligar', 'expedidor', 'sest', 'senat', 'constatei', 'precisaria', 'uns', 'tramites', 'acontecesse', 'ooutro', 'erro', 'constatado', 'completamente', 'prescrito', 'constar', 'act', 'assinada', 'capaz', 'fornecer', 'quantidades', 'parecidos', 'apresentou', 'fornecidos', 'monte', 'lacticinios', 'geralmente', 'aconteceram', 'daqueles', 'questionamento', 'recemcriada', 'consegue', 'estimados', 'milhao', 'observem', 'estrutura', 'detalhes', 'superfaturados', 'encarecidamente', 'fundo', 'olho', 'nu', 'mostrase', 'encontralas', 'punir', 'intens', 'servem', 'frustrar', 'restringir', 'inclusindo', 'indicando', 'preposto', 'venha', 'representala', 'j', 'formal', 'mantera', 'nucleo', 'demanda', 'cocal', 'telha', 'emitidas', 'vir', 'autenticadas', 'junta', 'comercial', 'equipe', 'pertinentes', 'nominalmente', 'membros', 'concordancia', 'inclusao', 'patrimonial', 'dhp', 'demonstracoes', 'contabeis', 'contabilista', 'contabilidade', 'observacao', 'velado', 'errada', 'bdi', 'telhapi', 'exelencia', 'vistoria', 'cristalandia', 'publicao', 'quadrienio', 'salientar', 'datada', 'edicao', 'empenhado', 'pagos', 'respectivamente', 'infringi', 'cidadaos', 'aplicavel', 'divulga', 'indireta', 'visitou', 'executadas', 'obrigacoes', 'solicitada', 'antecedencia', 'lagoinha', 'abastecimento', 'estaca', 'baixao', 'cocos', 'codevasf', 'caminhao', 'percebido', 'mototistas', 'coletores', 'tomem', 'determinando', 'percentagem', 'pago', 'insalubridade', 'parcela', \"'so\", 'aprova', 'chamamos', 'gildo', 'financas', 'condiz', 'patos', 'acomulo', 'municicpal', 'luzitania', 'luzissandra', 'semanais', 'sa', 'psf', 'corriqueiramente', 'prefeituras', 'viciado', 'acontera', 'manha', 'habilitarem', 'porto', 'apresentando', 'cadastramento', 'fere', 'preceitos', 'imediatamento', 'sanado', 'republicado', 'esperamos', 'sergio', 'farias', 'portopiaui', 'capital', 'vim', 'estimado', 'fornecida', 'condicao', 'particitacao', 'desrreipeitando', 'cumulativa', 'assegurem', 'adimplemento', 'atravez', 'macedopi', 'macedo', 'ocupar', 'farte', 'audete', 'permitidos', 'pma', 'ganhei', 'lance', 'buscando', 'recentes', 'totalidade', 'existencia', 'desclassificado', 'hj', 'tirou', 'cumprindo', 'desclassificou', 'acredito', 'avisado', 'enviando', 'chat', 'impedido', 'envia', 'egregia', 'mpcpi', 'correiapi', 'visitando', 'visita', 'tecnicos', 'auditores', 'gangorrinha', 'encontraram', 'vencida', 'procede', 'ocorridas', 'aplicadas', 'ifpi', 'bloco', 'indicador', 'tampouco', 'informavam', 'causou', 'estresse', 'passar', 'desconfianca', 'elevado', 'anulaveis', 'problema', 'estariam', 'decorrem', 'insuficiente', 'baixa', 'regularmente', 'proporcionar', 'obrigacao', 'absurdas', 'presentes', 'seduc', 'ir', 'adicionados', 'ligadas', 'advogado', 'legivel', 'digitalizada', 'redigitar', 'pediuse', 'contatos', 'enviasse', 'respostas', 'barro', 'orcamentarias', 'tecnicas', 'fisicofinanceiro', 'apurado', 'consentimento', 'selindo', 'carneiro', 'tapeti', 'toma', 'assistencial', 'conceicao', 'oseias', 'ematerpi', 'agricultura', 'edinaldo', 'damasceno', 'figueiredo', 'augusto', 'sintepi', 'edivan', 'merces', 'redes', 'celana', 'camaco', 'custo', 'calculos', 'errados', 'resto', 'contem', 'impossiblitam', 'concorrentes', 'tao', 'prejudica', 'abra', 'melhorias', 'sanitarias', 'domiciliares', 'msd', 'guaribaspi', 'celetista', 'nomear', 'andrea', 'chagas', 'silvana', 'ambas', 'valduce', 'checheneste', 'entendo', 'junho', 'oneide', 'carne', 'organizar', 'condicionadores', 'ventiladores', 'sitiopi', 'compromisso', 'firmado', 'fnde', 'plano', 'acoes', 'articuladas', 'obeservado', 'publicando', 'imposibilitado', 'transparencias', 'celebrados', 'instrucao', 'normativa', 'conquista', 'altera', 'vencimento', 'bibliotecario', 'nutricionista', 'psicopedagogo', 'nazaria', 'deixando', 'anual', 'inpc', 'beneficiados', 'buscar', 'informados', 'estatuidos', 'argumentacao', 'atingiu', 'percebe', 'adquirido', 'jus', 'prejudicar', 'ministerial', 'amparados', 'solicitando', 'planos', 'carreiras', 'pleiteados', 'duplamente', 'desamparados', 'buscaram', 'procuradoria', 'entregue', 'carreira', 'existentes', 'notificando', 'localize', 'legislacoes', 'efetivadas', 'garantidas', 'priorizando', 'caracolpi', 'quartafeira', 'descricoes', 'wall', 'ferraz', 'provada', 'peca', 'forcar', 'criar', 'enviadas', 'penal', 'httpwwwmarcosparentepigovbrportal', 'desculpe', 'algo', 'buscas', 'google', 'encontrar', 'httpstransparenciamarcosparentepigovbrmarcosparente', 'equivocadamente', 'abrir', 'encontrado', 'preceito', 'basilar', 'elencado', 'crf', 'obedecera', 'lado', 'xxxiii', 'magna', 'assegura', 'fundamental', 'humana', 'constituindose', 'clausula', 'petrea', 'patrio', 'dispondo', 'coletivo', 'prestadas', 'imprescindivel', 'importa', 'preceitua', 'ind', 'sive', 'meios', 'eletronicos', 'orcamentos', 'diretrizes', 'prestacoes', 'previo', 'resumido', 'versoes', 'simplificadas', 'paragrafo', 'assegurada', 'liberacao', 'pleno', 'pormenorizadas', 'pormenorizando', 'assentada', 'lc', 'dispositivos', 'devem', 'regulamentou', 'ambito', 'prevista', 'arto', 'republica', 'assentado', 'transgressao', 'importara', 'graves', 'impossibilidade', 'receberem', 'transferencias', 'voluntarias', 'configura', 'atenta', 'notadamente', 'esclarece', 'ln', 'olvidar', 'praticas', 'atentatorias', 'basilares', 'coibidas', 'particularmente', 'atualizalo', 'manda', 'impossibilitada', 'disponibilizam', 'revogada', 'protopagina', 'existente', 'alespi', 'inteiros', 'essencial', 'produtiva', 'deusdete', 'socia', 'aparecida', 'crisogono', 'procuradora', 'formando', 'organizacao', 'criminosa', 'indiretamente', 'descrito', 'picos', 'oportunidade', 'claras', 'evidencias', 'regimento', 'anvisa', 'conserto', 'floriano', 'sms', 'juridicas', 'apresentarem', 'reparo', 'aparelhos', 'medicoshospitalares', 'preparar', 'georreferenciamento', 'demarcacao', 'perimetro', 'vetorizacao', 'delimitacao', 'quadras', 'planialtimetria', 'atributos', 'tributario', 'postados', 'imcompletos', 'zonas', 'queixa', 'retificacao', 'consoante', 'fixadas', 'atuacao', 'biblioteconomia', 'consultor', 'reserva', 'composto', 'ampliado', 'atenda', 'anseios', 'constitucionais', 'especialmente', 'estabelecer', 'obscuro', 'manifesto', 'agradecimento', 'escalao', 'exercerem', 'considerandose', 'caracterizacao', 'considerados', 'ocupantes', 'edivaldo', 'habitacao', 'allan', 'benvindo', 'diretoria', 'dfam', 'caracterizadores', 'afastaria', 'incidencia', 'vinculante', 'demonstrado', 'supremo', 'conjuge', 'companheiro', 'reta', 'colateral', 'afinidade', 'autoridade', 'nomeante', 'gratificada', 'compreendido', 'ajuste', 'designacoes', 'reciprocas', 'impende', 'enfrentando', 'tema', 'entendeu', 'aplica', 'mencao', 'desempenho', 'analisada', 'ocupante', 'alias', 'onus', 'probatorio', 'supremacia', 'infringem', 'suprema', 'avancando', 'consanguineos', 'infringe', 'stf', 'marinalva', 'configurandose', 'julgadas', 'financeiro', 'falhas', 'apontadas', 'sanadas', 'ensejando', 'reprovacao', 'aplicacao', 'multa', 'unanime', 'comprove', 'srs', 'detentores', 'ocupam', 'decrete', 'nulidade', 'supracitadas', 'nunc', 'exonerando', 'indagacao', 'licito', 'comissaoconfianca', 'irregularesreprovadas', 'castelo', 'shirley', 'azevedo', 'crateusce', 'bolsa', 'grossa', 'tendas', 'piramidal', 'viruscovid', 'bll', 'infringindo', 'wwwportaldecompraspublicascombr', 'fiquei', 'constava', 'cancelando', 'simplesmente', 'parou', 'explicacoes', 'reapareceu', 'suspenderemos', 'retornaremos', 'analisadao', 'daremos', 'acreditei', 'volta', 'encerraria', 'sai', 'continuou', 'analisadas', 'aberto', 'iniciado', 'enviar', 'desclassificados', 'sinto', 'maos', 'atadas', 'recorro', 'retirados', 'nazare', 'firmados', 'finalizados', 'privando', 'avaliacao', 'congeneres', 'ajustes', 'agravase', 'retirando', 'detectas', 'fortalecer', 'investimentos', 'problemas', 'piuai', 'gestoes', 'copias', 'citados', 'wilon', 'verador', 'messes', 'atrasado', 'criem', 'reestabelecer', 'fechamento', 'essenciais', 'resolveram', 'quintafeira', 'averiguado', 'respondeu', 'emails', 'sugiro', 'seguimento', 'anulacao', 'publique', 'exercem', 'operacional', 'siape', 'complexo', 'ufpr', 'cet', 'condicacao', 'teixeira', 'carnaubas', 'capim', 'grosso', 'terca', 'quarta', 'quinta', 'boiba', 'av', 'cesario', 'marinho', 'igarape', 'dionilo', 'curralinho', 'turnos', 'matutino', 'vespertino', 'noturno', 'zeidan', 'sspma', 'sabem', 'caxingo', 'praticamente', 'mae', 'irmas', 'tios', 'tias', 'completo', 'mora', 'moradia', 'teresinapi', 'restaurante', 'colher', 'inseridas', 'divulgadas', 'vespera', 'distantes', 'caracol', 'habitacionais', 'doenca', 'douta', 'adocao', 'rio', 'vence', 'definitivamente', 'ressalto', 'precario', 'prof', 'nomeadas', 'repete', 'colocamonos', 'delcides', 'guedes', 'casado', 'direcionado', 'ess', 'matendo', 'aluguel', 'padrao', 'vergonha', 'altissimo', 'espelho', 'redacao', 'cartao', 'objetiva', 'caderno', 'destaque', 'anotasse', 'avaliar', 'alternativas', 'marcadas', 'intermedio', 'divulgue', 'presados', 'representa', 'publicitario', 'graficos', 'visual', 'setembro', 'ayrespi', 'anulado', 'alexandre', 'daguia', 'rosivaldo', 'camelo', 'encontravam', 'encerrada', 'licitatoria', 'eleita', 'setores', 'tela', 'reves', 'estabelece', 'previamente', 'designado', 'lavrara', 'circunstanciada', 'rubricados', 'recomendo', 'evitar', 'questionamentos', 'futuros', 'conducao', 'aludida', 'smj', 'ayres', 'oab', 'relatado', 'trocas', 'amaury', 'sandes', 'beneficiou', 'embasada', 'infundado', 'inventado', 'finalidades', 'precisa', 'demonstrou', 'aprovar', 'envolvida', 'ilicitos', 'midia', 'repetindo', 'contar', 'fornecerlhes', 'suposta', 'assumir', 'jaide', 'interina', 'polo', 'uab', 'supervisora', 'pedagogica', 'remuneracoes', 'ditames', 'consultados', 'ficarei', 'reginaldo', 'partcicipacao', 'interessadas', 'rebocos', 'muros', 'atrasando', 'mensalmente', 'satisfacao', 'recebi', 'tomasse', 'atrasadas', 'irrigacao', 'perfuracao', 'estadio', 'batistao', 'franciarley', 'apropriacao', 'indebita', 'eja', 'diploma', 'ficticios', 'fichas', 'lisiane', 'tratamento', 'atestada', 'humilhada', 'mim', 'perseguicao', 'impostas', 'digitadora', 'habil', 'tanto', 'resende', 'comunico', 'oferece', 'avisa', 'biscoito', 'suco', 'desorganizado', 'mi', 'comodato', 'venda', 'liberado', 'freitas', 'bahia', 'jf', 'determinado', 'atualizacao', 'observe', 'httptransparenciacamaradepiripiripigovbr', 'funcionalidades', 'desatualizadas', 'ultima', 'ocorrida', 'capitao', 'pavimento', 'granitico', 'basaltico', 'colchao', 'areia', 'rejuntado', 'argamassa', 'cimento', 'traco', 'trecho', 'desatualizados', 'tomara', 'epifanio', 'publicam', 'povo', 'higiene', 'utensilios', 'deslocarem', 'suspensa', 'mandaram', 'rodada', 'nitido', 'malandragem', 'amarante', 'parcelado', 'pmapi', 'chamou', 'aoferece', 'ceara', 'praiapi', 'acrisio', 'veras', 'encargo', 'tentei', 'diretamente', 'obtive', 'passagem', 'franca', 'inspecao', 'tiraram', 'faco', 'consequente', 'to', 'ocorrera', 'politico', 'adverso', 'pispasep', 'vila', 'inabilitado', 'anexando', 'atas', 'prestadora', 'secult', 'mantendo', 'restabelecidas', 'notificada', 'cge', 'volte', 'funcionar', 'maiorias', 'divulgar', 'gas', 'liquefeito', 'petroleo', 'glp', 'cozinha', 'kg', 'tiego', 'bezerra', 'coimbra', 'noventa', 'espanta', 'agraciado', 'indicado', 'ronaldo', 'href=\\\\httpswwwelesbaonewscomhyeziomouraeexoneradoetiegohtml\\\\', 'httpswwwelesbaonewscomhyeziomouraeexoneradoetiegohtml', 'ai', 'dedicacao', 'exclusiva', 'incompatibilidade', 'comando', 'href=\\\\httpswwwelesbaonewscomtiegocoimbraseriaoindicadoparahtml\\\\', 'httpswwwelesbaonewscomtiegocoimbraseriaoindicadoparahtml', 'pais', 'admirar', 'locais', 'omisso', 'afinal', 'resolver', 'coisas', 'figura', 'reunioes', 'gimas', 'exercidas', 'ul', 'legalmente', 'acumulam', 'estabelecimento', 'aplicase', 'excecao', 'afirmar', 'conveniencia', 'basta', 'pacientes', 'atendidos', 'maraja', 'determinar', 'ajuizar', 'coniventes', 'parar', 'fique', 'devendose', 'ressarcir', 'marcaram', 'feriado', 'proibido', 'tabelas', 'enviem', 'publiquem', 'prata', 'inobservancia', 'incomum', 'alheio', 'ocasionara', 'irreparaveis', 'lentamente', 'continuam', 'triste', 'recorrer', 'infelizemente', 'denucia', 'iremos', 'letras', 'condis', 'aja', 'nutricao', 'pasprograma', 'alimento', 'seguro', 'obrigratorio', 'produzem', 'manipulam', 'possuam', 'eiva', 'vicio', 'manipulacao', 'fornencimento', 'garatir', 'pricipio', 'selacao', 'pulblica', 'ps', 'pricipios', 'covocatorio', 'serra', 'anailde', 'eudes', 'cleiton', 'gustavo', 'cras', 'lilian', 'protocolado', 'inscricao', 'enviou', 'enviaram', 'enviariam', 'editaveis', 'inviabiliza', 'extenso', 'manual', 'penitenciaria', 'gonzaga', 'rebelo', 'alterado', 'ocasionando', 'obriga', 'gera', 'fases', 'envelope', 'posicione', 'braz', 'siconv', 'funasa', 'classificada', 'perdeu', 'veio', 'renovados', 'renovou', 'excluindo', 'chamando', 'excluidas', 'agir', 'suspenso', 'procuram', 'procedem', 'grata', 'sueli', 'consiste', 'representada', 'continuamente', 'efetuando', 'criado', 'discorre', 'tutor', 'receberao', 'bolsas', 'mec', 'pagadora', 'excelencias', 'proceda', 'possam', 'exata', 'exato', 'recebida', 'credenciar', 'desempenham', 'tapuio', 'ultrapassou', 'ira', 'entraram', 'encerrados', 'estranheza', 'trabalharem', 'registradas', 'imagina', 'computasse', 'indice', 'veradores', 'parnagua', 'susbcrevem', 'helena', 'santana', 'melo', 'guida', 'honrosamente', 'promover', 'jondson', 'anunciam', 'segunda', 'indigitado', 'nomeara', 'ali', 'transgredindo', 'contida', 'regula', 'nefasta', 'ideia', 'tornou', 'inadmissivel', 'insistencia', 'naquilo', 'jussara', 'valdimiro', 'tharig', 'levy', 'lslaete', 'emprestimos', 'consignados', 'atraso', 'banco', 'brasil', 'agencia', 'correntepi', 'feitos', 'provocado', 'passada', 'ocupa', 'hospedaria', 'tantas', 'noticiamos', 'acaso', 'constadas', 'requeremos', 'reprimendas', 'iniciarem', 'consultando', 'joedson', 'alertas', 'deparamos', 'direciona', 'mecanismo', 'punitivo', 'cansativo', 'relato', 'escanncara', 'tecnicooperacional', 'proponente', 'executado', 'servicosobras', 'compativeis', 'oes', 'relevancia', 'significativo', 'definidas', 'pedra', 'lajeada', 'aterro', 'rejuntada', 'passeio', 'intertravado', 'retangular', 'colorido', 'cm', 'af_', 'luminaria', 'und', 'alambrado', 'quadra', 'poliesportiva', 'estruturado', 'tubos', 'aco', 'galvanizado', 'montantes', 'diametro', 'travessas', 'escoras', 'arame', 'fio', 'bwg', 'malha', 'quadrada', 'xcm', 'mureta', 'chafariz', 'concreto', 'premoldado', 'modulos', 'pergolado', 'arco', 'l', 'capacitacao', 'tecnicoprofissional', 'is', 'crea', 'detentor', 'es', 'registrado', 'cau', 'acompanhados', 'obrasservicos', 'limitado', 'tantos', 'julgar', 'pertencentes', 'comprovem', 'cplpiripiri', 'pedisse', 'cobertura', 'paver', 'bloquete', 'similar', 'simples', 'armado', 'estruturas', 'metalicas', 'facil', 'tirar', 'preferida', 'saia', 'fiscalador', 'retirado', 'mantendose', 'inalteradas', 'republique', 'afim', 'ciencia', 'cumpriu', 'cadastrar', 'comento', 'httpswwwsaomigueldotapuiopigovbrtransparenciacovidsecretariadesaude', 'pasta', 'recomendacoes', 'aproveitando', 'voto', 'jamais', 'proporcionando', 'brejo', 'fardamentos', 'compareci', 'retroativa', 'reservado', 'revogar', 'superveniente', 'anulalo', 'provocacao', 'fundamentado', 'falou', 'virtude', 'revogado', 'deixa', 'registrada', 'credenciou', 'debora', 'ravenna', 'rosal', 'titular', 'socios', 'concorrente', 'cgu', 'constem', 'condenacoes', 'civeis', 'incluida', 'conas', 'apresentados', 'estatuto', 'civis', 'constitutivo', 'cartorio', 'decorrencia', 'investidura', 'idoneidade', 'identificarse', 'exibindo', 'contenha', 'autenticada', 'original', 'conferencia', 'etapa', 'localizacao', 'acompanhada', 'fotografias', 'indique', 'modelo', 'estadualmunicipal', 'cotandose', 'discriminado', 'moeda', 'algarismo', 'casas', 'decimais', 'virgula', 'propostos', 'incluidos', 'lucro', 'fretes', 'tributos', 'diretas', 'indiretas', 'interposicao', 'cabivel', 'subsidiariamente', 'bombeados', 'mandado', 'contracao', 'nenem', 'edite', 'demitidos', 'evitado', 'elenca', 'municipioorg', 'oficiais', 'piauienses', 'instituicoes', 'sindicatos', 'associacoes', 'tange', 'desaparecimento', 'jornalistas', 'fantasmas', 'aparecerem', 'restringem', 'minimas', 'comprovadas', 'assentamento', 'guia', 'reto', 'confeccionada', 'pre', 'fabricado', 'salientamos', 'tcus', 'solicitaram', 'excluissem', 'barreira', 'deliberada', 'constatada', 'arbitrariedade', 'direcionamento', 'pares', 'belprazer', 'maneiras', 'excluir', 'acontecem', 'estaduais', 'limitarsea', 'aptidao', 'compativel', 'instalacoes', 'aparelhamento', 'adequados', 'responsabilizara', 'registrados', 'competentes', 'limitadas', 'semelhantes', 'vedadas', 'maximos', 'vetado', 'incluido', 'destacamos', 'leitura', 'combinada', 'prescrever', 'referia', 'justamente', 'texto', 'ratificamos', 'tecnicaoperacional', 'exigida', 'comprometer', 'reiteramos', 'cumprase', 'plenitude', 'excluidos', 'ferir', 'joelson', 'contidos', 'habilitou', 'incompleta', 'expressa', 'timbrado', 'dirigente', 'tipos', 'especificados', 'suficientes', 'barreiras', 'responsabilizandose', 'imputadas', 'licenciamento', 'crlv', 'transito', 'aduz', 'leonado', 'leao', 'ligacao', 'encontrava', 'procuracao', 'convenhamos', 'desfeito', 'perdendo', 'referiu', 'representate', 'inabilitacao', 'justifica', 'impediu', 'manupa', 'interpor', 'alegar', 'impedida', 'licitar', 'alegacao', 'alegacoes', 'simone', 'valenca', 'quixoite', 'lugar', 'prevaricacao', 'qualificacoes', 'tendem', 'diminuir', 'competividade', 'semanas', 'vao', 'visite', 'deposito', 'veja', 'feijao', 'conto', 'fara', 'onibus', 'disponibiizou', 'intressadas', 'legaldade', 'manofrando', 'interesses', 'particulares', 'gerar', 'falha', 'punidos', 'corretiva', 'preventiva', 'inexistente', 'inexequiveis', 'computadores', 'notebooks', 'copiadoras', 'insumos', 'fotocopiadoras', 'jesuspi', 'desmotivado', 'beneficia', 'infratores', 'dita', 'venia', 'semestre', 'resolveu', 'empossar', 'procurado', 'lotar', 'especie', 'apadrinhamento', 'evidenciase', 'merito', 'lograr', 'exito', 'efetivamente', 'caracterizando', 'discriminacao', 'oficiou', 'ente', 'surtiu', 'desejado', 'regas', 'desistencias', 'lotados', 'colocada', 'popular', 'trabalhava', 'exonerado', 'apresentei', 'ficou', 'definida', 'receberemos', 'caotica', 'destarte', 'caracteriza', 'desfavor', 'outrem', 'infinitas', 'administrativamente', 'solucao', 'desempregada', 'intervir', 'cometidas', 'preservando', 'relotacao', 'prescreve', 'restritamente', 'preservado', 'igualitario', 'concorrendo', 'formoso', 'desabilitou', 'diantes', 'resaltar', 'vantajosas', 'aceita', 'pala', 'co', 'forme', 'sirvome', 'barra', 'd\\\\', 'alcantarapi', 'visiveis', 'poucas', 'olhadas', 'superfaturamento', 'altissimos', 'quilograma', 'carnes', 'moidas', 'pessima', 'acucares', 'oleo', 'comestivel', 'alugados', 'carros', 'servindo', 'transportar', 'mercadorias', 'supermercado', 'grupo', 'ideal', 'faixa', 'pegar', 'locadora', 'inapropriados', 'finais', 'namoradas', 'descaracterizando', 'utilidade', 'bizarro', 'abastecidos', 'gasolina', 'licitatrio', 'vive', 'esvaziada', 'pergunta', 'ainfelizmente', 'lamentvel', 'entradas', 'saidas', 'hospitalares', 'confirme', 'ressarcido', 'noticiam', 'juntos', 'laranja', 'desvios', 'flagrado', 'mala', 'absoluto', 'sofri', 'sofro', 'perseguicoes', 'politicas', 'conformar', 'reivindicar', 'alcantarenses', 'transferido', 'repressao', 'intimidacao', 'chegando', 'humilhacoes', 'sofridas', 'desrespeita', 'certeza', 'farra', 'caminhar', 'enxugando', 'gelo', 'beneficiadas', 'prit', 'desconformidade', 'tiradas', 'lustosa', 'entramos', 'habilitada', 'comerciais', 'brasileirapi', 'roubo', 'maquiados', 'eleitoreiro', 'leu', 'dale', 'almoco', 'reclamar', 'infracao', 'regulamenta', 'integrado', 'desobediencia', 'culminar', 'atuais', 'regra', 'passa', 'independente', 'saudenobrasil', 'nasf', 'antigo', 'sabia', 'configurar', 'profissao', 'preencher', 'requisito', 'buscamos', 'curimata', 'representado', 'zoraide', 'fernandes', 'valdecir', 'anubete', 'angelino', 'receberam', 'alimentar', 'representar', 'dignidade', 'causando', 'desequilibrio', 'constrangimentos', 'vida', 'cortes', 'regularizar', 'desagradavel', 'registrar', 'andresa', 'matos', 'conivencia', 'estadodo', 'sigilosa', 'anna', 'beatriz', 'passo', 'expor', 'inscritos', 'surpreendidos', 'temeraria', 'marcacao', 'creio', 'despeito', 'trazer', 'merecem', 'promotoria', 'vieram', 'comentarios', 'comecaram', 'reproduzir', 'insistente', 'nessas', 'conversas', 'existiu', 'fraudado', 'ligados', 'gostariam', 'efetivados', 'tavares', 'concorrer', 'adrianna', 'especialista', 'alercio', 'mental', 'ted', 'daniele', 'concunhado', 'moacir', 'pt', 'elo', 'claudia', 'negocio', 'avancado', 'apressado', 'adquirir', 'fraudulenta', 'escolaridade', 'mp', 'estudam', 'dedicam', 'fraudando', 'relatos', 'eleitoras', 'concorre', 'supostamente', 'repassados', 'concluido', 'si', 'demonstraria', 'thalyta', 'intermediado', 'monitoramento', 'listadas', 'telefones', 'oitiva', 'envolvidas', 'alecio', 'mantidos', 'excessivo', 'detalhamento', 'especificacao', 'resulta', 'altamente', 'redirecionado', 'comprometendo', 'eletrica', 'convencional', 'kv', 'subestacoes', 'aereas', 'kva', 'orebe', 'freitaspi', 'microempresas', 'aglutinou', 'microempresa', 'trazidas', 'licitacoesweb', 'adjudicacao', 'incompativel', 'aparente', 'direcionando', 'reduzir', 'optando', 'alzenira', 'pitombeira', 'montorio', 'avaliem', 'diferenca', 'juraci', 'relatou', 'adotou', 'iniciam', 'comecam', 'interessado', 'afirma', 'desligados', 'disse', 'abono', 'repassou', 'adicional', 'repassado', 'indevidos', 'gerardo', 'coronel', 'sinal', 'regionais', 'efetuam', 'atrasam', 'irreal', 'inexig', 'matusalem', 'identificou', 'infringencias', 'avisos', 'fontes', 'httpafraniopegovbrtransparencia', 'passados', 'marcio', 'desclassificada', 'automotivas', 'vendas', 'fornecemos', 'vencido', 'baixo', 'cancelado', 'lobaopi', 'tulio', 'enrique', 'totaliza', 'sucupira', 'riachao', 'jornada', 'semanal', 'suspender', 'comunicado', 'higienizacao', 'realizados', 'psicossocial', 'caps', 'especialidades', 'medicas', 'ciem', 'hernani', 'bruno', 'agrario', 'governador', 'wellington', 'sineinterior', 'sine', 'veda', 'hipotese', 'cessar', 'participou', 'nomeia', 'ocuparem', 'familiares', 'caracterizam', 'puro', 'cultural', 'demerson', 'kassio', 'caracterizado', 'nepotismoimprobidade', 'ajuizada', 'descalabro', 'participando', 'licitario', 'baixos', 'mostras', 'dando', 'enteder', 'beneficiando', 'pcsmo', 'ppra', 'pgrs', 'moveis', 'computador', 'mesas', 'enfim', '``', 'marcelino', 'fatima', 'carroceria', 'aberta', 'infligindo', 'postos', 'rogo', 'atuam', 'fortes', 'repasse', 'incentivo', 'denominado', 'pmaq', 'chamase', 'previne', 'repassando', 'criada', 'impede', 'impedimento', 'recebiamos', 'impasse', 'brasileiros', 'metas', 'cumpridas', 'explicacao', 'concerne', 'supervisor', 'dificil', 'permitino', 'distancia', 'residencia']\n"
          ]
        }
      ]
    },
    {
      "cell_type": "markdown",
      "metadata": {
        "id": "6zuTcCBrHbWk"
      },
      "source": [
        "### Verificar os *n* termos mais similares"
      ]
    },
    {
      "cell_type": "code",
      "metadata": {
        "colab": {
          "base_uri": "https://localhost:8080/"
        },
        "id": "JknmSrVXHbWk",
        "outputId": "833951ee-4c9d-498b-c1d7-f91c29b3ca1a"
      },
      "source": [
        "print(w2v_model.wv.most_similar(positive='licitacao', topn=10))"
      ],
      "execution_count": 17,
      "outputs": [
        {
          "output_type": "stream",
          "name": "stdout",
          "text": [
            "[('nao', 0.9983491897583008), ('objeto', 0.9983422756195068), ('processo', 0.9982179999351501), ('municipal', 0.9981746077537537), ('municipio', 0.9981597065925598), ('ainda', 0.9981438517570496), ('cargo', 0.9980695247650146), ('publico', 0.9980454444885254), ('lei', 0.9980076551437378), ('ser', 0.9979987144470215)]\n"
          ]
        }
      ]
    },
    {
      "cell_type": "markdown",
      "metadata": {
        "id": "XgT3YKfMHbWk"
      },
      "source": [
        "### Região do espaço vetorial dos termos similares"
      ]
    },
    {
      "cell_type": "code",
      "metadata": {
        "colab": {
          "base_uri": "https://localhost:8080/",
          "height": 346
        },
        "id": "JUCALxJJHbWk",
        "outputId": "3777d876-b2d0-4039-d22a-73eb3cdd2d07"
      },
      "source": [
        "display_closestwords_tsnescatterplot(w2v_model, 'licitacao', 100)"
      ],
      "execution_count": 18,
      "outputs": [
        {
          "output_type": "stream",
          "name": "stderr",
          "text": [
            "/usr/local/lib/python3.7/dist-packages/sklearn/manifold/_t_sne.py:783: FutureWarning: The default initialization in TSNE will change from 'random' to 'pca' in 1.2.\n",
            "  FutureWarning,\n",
            "/usr/local/lib/python3.7/dist-packages/sklearn/manifold/_t_sne.py:793: FutureWarning: The default learning rate in TSNE will change from 200.0 to 'auto' in 1.2.\n",
            "  FutureWarning,\n"
          ]
        },
        {
          "output_type": "display_data",
          "data": {
            "image/png": "[encoded data removed]",
            "text/plain": [
              "<Figure size 432x288 with 1 Axes>"
            ]
          },
          "metadata": {
            "needs_background": "light"
          }
        }
      ]
    },
    {
      "cell_type": "markdown",
      "metadata": {
        "id": "jm6igQyFbdRS"
      },
      "source": [
        "## Embbeddings NILC"
      ]
    },
    {
      "cell_type": "code",
      "metadata": {
        "id": "2QodtzKDcM7i"
      },
      "source": [
        "###Embeddings NILC###\n",
        "#in_fp = path+'/cbow_s100.txt'\n",
        "#w2v_model = KeyedVectors.load_word2vec_format(in_fp)"
      ],
      "execution_count": 19,
      "outputs": []
    },
    {
      "cell_type": "markdown",
      "metadata": {
        "id": "SaiAG19ebrZ8"
      },
      "source": [
        "### *N* termos mais similares"
      ]
    },
    {
      "cell_type": "code",
      "metadata": {
        "id": "A83P32UsbqC9"
      },
      "source": [
        "#print(w2v_model.wv.most_similar(positive='contrato', topn=10))"
      ],
      "execution_count": 20,
      "outputs": []
    },
    {
      "cell_type": "markdown",
      "metadata": {
        "id": "5EGVNST8bsgh"
      },
      "source": [
        "### Região do espaço vetorial dos termos similares"
      ]
    },
    {
      "cell_type": "code",
      "metadata": {
        "id": "ra24o5L6bs76",
        "colab": {
          "base_uri": "https://localhost:8080/",
          "height": 346
        },
        "outputId": "8e191e2e-1a4b-449f-ac16-f7b61a36701e"
      },
      "source": [
        "display_closestwords_tsnescatterplot(w2v_model, 'contrato', 100)"
      ],
      "execution_count": 21,
      "outputs": [
        {
          "output_type": "stream",
          "name": "stderr",
          "text": [
            "/usr/local/lib/python3.7/dist-packages/sklearn/manifold/_t_sne.py:783: FutureWarning: The default initialization in TSNE will change from 'random' to 'pca' in 1.2.\n",
            "  FutureWarning,\n",
            "/usr/local/lib/python3.7/dist-packages/sklearn/manifold/_t_sne.py:793: FutureWarning: The default learning rate in TSNE will change from 200.0 to 'auto' in 1.2.\n",
            "  FutureWarning,\n"
          ]
        },
        {
          "output_type": "display_data",
          "data": {
            "image/png": "[encoded data removed]",
            "text/plain": [
              "<Figure size 432x288 with 1 Axes>"
            ]
          },
          "metadata": {
            "needs_background": "light"
          }
        }
      ]
    },
    {
      "cell_type": "markdown",
      "metadata": {
        "id": "qsZhngsOctTB"
      },
      "source": [
        "# Doc2Vec"
      ]
    },
    {
      "cell_type": "markdown",
      "metadata": {
        "id": "26vTdL7IdRof"
      },
      "source": [
        "## Criação das Embeddings Doc2vec"
      ]
    },
    {
      "cell_type": "code",
      "metadata": {
        "id": "q8L9lwdjdQ83"
      },
      "source": [
        "def prepare_corpus(tweets: list):\n",
        "    for i, line in enumerate(tweets):\n",
        "        tokens = gensim.utils.simple_preprocess(line)\n",
        "        yield gensim.models.doc2vec.TaggedDocument(tokens, [i])\n",
        "\n",
        "def train_and_save(vec_size, dm_option,dbow_option):\n",
        "\n",
        "    data = get_data_for_embbedings() \n",
        "    documents = list(prepare_corpus(data))\n",
        "    #model = Doc2Vec(vector_size=vec_size, window=4, min_count=1, epochs=300, sample=1e-4, workers=5)\n",
        "    model = Doc2Vec(vector_size = vec_size, dm=dm_option, dbow_words = dbow_option, window=4, min_count=2, epochs=300, sample=1e-4, workers=5)\n",
        "    model.build_vocab(documents)\n",
        "    model.train(documents, total_examples=model.corpus_count, epochs=model.epochs)\n",
        "    if dm_option == 1:\n",
        "        file_name = 'DM_' + str(vector_size) + '_doc2vec.model'\n",
        "    else:\n",
        "        file_name = 'DBOW_' + str(vector_size) + '_doc2vec.model'\n",
        "    \n",
        "    model.save(path+'/'+ file_name)"
      ],
      "execution_count": 22,
      "outputs": []
    },
    {
      "cell_type": "code",
      "metadata": {
        "colab": {
          "base_uri": "https://localhost:8080/"
        },
        "id": "-11ygzjAozYL",
        "outputId": "2121edb7-8fcd-499e-efa3-f8d3096d52ee"
      },
      "source": [
        "data = get_data_for_embbedings() \n",
        "documents = list(prepare_corpus(data))\n",
        "print(documents[:2])"
      ],
      "execution_count": 23,
      "outputs": [
        {
          "output_type": "stream",
          "name": "stdout",
          "text": [
            "[TaggedDocument(words=['licitacao', 'publicada', 'prazo', 'publicada', 'tce', 'dia', 'abertura', 'dia', 'dados', 'licitacao', 'orgao', 'publico', 'miguel', 'alves', 'processo', 'tce', 'lw', 'procedimento', 'processo', 'administrativo', 'tipo', 'objeto', 'obras', 'servicos', 'engenharia', 'objeto', 'contratacao', 'empresa', 'execucao', 'reformas', 'ubs', 'sao', 'miguel', 'municipio', 'miguel', 'alves', 'dt', 'abertura', 'dt', 'cadastro', 'dt', 'ult', 'alteracao'], tags=[0]), TaggedDocument(words=['venho', 'informar', 'atraves', 'deste', 'divergencia', 'valores', 'edital', 'planilha', 'orcamentaria', 'anexados', 'tribunal', 'contas', 'referente', 'tomada', 'precos', 'processo', 'ndeg', 'dados', 'licitacao', 'orgao', 'publico', 'secretaria', 'agronegocio', 'rural', 'processo', 'tce', 'lw', 'procedimento', 'processo', 'administrativo', 'tipo', 'objeto', 'obras', 'servicos', 'engenharia', 'objeto', 'constitui', 'objeto', 'presente', 'edital', 'contratacao', 'empresa', 'engenharia', 'execucao', 'pavimentacao', 'paralelepipedo', 'vias', 'publicas', 'municipio', 'riacho', 'friopi', 'conforme', 'discriminadas', 'projeto', 'basico', 'mediante', 'regime', 'empreitada', 'preco', 'unitario', 'dt', 'abertura', 'dt', 'cadastro', 'dt', 'ult', 'alteracao'], tags=[1])]\n"
          ]
        }
      ]
    },
    {
      "cell_type": "code",
      "metadata": {
        "colab": {
          "base_uri": "https://localhost:8080/"
        },
        "id": "pRFOzjFXfirN",
        "outputId": "62ee0e6b-771e-4bd3-ea90-c6014a7e64fe"
      },
      "source": [
        "vector_size = 300\n",
        "dm_option = 1\n",
        "dbow_option = 1\n",
        "train_and_save(vector_size, dm_option, dbow_option)\n",
        "print('Vector size ' + str(vector_size) + ' done!')\n",
        "\n",
        "dm_option = 2\n",
        "train_and_save(vector_size, dm_option, dbow_option)\n",
        "print('Vector size ' + str(vector_size) + ' done!')"
      ],
      "execution_count": 24,
      "outputs": [
        {
          "output_type": "stream",
          "name": "stdout",
          "text": [
            "Vector size 300 done!\n",
            "Vector size 300 done!\n"
          ]
        }
      ]
    },
    {
      "cell_type": "markdown",
      "metadata": {
        "id": "-unZ8oRqoUp-"
      },
      "source": [
        "## Carregar o modelo salvo"
      ]
    },
    {
      "cell_type": "code",
      "metadata": {
        "id": "DLjfh3FufZlU"
      },
      "source": [
        "filepath = path+'/DM_300_doc2vec.model'\n",
        "d2v_model = Doc2Vec.load(filepath)"
      ],
      "execution_count": 25,
      "outputs": []
    },
    {
      "cell_type": "markdown",
      "metadata": {
        "id": "JQit4dgCsSm8"
      },
      "source": [
        "## Verificando similariade"
      ]
    },
    {
      "cell_type": "code",
      "metadata": {
        "id": "Vm9NPwxuob6q",
        "colab": {
          "base_uri": "https://localhost:8080/"
        },
        "outputId": "63f27bc2-16cb-4670-ed83-4e921870576d"
      },
      "source": [
        "print(d2v_model.wv.most_similar(positive='licitacao', topn = 10))"
      ],
      "execution_count": 26,
      "outputs": [
        {
          "output_type": "stream",
          "name": "stdout",
          "text": [
            "[('tce', 0.7348222136497498), ('orgao', 0.7333898544311523), ('dados', 0.725977897644043), ('lw', 0.6929720044136047), ('processo', 0.6841155290603638), ('procedimento', 0.6797873973846436), ('administrativo', 0.6451455354690552), ('tipo', 0.6186108589172363), ('objeto', 0.586846649646759), ('abreu', 0.537035346031189)]\n"
          ]
        }
      ]
    },
    {
      "cell_type": "markdown",
      "metadata": {
        "id": "_LwIVpdSXcf7"
      },
      "source": [
        "# Métodos auxiliares para a classificação"
      ]
    },
    {
      "cell_type": "markdown",
      "metadata": {
        "id": "0ptEs6x1suC_"
      },
      "source": [
        "## Uso das embeddings para os modelos de Classificação"
      ]
    },
    {
      "cell_type": "code",
      "metadata": {
        "id": "N9CFUSG5tE77"
      },
      "source": [
        "#Método infer_vector() é responsável por gerar as embeddings nos dados que serão utilizados para as tarefas de ML\n",
        "def transform_d2v_embeddings(d2v_model, X):\n",
        "    train_data = []\n",
        "    \n",
        "    for i in range(len(X)):\n",
        "        model_vector = d2v_model.infer_vector(gensim.utils.simple_preprocess(X[i]))\n",
        "        train_data.append(model_vector)\n",
        "        \n",
        "    return train_data\n",
        "\n",
        "#Método abaixo computa a média das embeddings de cada termo dado as sentenças de entrada.\n",
        "def transform_w2v_embeddings(X, w2v_model, vec_size):\n",
        "    \n",
        "    X_emb = np.zeros((len(X),vec_size), dtype='float64')\n",
        "    n = 0\n",
        "    \n",
        "    for i in X:\n",
        "        '''\n",
        "        if n % 1000 == 0:\n",
        "            print('Data %d of %d', (n, len(X)))\n",
        "        '''   \n",
        "        X_emb[n] = compute_mean_embeddings(i, w2v_model, vec_size)\n",
        "        n = n + 1 \n",
        "    \n",
        "    return X_emb\n",
        "\n",
        "## Computa a média de todos as embeddings em um documento/sentença/parágrafo\n",
        "def compute_mean_embeddings(tokens, w2v_model, vec_size):\n",
        "    \n",
        "    emb_features = np.zeros(vec_size, dtype='float64')\n",
        "    n = 0\n",
        "    \n",
        "    #Conjunto com todos os vetores de palavras do modelo treinado\n",
        "    index2word_set = set(w2v_model.wv.index2word)\n",
        "    \n",
        "    for w in tokens:\n",
        "      #se o token estiver no conjunto, recupera a embedding\n",
        "        if w in index2word_set:\n",
        "            n = n + 1\n",
        "            emb_features = np.add(emb_features, w2v_model[w])\n",
        "    #Cálculo da média\n",
        "    emb_features = np.divide(emb_features, n)\n",
        "    \n",
        "    return emb_features"
      ],
      "execution_count": 27,
      "outputs": []
    },
    {
      "cell_type": "markdown",
      "metadata": {
        "id": "V0VGQ-Gos63q"
      },
      "source": [
        "## Métodos para os Classificadores"
      ]
    },
    {
      "cell_type": "code",
      "metadata": {
        "id": "ILdbEUgxVJ_5"
      },
      "source": [
        "def read_corpus(data_filepath):\n",
        "    \n",
        "    data = pd.read_csv(corpus_filepath, sep=',')\n",
        "    \n",
        "    X = []\n",
        "    y = []\n",
        "    X.extend(data['text'].values)\n",
        "    y.extend(data['prediction'].values)\n",
        "   \n",
        "    return X, y  \n",
        "\n",
        "def split_data_set(X, y, size):\n",
        "    \n",
        "    X_train, X_test, y_train, y_test = train_test_split(X,y,stratify = y, test_size = size, random_state = 42)\n",
        "\n",
        "    return X_train, X_test, y_train, y_test\n",
        "    \n",
        "def run_classifier(classifier, X_train, X_test, y_train, y_test):\n",
        "    \n",
        "    classifier.fit(X_train,y_train)\n",
        "    \n",
        "    pred = classifier.predict(X_test)\n",
        "    \n",
        "    classif_report = classification_report(y_test, pred)\n",
        "    \n",
        "    return classif_report"
      ],
      "execution_count": 28,
      "outputs": []
    },
    {
      "cell_type": "markdown",
      "metadata": {
        "id": "fy1qVjuZbi17"
      },
      "source": [
        "# Aplicação dos modelos em Algoritmos de Aprendizagem de Máquina Supervisionada"
      ]
    },
    {
      "cell_type": "markdown",
      "metadata": {
        "id": "PNwMVYIZb4AC"
      },
      "source": [
        "## Córpus"
      ]
    },
    {
      "cell_type": "code",
      "metadata": {
        "id": "m8ZgTSXQbsMl"
      },
      "source": [
        "corpus_filepath = path+'/irregularidades.csv'\n",
        "#corpus_filepath = path+'/covid_testar_4.csv'\n",
        "\n",
        "X, y = read_corpus(corpus_filepath)"
      ],
      "execution_count": 30,
      "outputs": []
    },
    {
      "cell_type": "markdown",
      "metadata": {
        "id": "-dyxlNAPcNhB"
      },
      "source": [
        "## Modelo Bag of Words"
      ]
    },
    {
      "cell_type": "code",
      "metadata": {
        "id": "Qub5K4RzceDV"
      },
      "source": [
        "def bag_of_words_vectorizer(data, n_range):\n",
        "    \n",
        "    vectorizer = CountVectorizer(strip_accents='ascii', analyzer='word', ngram_range=(1, n_range))\n",
        "    X_bow = vectorizer.fit_transform(data)\n",
        "    \n",
        "    return X_bow, vectorizer"
      ],
      "execution_count": 31,
      "outputs": []
    },
    {
      "cell_type": "code",
      "metadata": {
        "id": "5pVrb3WRrGJ9",
        "colab": {
          "base_uri": "https://localhost:8080/"
        },
        "outputId": "6268d816-c80d-4332-e10b-29928d13a674"
      },
      "source": [
        "X1, vec_bow = bag_of_words_vectorizer(X, 1)\n",
        "X_train, X_test, y_train, y_test = split_data_set(X1,y,0.3)\n",
        "print(run_classifier(SGDClassifier(max_iter=1000, tol=1e-3),X_train, X_test, y_train, y_test))"
      ],
      "execution_count": 32,
      "outputs": [
        {
          "output_type": "stream",
          "name": "stdout",
          "text": [
            "              precision    recall  f1-score   support\n",
            "\n",
            "           1       1.00      0.91      0.95        44\n",
            "           2       0.88      0.64      0.74        11\n",
            "           3       0.67      0.55      0.60        11\n",
            "           4       0.50      0.50      0.50         2\n",
            "           5       0.64      1.00      0.78         7\n",
            "           6       0.60      0.75      0.67         8\n",
            "           7       0.60      0.75      0.67         8\n",
            "           8       0.40      0.50      0.44         4\n",
            "\n",
            "    accuracy                           0.79        95\n",
            "   macro avg       0.66      0.70      0.67        95\n",
            "weighted avg       0.82      0.79      0.79        95\n",
            "\n"
          ]
        }
      ]
    },
    {
      "cell_type": "markdown",
      "metadata": {
        "id": "bOsT1sSrcQuB"
      },
      "source": [
        "## Modelo TF-IDF"
      ]
    },
    {
      "cell_type": "code",
      "metadata": {
        "id": "NMucV-LMcqKe"
      },
      "source": [
        "def tf_idf_vectorizer(data, n_range):\n",
        "       \n",
        "    vectorizer = TfidfVectorizer(strip_accents='ascii', analyzer='word', ngram_range=(1, n_range))\n",
        "    X_tfidf =  vectorizer.fit_transform(data)\n",
        "    \n",
        "    return X_tfidf,vectorizer"
      ],
      "execution_count": 33,
      "outputs": []
    },
    {
      "cell_type": "code",
      "metadata": {
        "colab": {
          "base_uri": "https://localhost:8080/"
        },
        "id": "iFwPG1_prGtN",
        "outputId": "a99f83cd-7c73-47df-9e08-ff5575acfd5e"
      },
      "source": [
        "X1, vec_tf_idf = tf_idf_vectorizer(X, 1)\n",
        "X_train, X_test, y_train, y_test = split_data_set(X1,y,0.3)\n",
        "print(run_classifier(SGDClassifier(max_iter=1000, tol=1e-3),X_train, X_test, y_train, y_test))"
      ],
      "execution_count": 34,
      "outputs": [
        {
          "output_type": "stream",
          "name": "stdout",
          "text": [
            "              precision    recall  f1-score   support\n",
            "\n",
            "           1       0.98      0.95      0.97        44\n",
            "           2       0.67      0.73      0.70        11\n",
            "           3       1.00      0.55      0.71        11\n",
            "           4       0.50      0.50      0.50         2\n",
            "           5       0.75      0.86      0.80         7\n",
            "           6       0.86      0.75      0.80         8\n",
            "           7       0.62      1.00      0.76         8\n",
            "           8       0.50      0.50      0.50         4\n",
            "\n",
            "    accuracy                           0.83        95\n",
            "   macro avg       0.73      0.73      0.72        95\n",
            "weighted avg       0.86      0.83      0.83        95\n",
            "\n"
          ]
        }
      ]
    },
    {
      "cell_type": "markdown",
      "metadata": {
        "id": "b7JB_1POcUAA"
      },
      "source": [
        "## Modelo Word2Vec"
      ]
    },
    {
      "cell_type": "markdown",
      "metadata": {
        "id": "HBDlE_0Feury"
      },
      "source": [
        "### Word2Vec - CBOW"
      ]
    },
    {
      "cell_type": "code",
      "metadata": {
        "id": "3L1a10aMZCYb",
        "colab": {
          "base_uri": "https://localhost:8080/"
        },
        "outputId": "b523a88c-1735-4cc1-d612-16618c3f1b78"
      },
      "source": [
        "vec_size = 100\n",
        "model_cbow_fp = path+'/cbow_100_word2vec.model'\n",
        "w2v_model = Word2Vec.load(model_cbow_fp)\n",
        "X1 = transform_w2v_embeddings(X, w2v_model, vec_size)\n",
        "X_train, X_test, y_train, y_test = split_data_set(X1,y,0.3)\n",
        "print(run_classifier(SGDClassifier(max_iter=1000, tol=1e-3),X_train, X_test, y_train, y_test))"
      ],
      "execution_count": 35,
      "outputs": [
        {
          "output_type": "stream",
          "name": "stderr",
          "text": [
            "/usr/local/lib/python3.7/dist-packages/ipykernel_launcher.py:40: DeprecationWarning: Call to deprecated `__getitem__` (Method will be removed in 4.0.0, use self.wv.__getitem__() instead).\n"
          ]
        },
        {
          "output_type": "stream",
          "name": "stdout",
          "text": [
            "              precision    recall  f1-score   support\n",
            "\n",
            "           1       0.46      1.00      0.63        44\n",
            "           2       0.00      0.00      0.00        11\n",
            "           3       0.00      0.00      0.00        11\n",
            "           4       0.00      0.00      0.00         2\n",
            "           5       0.00      0.00      0.00         7\n",
            "           6       0.00      0.00      0.00         8\n",
            "           7       0.00      0.00      0.00         8\n",
            "           8       0.00      0.00      0.00         4\n",
            "\n",
            "    accuracy                           0.46        95\n",
            "   macro avg       0.06      0.12      0.08        95\n",
            "weighted avg       0.21      0.46      0.29        95\n",
            "\n"
          ]
        },
        {
          "output_type": "stream",
          "name": "stderr",
          "text": [
            "/usr/local/lib/python3.7/dist-packages/sklearn/metrics/_classification.py:1308: UndefinedMetricWarning: Precision and F-score are ill-defined and being set to 0.0 in labels with no predicted samples. Use `zero_division` parameter to control this behavior.\n",
            "  _warn_prf(average, modifier, msg_start, len(result))\n",
            "/usr/local/lib/python3.7/dist-packages/sklearn/metrics/_classification.py:1308: UndefinedMetricWarning: Precision and F-score are ill-defined and being set to 0.0 in labels with no predicted samples. Use `zero_division` parameter to control this behavior.\n",
            "  _warn_prf(average, modifier, msg_start, len(result))\n",
            "/usr/local/lib/python3.7/dist-packages/sklearn/metrics/_classification.py:1308: UndefinedMetricWarning: Precision and F-score are ill-defined and being set to 0.0 in labels with no predicted samples. Use `zero_division` parameter to control this behavior.\n",
            "  _warn_prf(average, modifier, msg_start, len(result))\n"
          ]
        }
      ]
    },
    {
      "cell_type": "markdown",
      "metadata": {
        "id": "aCrLk9WFe3QN"
      },
      "source": [
        "### Word2Vec - Skip-gram"
      ]
    },
    {
      "cell_type": "code",
      "metadata": {
        "colab": {
          "base_uri": "https://localhost:8080/"
        },
        "id": "AfENQuLEcbmp",
        "outputId": "e3d5a6d0-0735-42fd-a1d1-4073c2db5ff5"
      },
      "source": [
        "vec_size = 100\n",
        "model_skip_fp = path+'/skip_100_word2vec.model'\n",
        "w2v_model = Word2Vec.load(model_skip_fp)\n",
        "X1 = transform_w2v_embeddings(X, w2v_model, vec_size)\n",
        "X_train, X_test, y_train, y_test = split_data_set(X1,y,0.3)\n",
        "print(run_classifier(SGDClassifier(max_iter=1000, tol=1e-3),X_train, X_test, y_train, y_test))"
      ],
      "execution_count": 36,
      "outputs": [
        {
          "output_type": "stream",
          "name": "stderr",
          "text": [
            "/usr/local/lib/python3.7/dist-packages/ipykernel_launcher.py:40: DeprecationWarning: Call to deprecated `__getitem__` (Method will be removed in 4.0.0, use self.wv.__getitem__() instead).\n"
          ]
        },
        {
          "output_type": "stream",
          "name": "stdout",
          "text": [
            "              precision    recall  f1-score   support\n",
            "\n",
            "           1       0.00      0.00      0.00        44\n",
            "           2       0.00      0.00      0.00        11\n",
            "           3       0.00      0.00      0.00        11\n",
            "           4       0.02      1.00      0.04         2\n",
            "           5       0.00      0.00      0.00         7\n",
            "           6       0.00      0.00      0.00         8\n",
            "           7       0.00      0.00      0.00         8\n",
            "           8       0.00      0.00      0.00         4\n",
            "\n",
            "    accuracy                           0.02        95\n",
            "   macro avg       0.00      0.12      0.01        95\n",
            "weighted avg       0.00      0.02      0.00        95\n",
            "\n"
          ]
        },
        {
          "output_type": "stream",
          "name": "stderr",
          "text": [
            "/usr/local/lib/python3.7/dist-packages/sklearn/metrics/_classification.py:1308: UndefinedMetricWarning: Precision and F-score are ill-defined and being set to 0.0 in labels with no predicted samples. Use `zero_division` parameter to control this behavior.\n",
            "  _warn_prf(average, modifier, msg_start, len(result))\n",
            "/usr/local/lib/python3.7/dist-packages/sklearn/metrics/_classification.py:1308: UndefinedMetricWarning: Precision and F-score are ill-defined and being set to 0.0 in labels with no predicted samples. Use `zero_division` parameter to control this behavior.\n",
            "  _warn_prf(average, modifier, msg_start, len(result))\n",
            "/usr/local/lib/python3.7/dist-packages/sklearn/metrics/_classification.py:1308: UndefinedMetricWarning: Precision and F-score are ill-defined and being set to 0.0 in labels with no predicted samples. Use `zero_division` parameter to control this behavior.\n",
            "  _warn_prf(average, modifier, msg_start, len(result))\n"
          ]
        }
      ]
    },
    {
      "cell_type": "markdown",
      "metadata": {
        "id": "4nfUZnj8cX66"
      },
      "source": [
        "## Modelo Doc2Vec"
      ]
    },
    {
      "cell_type": "markdown",
      "metadata": {
        "id": "RuL_n97E2TTd"
      },
      "source": [
        "### Doc2Vec DM"
      ]
    },
    {
      "cell_type": "code",
      "metadata": {
        "colab": {
          "base_uri": "https://localhost:8080/"
        },
        "id": "LUFr1sf-q0uo",
        "outputId": "2812a861-0058-4fdf-8a44-0f9630e4cb1f"
      },
      "source": [
        "filepath = path+'/DM_300_doc2vec.model'\n",
        "d2v_model = Doc2Vec.load(filepath)\n",
        "X1 = transform_d2v_embeddings(d2v_model, X)\n",
        "X_train, X_test, y_train, y_test = split_data_set(X1,y,0.3)\n",
        "print(run_classifier(SGDClassifier(max_iter=1000, tol=1e-3),X_train, X_test, y_train, y_test))"
      ],
      "execution_count": 37,
      "outputs": [
        {
          "output_type": "stream",
          "name": "stdout",
          "text": [
            "              precision    recall  f1-score   support\n",
            "\n",
            "           1       0.96      0.98      0.97        44\n",
            "           2       0.62      0.73      0.67        11\n",
            "           3       0.88      0.64      0.74        11\n",
            "           4       0.33      0.50      0.40         2\n",
            "           5       0.70      1.00      0.82         7\n",
            "           6       0.71      0.62      0.67         8\n",
            "           7       0.80      0.50      0.62         8\n",
            "           8       0.50      0.50      0.50         4\n",
            "\n",
            "    accuracy                           0.81        95\n",
            "   macro avg       0.69      0.68      0.67        95\n",
            "weighted avg       0.82      0.81      0.81        95\n",
            "\n"
          ]
        }
      ]
    },
    {
      "cell_type": "markdown",
      "metadata": {
        "id": "vGrj-yss2bGC"
      },
      "source": [
        "### Doc2Vec DBOW"
      ]
    },
    {
      "cell_type": "code",
      "metadata": {
        "id": "eQ3GuxKSZceA",
        "colab": {
          "base_uri": "https://localhost:8080/"
        },
        "outputId": "78685a62-44d9-4db9-b96b-869c2501a7ff"
      },
      "source": [
        "filepath = path+'/DBOW_300_doc2vec.model'\n",
        "d2v_model = Doc2Vec.load(filepath)\n",
        "X1 = transform_d2v_embeddings(d2v_model, X)\n",
        "X_train, X_test, y_train, y_test = split_data_set(X1,y,0.3)\n",
        "print(run_classifier(SGDClassifier(max_iter=1000, tol=1e-3),X_train, X_test, y_train, y_test))"
      ],
      "execution_count": 47,
      "outputs": [
        {
          "output_type": "stream",
          "name": "stdout",
          "text": [
            "              precision    recall  f1-score   support\n",
            "\n",
            "           1       0.95      0.95      0.95        44\n",
            "           2       0.86      0.55      0.67        11\n",
            "           3       0.50      0.82      0.62        11\n",
            "           4       1.00      0.50      0.67         2\n",
            "           5       0.86      0.86      0.86         7\n",
            "           6       0.75      0.75      0.75         8\n",
            "           7       0.80      1.00      0.89         8\n",
            "           8       0.00      0.00      0.00         4\n",
            "\n",
            "    accuracy                           0.82        95\n",
            "   macro avg       0.71      0.68      0.68        95\n",
            "weighted avg       0.81      0.82      0.81        95\n",
            "\n"
          ]
        },
        {
          "output_type": "stream",
          "name": "stderr",
          "text": [
            "/usr/local/lib/python3.7/dist-packages/sklearn/metrics/_classification.py:1308: UndefinedMetricWarning: Precision and F-score are ill-defined and being set to 0.0 in labels with no predicted samples. Use `zero_division` parameter to control this behavior.\n",
            "  _warn_prf(average, modifier, msg_start, len(result))\n",
            "/usr/local/lib/python3.7/dist-packages/sklearn/metrics/_classification.py:1308: UndefinedMetricWarning: Precision and F-score are ill-defined and being set to 0.0 in labels with no predicted samples. Use `zero_division` parameter to control this behavior.\n",
            "  _warn_prf(average, modifier, msg_start, len(result))\n",
            "/usr/local/lib/python3.7/dist-packages/sklearn/metrics/_classification.py:1308: UndefinedMetricWarning: Precision and F-score are ill-defined and being set to 0.0 in labels with no predicted samples. Use `zero_division` parameter to control this behavior.\n",
            "  _warn_prf(average, modifier, msg_start, len(result))\n"
          ]
        }
      ]
    },
    {
      "cell_type": "code",
      "metadata": {
        "id": "N2U6txcZfQrj"
      },
      "source": [
        ""
      ],
      "execution_count": null,
      "outputs": []
    }
  ]
}