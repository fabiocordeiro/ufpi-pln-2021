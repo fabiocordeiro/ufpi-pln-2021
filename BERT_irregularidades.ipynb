{
  "nbformat": 4,
  "nbformat_minor": 0,
  "metadata": {
    "accelerator": "GPU",
    "colab": {
      "name": "BERT_irregularidades.ipynb",
      "provenance": [],
      "collapsed_sections": []
    },
    "kernelspec": {
      "display_name": "Python 3",
      "name": "python3"
    }
  },
  "cells": [
    {
      "cell_type": "markdown",
      "metadata": {
        "id": "mc3o7WZBV10Q"
      },
      "source": [
        "## Instalando a biblioteca Transformers\n",
        "\n",
        "---\n",
        "\n"
      ]
    },
    {
      "cell_type": "code",
      "metadata": {
        "id": "zSHzYW4-jy3b",
        "colab": {
          "base_uri": "https://localhost:8080/"
        },
        "outputId": "81561cc8-461a-404d-9d7a-4af6ae270ed4"
      },
      "source": [
        "from google.colab import drive\n",
        "drive.mount('/content/drive')"
      ],
      "execution_count": 8,
      "outputs": [
        {
          "output_type": "stream",
          "name": "stdout",
          "text": [
            "Drive already mounted at /content/drive; to attempt to forcibly remount, call drive.mount(\"/content/drive\", force_remount=True).\n"
          ]
        }
      ]
    },
    {
      "cell_type": "code",
      "metadata": {
        "id": "aVjUqRxZViUE",
        "colab": {
          "base_uri": "https://localhost:8080/"
        },
        "outputId": "00dd06a0-7d9e-43b5-95e4-f10dbce82bae"
      },
      "source": [
        "!pip install transformers==3"
      ],
      "execution_count": 9,
      "outputs": [
        {
          "output_type": "stream",
          "name": "stdout",
          "text": [
            "Requirement already satisfied: transformers==3 in /usr/local/lib/python3.7/dist-packages (3.0.0)\n",
            "Requirement already satisfied: sentencepiece in /usr/local/lib/python3.7/dist-packages (from transformers==3) (0.1.96)\n",
            "Requirement already satisfied: tokenizers==0.8.0-rc4 in /usr/local/lib/python3.7/dist-packages (from transformers==3) (0.8.0rc4)\n",
            "Requirement already satisfied: numpy in /usr/local/lib/python3.7/dist-packages (from transformers==3) (1.19.5)\n",
            "Requirement already satisfied: regex!=2019.12.17 in /usr/local/lib/python3.7/dist-packages (from transformers==3) (2019.12.20)\n",
            "Requirement already satisfied: tqdm>=4.27 in /usr/local/lib/python3.7/dist-packages (from transformers==3) (4.62.3)\n",
            "Requirement already satisfied: sacremoses in /usr/local/lib/python3.7/dist-packages (from transformers==3) (0.0.46)\n",
            "Requirement already satisfied: filelock in /usr/local/lib/python3.7/dist-packages (from transformers==3) (3.4.0)\n",
            "Requirement already satisfied: requests in /usr/local/lib/python3.7/dist-packages (from transformers==3) (2.23.0)\n",
            "Requirement already satisfied: packaging in /usr/local/lib/python3.7/dist-packages (from transformers==3) (21.3)\n",
            "Requirement already satisfied: pyparsing!=3.0.5,>=2.0.2 in /usr/local/lib/python3.7/dist-packages (from packaging->transformers==3) (3.0.6)\n",
            "Requirement already satisfied: idna<3,>=2.5 in /usr/local/lib/python3.7/dist-packages (from requests->transformers==3) (2.10)\n",
            "Requirement already satisfied: urllib3!=1.25.0,!=1.25.1,<1.26,>=1.21.1 in /usr/local/lib/python3.7/dist-packages (from requests->transformers==3) (1.24.3)\n",
            "Requirement already satisfied: certifi>=2017.4.17 in /usr/local/lib/python3.7/dist-packages (from requests->transformers==3) (2021.10.8)\n",
            "Requirement already satisfied: chardet<4,>=3.0.2 in /usr/local/lib/python3.7/dist-packages (from requests->transformers==3) (3.0.4)\n",
            "Requirement already satisfied: six in /usr/local/lib/python3.7/dist-packages (from sacremoses->transformers==3) (1.15.0)\n",
            "Requirement already satisfied: joblib in /usr/local/lib/python3.7/dist-packages (from sacremoses->transformers==3) (1.1.0)\n",
            "Requirement already satisfied: click in /usr/local/lib/python3.7/dist-packages (from sacremoses->transformers==3) (7.1.2)\n"
          ]
        }
      ]
    },
    {
      "cell_type": "markdown",
      "metadata": {
        "id": "_v0-HqH3YCbo"
      },
      "source": [
        "## Importações"
      ]
    },
    {
      "cell_type": "code",
      "metadata": {
        "id": "BTRaAkkIYEBn"
      },
      "source": [
        "import matplotlib.pyplot as plt\n",
        "import numpy as np\n",
        "import pandas as pd\n",
        "import torch\n",
        "from collections import defaultdict \n",
        "from torch.utils.data import Dataset, DataLoader\n",
        "from transformers import AutoTokenizer, AutoModel, AdamW, get_linear_schedule_with_warmup # bertimbau\n",
        "from sklearn.metrics import classification_report\n",
        "from IPython.display import Image"
      ],
      "execution_count": 10,
      "outputs": []
    },
    {
      "cell_type": "markdown",
      "metadata": {
        "id": "-6EZXBqXYpkN"
      },
      "source": [
        "## Carregando o modelo e o tokenizador"
      ]
    },
    {
      "cell_type": "code",
      "metadata": {
        "id": "SdtU6eOVYohr"
      },
      "source": [
        "pre_trained_model_name = 'neuralmind/bert-base-portuguese-cased'\n",
        "tokenizer = AutoTokenizer.from_pretrained(pre_trained_model_name)\n",
        "model = AutoModel.from_pretrained(pre_trained_model_name)"
      ],
      "execution_count": 11,
      "outputs": []
    },
    {
      "cell_type": "code",
      "metadata": {
        "id": "jbe1ogJlbJDh"
      },
      "source": [
        "#Classe de manipulação de dataset:\n",
        "class Dataset(Dataset):\n",
        "\n",
        "    #Construtor da classe:\n",
        "    def __init__(self, sentences, labels, tokenizer, max_length):\n",
        "        #Armazene as entradas que serão passadas ao modelo:\n",
        "        self.sentences = sentences\n",
        "        \n",
        "        #Armazene as labels que serão utilizadas para treino/validação/teste:\n",
        "        self.labels = labels\n",
        "        \n",
        "        #Armazene o tokenizador:\n",
        "        self.tokenizer = tokenizer\n",
        "        \n",
        "        #Armazene o tamanho máximo das sentenças:\n",
        "        self.max_length = max_length\n",
        "    \n",
        "    #Retorna o número de instâncias:\n",
        "    def __len__(self):\n",
        "        return len(self.sentences)\n",
        "    \n",
        "    #Retorna uma instância completa com base num índice:\n",
        "    def __getitem__(self, index):\n",
        "        #Obtenha a entrada do índice pertinente:\n",
        "        sentence = self.sentences[index]\n",
        "        \n",
        "        #Obtenha a label do índice pertinente:\n",
        "        label = self.labels[index]\n",
        "        \n",
        "        #Tokenize a entrada:\n",
        "        encoding = self.tokenizer.encode_plus(\n",
        "          sentence,\n",
        "          add_special_tokens=True,\n",
        "          max_length=self.max_length,\n",
        "          return_token_type_ids=True,\n",
        "          pad_to_max_length=True,\n",
        "          return_attention_mask=True,\n",
        "          return_tensors='pt', # pytorch\n",
        "          truncation=True\n",
        "        )\n",
        "    \n",
        "        #Obtenha os códigos numéricos da sentença:\n",
        "        input_ids = encoding['input_ids'].flatten()\n",
        "        \n",
        "        #Obtenha os códigos numéricos dos token types:\n",
        "        token_type_ids = encoding['token_type_ids'].flatten()\n",
        "        \n",
        "        #Obtenha a máscara de atenção da sentença:\n",
        "        attention_mask = encoding['attention_mask'].flatten()\n",
        "        \n",
        "        #Transforme a label da instância em um tensor:\n",
        "        label_tensor = torch.tensor(label, dtype=torch.long)\n",
        "        \n",
        "        #Retorne um dicionário com estes dados:\n",
        "        return {\n",
        "          'input_ids': input_ids,\n",
        "          'token_type_ids': token_type_ids,\n",
        "          'attention_mask': attention_mask,\n",
        "          'labels': label_tensor\n",
        "        }"
      ],
      "execution_count": 12,
      "outputs": []
    },
    {
      "cell_type": "markdown",
      "metadata": {
        "id": "9km0pbv1emSQ"
      },
      "source": [
        "## Carregando os dados (Corpus)"
      ]
    },
    {
      "cell_type": "code",
      "metadata": {
        "id": "ov1BI8B-Biq9",
        "colab": {
          "base_uri": "https://localhost:8080/"
        },
        "outputId": "071bcae8-fcbd-4b96-8473-cd221bf37dd4"
      },
      "source": [
        "path = \"drive/MyDrive/Colab Notebooks/Topicos/dados\"\n",
        "df = pd.read_csv(path + '/irregularidades_valid.csv')\n",
        "print(df.head())"
      ],
      "execution_count": 13,
      "outputs": [
        {
          "output_type": "stream",
          "name": "stdout",
          "text": [
            "                                                text  helpfulness\n",
            "0  queixa referente item deg retificacao edital c...            6\n",
            "1  pratica nepotismo prefeito municipal marcos pa...            5\n",
            "2  controladora geral municipio castelo piaui sen...            4\n",
            "3  senhora katia pereira professora manoel emidio...            2\n",
            "4  dados licitacao orgao publico p m guaribas pro...            1\n"
          ]
        }
      ]
    },
    {
      "cell_type": "code",
      "metadata": {
        "id": "94rQ2tdsCcVr",
        "colab": {
          "base_uri": "https://localhost:8080/"
        },
        "outputId": "c05c6d41-aef0-4897-f55a-5221d0fe52c7"
      },
      "source": [
        "# Pegando as sentenças e rótulos\n",
        "sentences = df['text'].values\n",
        "labels = df['helpfulness'].values\n",
        "\n",
        "print('Primeira sentença: ', sentences[0])\n",
        "print('Primeira etiqueta: ', labels[0])"
      ],
      "execution_count": 14,
      "outputs": [
        {
          "output_type": "stream",
          "name": "stdout",
          "text": [
            "Primeira sentença:  queixa referente item deg retificacao edital concurso alepi consoante dispositivo alem vagas fixadas quadro vagas constante item deste edital sera classificado candidato cada area atuacao exceto area biblioteconomia cargos consultor legislativo assessor tecnico legislativo compor cadastro reserva notadamente item fere principios concurso publico moralidade administrativa pois alem vagas imediatas referidos cargos cadastro reserva composto so pessoa denuncio item cadastro reserva ampliado numero justo modo atenda anseios administracao alepi sociedade principios constitucionais especialmente moralidade alem disso nao ha razoabilidade edital concurso publico cujo prazo validade anos estabelecer apenas so pessoa cadastro reserva solicito orgao fiscalizador investigue item obscuro edital alepi referente concurso presente ano ademais manifesto agradecimento atuacao deste orgao referido concurso\n",
            "Primeira etiqueta:  6\n"
          ]
        }
      ]
    },
    {
      "cell_type": "code",
      "metadata": {
        "id": "5BDB1CvresfA",
        "colab": {
          "base_uri": "https://localhost:8080/"
        },
        "outputId": "4267036f-255d-4f66-d62b-5d9314988a3b"
      },
      "source": [
        "# Dataset para testar\n",
        "dtoy = Dataset(sentences, labels, tokenizer, max_length=50)\n",
        "data_inst = next(iter(dtoy))\n",
        "\n",
        "print('Input IDs: ', data_inst['input_ids'])\n",
        "print('Token Type IDs: ', data_inst['token_type_ids'])\n",
        "print('Attention Mask: ', data_inst['attention_mask'])\n",
        "print('Labels: ', data_inst['labels'])"
      ],
      "execution_count": 15,
      "outputs": [
        {
          "output_type": "stream",
          "name": "stdout",
          "text": [
            "Input IDs:  tensor([  101,   179,  1445, 15762, 18685,   125, 22293,  2582,  1282,   304,\n",
            "        22280,   902,  1013,  5826,  1202,  6720, 14325,   175,  8985,  1202,\n",
            "        22287, 10398, 11333,   591,  5634, 10398,  4060, 18685,  2166,   902,\n",
            "         1013,   333, 22278,  8835,  4931,  1078, 12346, 22278,  6475,   304,\n",
            "        22280,  7601, 12346, 22278, 12527, 22219,  4322,  7744, 17835,   102])\n",
            "Token Type IDs:  tensor([0, 0, 0, 0, 0, 0, 0, 0, 0, 0, 0, 0, 0, 0, 0, 0, 0, 0, 0, 0, 0, 0, 0, 0,\n",
            "        0, 0, 0, 0, 0, 0, 0, 0, 0, 0, 0, 0, 0, 0, 0, 0, 0, 0, 0, 0, 0, 0, 0, 0,\n",
            "        0, 0])\n",
            "Attention Mask:  tensor([1, 1, 1, 1, 1, 1, 1, 1, 1, 1, 1, 1, 1, 1, 1, 1, 1, 1, 1, 1, 1, 1, 1, 1,\n",
            "        1, 1, 1, 1, 1, 1, 1, 1, 1, 1, 1, 1, 1, 1, 1, 1, 1, 1, 1, 1, 1, 1, 1, 1,\n",
            "        1, 1])\n",
            "Labels:  tensor(6)\n"
          ]
        }
      ]
    },
    {
      "cell_type": "code",
      "metadata": {
        "id": "8SlrNtlIhn-G",
        "colab": {
          "base_uri": "https://localhost:8080/"
        },
        "outputId": "2bdc3325-a914-4d75-cfeb-77b296e67616"
      },
      "source": [
        "# Dataloader\n",
        "dltoy = DataLoader(dtoy, batch_size=3)\n",
        "batch = next(iter(dltoy))\n",
        "\n",
        "print(\"Input IDs: \", batch['input_ids'])\n",
        "print(\"Token Type IDs: \", batch['token_type_ids'])\n",
        "print(\"Attention Mask: \", batch['attention_mask'])\n",
        "print(\"Labels: \", batch['labels'])"
      ],
      "execution_count": 16,
      "outputs": [
        {
          "output_type": "stream",
          "name": "stdout",
          "text": [
            "Input IDs:  tensor([[  101,   179,  1445, 15762, 18685,   125, 22293,  2582,  1282,   304,\n",
            "         22280,   902,  1013,  5826,  1202,  6720, 14325,   175,  8985,  1202,\n",
            "         22287, 10398, 11333,   591,  5634, 10398,  4060, 18685,  2166,   902,\n",
            "          1013,   333, 22278,  8835,  4931,  1078, 12346, 22278,  6475,   304,\n",
            "         22280,  7601, 12346, 22278, 12527, 22219,  4322,  7744, 17835,   102],\n",
            "        [  101,  8230,   872,  8735,   714,  4125,  4858, 10567, 22281, 18369,\n",
            "          2510,  8060,   181, 21672,   143,  4583,   906,  3897, 22281,  8448,\n",
            "         10034,  7744,   652,  4721, 22280, 10659,   210,  7744, 11098,  1408,\n",
            "          9057,  1103,   559,   247, 10567, 22281, 18369, 13779,  9319,   236,\n",
            "          1016, 11691,   304, 22280,   872,  8735,   714, 21195,  7744,   102],\n",
            "        [  101, 14919,   124,  1250,  1103,   559,   247,  5001, 13779,  1382,\n",
            "         22283, 17704,   856,  7595, 18953, 13381, 11801, 22232, 22278,   331,\n",
            "          4335,  3673,  8990,   430, 22280,   229, 22280, 11331,   151, 15240,\n",
            "          1103,   559,   247,  1589, 12879, 22278,  1103,   559,   247,  9804,\n",
            "          4432, 22281,   289,  1014,   547,   229, 22280,  5093,  2151,   102]])\n",
            "Token Type IDs:  tensor([[0, 0, 0, 0, 0, 0, 0, 0, 0, 0, 0, 0, 0, 0, 0, 0, 0, 0, 0, 0, 0, 0, 0, 0,\n",
            "         0, 0, 0, 0, 0, 0, 0, 0, 0, 0, 0, 0, 0, 0, 0, 0, 0, 0, 0, 0, 0, 0, 0, 0,\n",
            "         0, 0],\n",
            "        [0, 0, 0, 0, 0, 0, 0, 0, 0, 0, 0, 0, 0, 0, 0, 0, 0, 0, 0, 0, 0, 0, 0, 0,\n",
            "         0, 0, 0, 0, 0, 0, 0, 0, 0, 0, 0, 0, 0, 0, 0, 0, 0, 0, 0, 0, 0, 0, 0, 0,\n",
            "         0, 0],\n",
            "        [0, 0, 0, 0, 0, 0, 0, 0, 0, 0, 0, 0, 0, 0, 0, 0, 0, 0, 0, 0, 0, 0, 0, 0,\n",
            "         0, 0, 0, 0, 0, 0, 0, 0, 0, 0, 0, 0, 0, 0, 0, 0, 0, 0, 0, 0, 0, 0, 0, 0,\n",
            "         0, 0]])\n",
            "Attention Mask:  tensor([[1, 1, 1, 1, 1, 1, 1, 1, 1, 1, 1, 1, 1, 1, 1, 1, 1, 1, 1, 1, 1, 1, 1, 1,\n",
            "         1, 1, 1, 1, 1, 1, 1, 1, 1, 1, 1, 1, 1, 1, 1, 1, 1, 1, 1, 1, 1, 1, 1, 1,\n",
            "         1, 1],\n",
            "        [1, 1, 1, 1, 1, 1, 1, 1, 1, 1, 1, 1, 1, 1, 1, 1, 1, 1, 1, 1, 1, 1, 1, 1,\n",
            "         1, 1, 1, 1, 1, 1, 1, 1, 1, 1, 1, 1, 1, 1, 1, 1, 1, 1, 1, 1, 1, 1, 1, 1,\n",
            "         1, 1],\n",
            "        [1, 1, 1, 1, 1, 1, 1, 1, 1, 1, 1, 1, 1, 1, 1, 1, 1, 1, 1, 1, 1, 1, 1, 1,\n",
            "         1, 1, 1, 1, 1, 1, 1, 1, 1, 1, 1, 1, 1, 1, 1, 1, 1, 1, 1, 1, 1, 1, 1, 1,\n",
            "         1, 1]])\n",
            "Labels:  tensor([6, 5, 4])\n"
          ]
        }
      ]
    },
    {
      "cell_type": "markdown",
      "metadata": {
        "id": "im7UnEI3iOxh"
      },
      "source": [
        "## Criando o modelo"
      ]
    },
    {
      "cell_type": "code",
      "metadata": {
        "id": "wXJ1MyggiQVp"
      },
      "source": [
        "#Classificador de toxidade:\n",
        "class ToxicClassifier(torch.nn.Module):\n",
        "\n",
        "    #Construtor da classe\n",
        "    def __init__(self, n_classes, pre_trained_model_name):\n",
        "    \n",
        "        #Inicialize o modelo:\n",
        "        super(ToxicClassifier, self).__init__()\n",
        "        \n",
        "        #Carregue um modelo BERT pré-treinado:\n",
        "        self.bert = AutoModel.from_pretrained(pre_trained_model_name)\n",
        "        # self.dropout = torch.nn.Dropout(0.25)\n",
        "        #Crie a camada linear final para classificação:\n",
        "        self.linear = torch.nn.Linear(self.bert.config.hidden_size, n_classes)\n",
        "\n",
        "    #Função de execução do modelo:\n",
        "    def forward(self, input_ids, attention_mask):\n",
        "        #Passe a entrada pelo modelo BERT:\n",
        "        word_outputs, pooled_output = self.bert(input_ids=input_ids, attention_mask=attention_mask)\n",
        "        \n",
        "        return self.linear(pooled_output)"
      ],
      "execution_count": 17,
      "outputs": []
    },
    {
      "cell_type": "markdown",
      "metadata": {
        "id": "r1CI575noBmt"
      },
      "source": [
        "## Treinando o modelo"
      ]
    },
    {
      "cell_type": "code",
      "metadata": {
        "id": "2J3lUCG_oECq"
      },
      "source": [
        "def training(model, data_loader, loss_fn, optimizer, scheduler, n_examples):\n",
        "    #Coloque o modelo em modo de treinamento:\n",
        "    model = model.train()\n",
        "    \n",
        "    #Inicialize o erro total da epoch:\n",
        "    total_loss = 0 \n",
        "    losses = []\n",
        "    correct_predictions = 0\n",
        "    total_preds = []\n",
        "    \n",
        "    #Para cada batch do data_loader, faça:\n",
        "    for batch in data_loader:\n",
        "        #Obtenha os dados da batch:\n",
        "        input_ids = batch[\"input_ids\"]\n",
        "        attention_mask = batch[\"attention_mask\"]\n",
        "        labels = batch[\"labels\"]\n",
        "        \n",
        "        #Passe os dados pelo modelo:\n",
        "        outputs = model(input_ids=input_ids, attention_mask=attention_mask)\n",
        "        \n",
        "        #Obtenha as predições:\n",
        "        _, preds = torch.max(outputs, dim=1)\n",
        "        total_preds.extend([p.item() for p in preds])\n",
        "        correct_predictions += torch.sum(preds == labels)\n",
        "        \n",
        "        #Calcule o erro:\n",
        "        loss = loss_fn(outputs, labels)\n",
        "        total_loss += loss.item()\n",
        "        losses.append(loss.item())\n",
        "        \n",
        "        #Propague o erro para o modelo, promovendo aprendizado:\n",
        "        loss.backward()\n",
        "        optimizer.step()\n",
        "        scheduler.step()\n",
        "        optimizer.zero_grad()\n",
        "    return total_preds, total_loss, correct_predictions.double() / n_examples, np.mean(losses)"
      ],
      "execution_count": 18,
      "outputs": []
    },
    {
      "cell_type": "markdown",
      "metadata": {
        "id": "XTNOn58YpWPJ"
      },
      "source": [
        "## Avaliando o modelo"
      ]
    },
    {
      "cell_type": "code",
      "metadata": {
        "id": "1AgzPvwIpYy7"
      },
      "source": [
        "def evaluation(model, data_loader, loss_fn, n_examples):\n",
        "    #Coloque o modelo em modo de treinamento:\n",
        "    model = model.eval()\n",
        "    \n",
        "    #Inicialize o erro total da epoch:\n",
        "    total_loss = 0\n",
        "    losses = []\n",
        "    correct_predictions = 0\n",
        "    total_preds = []\n",
        "    \n",
        "    #Para cada batch do data_loader, faça:\n",
        "    with torch.no_grad():\n",
        "      for batch in data_loader:\n",
        "          #Obtenha os dados da batch:\n",
        "          input_ids = batch[\"input_ids\"]\n",
        "          attention_mask = batch[\"attention_mask\"]\n",
        "          labels = batch[\"labels\"]\n",
        "          \n",
        "          #Passe os dados pelo modelo:\n",
        "          outputs = model(input_ids=input_ids, attention_mask=attention_mask)\n",
        "          \n",
        "          #Obtenha as predições:\n",
        "          _, preds = torch.max(outputs, dim=1)\n",
        "          total_preds.extend([p.item() for p in preds])\n",
        "          correct_predictions += torch.sum(preds == labels)\n",
        "          \n",
        "          #Calcule o erro:\n",
        "          loss = loss_fn(outputs, labels)\n",
        "          total_loss += loss.item()\n",
        "          losses.append(loss.item())\n",
        "    return total_preds, total_loss, correct_predictions.double() / n_examples, np.mean(losses)"
      ],
      "execution_count": 19,
      "outputs": []
    },
    {
      "cell_type": "code",
      "metadata": {
        "id": "O8KLLl63C9tf"
      },
      "source": [
        "# Carregar os dados\n",
        "df = pd.read_csv(path + '/irregularidades_train.csv')\n",
        "#sentences_tr = df['text'].values[:100]\n",
        "#labels_tr = df['helpfulness'].values[:100]\n",
        "sentences_tr = df['text']\n",
        "labels_tr = df['helpfulness']\n",
        "\n",
        "df = pd.read_csv(path + '/irregularidades_valid.csv')\n",
        "sentences_va = df['text']\n",
        "labels_va = df['helpfulness']\n",
        "\n",
        "df = pd.read_csv(path + '/irregularidades_test.csv')\n",
        "sentences_te = df['text']\n",
        "labels_te = df['helpfulness']"
      ],
      "execution_count": 20,
      "outputs": []
    },
    {
      "cell_type": "code",
      "metadata": {
        "id": "4RQpRFfJFlRf"
      },
      "source": [
        "# Parâmetros do modelo\n",
        "max_length = 128\n",
        "batch_size = 32\n",
        "num_workers = 2\n",
        "\n",
        "#Crie Datasets para os dados:\n",
        "dtr = Dataset(sentences_tr, labels_tr, tokenizer, max_length)\n",
        "dva = Dataset(sentences_va, labels_va, tokenizer, max_length)\n",
        "dte = Dataset(sentences_te, labels_te, tokenizer, max_length)\n",
        "\n",
        "#Crie DataLoaders para os Datasets:\n",
        "dltr = DataLoader(dtr, batch_size=batch_size, num_workers=num_workers)\n",
        "dlva = DataLoader(dva, batch_size=batch_size, num_workers=num_workers)\n",
        "dlte = DataLoader(dte, batch_size=batch_size, num_workers=num_workers)"
      ],
      "execution_count": 21,
      "outputs": []
    },
    {
      "cell_type": "code",
      "metadata": {
        "id": "ouZNcewpqjmw"
      },
      "source": [
        "#Crie o modelo:\n",
        "toxic_classifier = ToxicClassifier(n_classes=9, pre_trained_model_name=pre_trained_model_name)\n",
        "\n",
        "#Crie elementos de treinamento:\n",
        "epochs = 2\n",
        "total_steps = len(dltr)*epochs\n",
        "loss_function = torch.nn.CrossEntropyLoss()\n",
        "#loss_function = torch.nn.BCELoss()\n",
        "optimizer = AdamW(toxic_classifier.parameters(), lr=4e-5, eps=1e-8)\n",
        "scheduler = get_linear_schedule_with_warmup(optimizer, num_warmup_steps=0, num_training_steps=total_steps)"
      ],
      "execution_count": 22,
      "outputs": []
    },
    {
      "cell_type": "code",
      "metadata": {
        "id": "1qbKkWm5rVc9",
        "colab": {
          "base_uri": "https://localhost:8080/"
        },
        "outputId": "663ef9cc-e566-4ba2-eae2-0aadb5c6b987"
      },
      "source": [
        "# Histórico\n",
        "history = defaultdict(list)\n",
        "\n",
        "#Treine o modelo:\n",
        "for epoch in range(epochs):\n",
        "    #Treine em dados de treinamento:\n",
        "    print(f'Treinando o modelo. Epoch: {epoch}')\n",
        "    preds_tr, total_loss_tr, tr_acc, tr_loss = training(toxic_classifier, dltr, loss_function, optimizer, scheduler, len(sentences_tr))\n",
        "    \n",
        "    #Valide em dados de validação:\n",
        "    print(f'Validando o modelo, Epoch: {epoch}')\n",
        "    preds_va, total_loss_va, va_acc, va_loss = evaluation(toxic_classifier, dlva, loss_function, len(sentences_va))\n",
        "    \n",
        "    #Imprima os erros de treinamento/validação:\n",
        "    print(f'Erro de treinamento: {total_loss_tr} Erro médio: {tr_loss} Acurácia: {tr_acc}')\n",
        "    print(f'Erro de validação: {total_loss_va} Erro médio: {va_loss} Acurácia: {va_acc}')\n",
        "\n",
        "    history['train_acc'].append(tr_acc)\n",
        "    history['train_loss'].append(tr_loss)\n",
        "    history['val_acc'].append(va_acc)\n",
        "    history['val_loss'].append(va_loss)"
      ],
      "execution_count": 23,
      "outputs": [
        {
          "output_type": "stream",
          "name": "stdout",
          "text": [
            "Treinando o modelo. Epoch: 0\n",
            "Validando o modelo, Epoch: 0\n",
            "Erro de treinamento: 11.696597933769226 Erro médio: 1.9494329889615376 Acurácia: 0.36507936507936506\n",
            "Erro de validação: 3.3940389156341553 Erro médio: 1.6970194578170776 Acurácia: 0.4603174603174603\n",
            "Treinando o modelo. Epoch: 1\n",
            "Validando o modelo, Epoch: 1\n",
            "Erro de treinamento: 9.928598165512085 Erro médio: 1.654766360918681 Acurácia: 0.4603174603174603\n",
            "Erro de validação: 3.2041462659835815 Erro médio: 1.6020731329917908 Acurácia: 0.4603174603174603\n"
          ]
        }
      ]
    },
    {
      "cell_type": "markdown",
      "metadata": {
        "id": "qhuh4GbA8szS"
      },
      "source": [
        "## Visualizando o resultado"
      ]
    },
    {
      "cell_type": "code",
      "metadata": {
        "id": "g0Yjkr5s8wWV",
        "colab": {
          "base_uri": "https://localhost:8080/",
          "height": 313
        },
        "outputId": "f71d5fcc-5172-4dca-e8ac-c482d305b4ad"
      },
      "source": [
        "plt.plot(history['train_acc'], label='train accuracy')\n",
        "plt.plot(history['val_acc'], label='validation accuracy')\n",
        "\n",
        "plt.title('Training history')\n",
        "plt.ylabel('Accuracy')\n",
        "plt.xlabel('Epoch')\n",
        "plt.legend()"
      ],
      "execution_count": 24,
      "outputs": [
        {
          "output_type": "execute_result",
          "data": {
            "text/plain": [
              "<matplotlib.legend.Legend at 0x7f001eefd3d0>"
            ]
          },
          "metadata": {},
          "execution_count": 24
        },
        {
          "output_type": "display_data",
          "data": {
            "image/png": "[encoded data removed]",
            "text/plain": [
              "<Figure size 432x288 with 1 Axes>"
            ]
          },
          "metadata": {
            "needs_background": "light"
          }
        }
      ]
    },
    {
      "cell_type": "markdown",
      "metadata": {
        "id": "rHJsoiNMF6-c"
      },
      "source": [
        "## Testando o modelo"
      ]
    },
    {
      "cell_type": "code",
      "metadata": {
        "id": "VjiixzetF5cG",
        "colab": {
          "base_uri": "https://localhost:8080/"
        },
        "outputId": "da5a5c01-7c53-4542-ff31-8e7dd3976f04"
      },
      "source": [
        "#Teste o modelo:\n",
        "preds_te, total_loss_te, te_acc, te_loss = evaluation(toxic_classifier, dlte, loss_function, len(sentences_te))\n",
        "\n",
        "# Relatório\n",
        "print(classification_report(labels_te, preds_te))\n"
      ],
      "execution_count": 25,
      "outputs": [
        {
          "output_type": "stream",
          "name": "stdout",
          "text": [
            "              precision    recall  f1-score   support\n",
            "\n",
            "           1       0.47      1.00      0.64        30\n",
            "           2       0.00      0.00      0.00         7\n",
            "           3       0.00      0.00      0.00         7\n",
            "           4       0.00      0.00      0.00         1\n",
            "           5       0.00      0.00      0.00         4\n",
            "           6       0.00      0.00      0.00         6\n",
            "           7       0.00      0.00      0.00         6\n",
            "           8       0.00      0.00      0.00         3\n",
            "\n",
            "    accuracy                           0.47        64\n",
            "   macro avg       0.06      0.12      0.08        64\n",
            "weighted avg       0.22      0.47      0.30        64\n",
            "\n"
          ]
        },
        {
          "output_type": "stream",
          "name": "stderr",
          "text": [
            "/usr/local/lib/python3.7/dist-packages/sklearn/metrics/_classification.py:1308: UndefinedMetricWarning: Precision and F-score are ill-defined and being set to 0.0 in labels with no predicted samples. Use `zero_division` parameter to control this behavior.\n",
            "  _warn_prf(average, modifier, msg_start, len(result))\n",
            "/usr/local/lib/python3.7/dist-packages/sklearn/metrics/_classification.py:1308: UndefinedMetricWarning: Precision and F-score are ill-defined and being set to 0.0 in labels with no predicted samples. Use `zero_division` parameter to control this behavior.\n",
            "  _warn_prf(average, modifier, msg_start, len(result))\n",
            "/usr/local/lib/python3.7/dist-packages/sklearn/metrics/_classification.py:1308: UndefinedMetricWarning: Precision and F-score are ill-defined and being set to 0.0 in labels with no predicted samples. Use `zero_division` parameter to control this behavior.\n",
            "  _warn_prf(average, modifier, msg_start, len(result))\n"
          ]
        }
      ]
    },
    {
      "cell_type": "code",
      "metadata": {
        "id": "pv_nkL9WC2LE",
        "colab": {
          "base_uri": "https://localhost:8080/"
        },
        "outputId": "f91fc7c6-5376-469e-82ea-0d38379d2c30"
      },
      "source": [
        "#text = 'queria que desem um olhada neste edital pois estão pedindo documentos que tira o direito de outras empresas participarem'\n",
        "text = 'os professores estão com dois messes de salário atrasado os dias de julho servidores com messes'\n",
        "encoded_text = tokenizer.encode_plus(\n",
        "    text,\n",
        "    add_special_tokens=True,\n",
        "    max_length=35,\n",
        "    return_token_type_ids=True,\n",
        "    pad_to_max_length=True,\n",
        "    return_attention_mask=True,\n",
        "    return_tensors='pt', # pytorch\n",
        "    truncation=True\n",
        ")\n",
        "\n",
        "\n",
        "output = toxic_classifier(input_ids=encoded_text['input_ids'], attention_mask=encoded_text['attention_mask'])\n",
        "_, prediction = torch.max(output, dim=1)\n",
        "\n",
        "print(prediction)\n"
      ],
      "execution_count": 26,
      "outputs": [
        {
          "output_type": "stream",
          "name": "stdout",
          "text": [
            "tensor([1])\n"
          ]
        }
      ]
    },
    {
      "cell_type": "code",
      "metadata": {
        "id": "ntIUgCCQDPJ6"
      },
      "source": [
        ""
      ],
      "execution_count": 26,
      "outputs": []
    }
  ]
}